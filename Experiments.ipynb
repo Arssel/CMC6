{
 "cells": [
  {
   "cell_type": "code",
   "execution_count": 10,
   "metadata": {},
   "outputs": [
    {
     "name": "stdout",
     "output_type": "stream",
     "text": [
      "The autoreload extension is already loaded. To reload it, use:\n",
      "  %reload_ext autoreload\n"
     ]
    }
   ],
   "source": [
    "%load_ext autoreload\n",
    "\n",
    "%autoreload 2"
   ]
  },
  {
   "cell_type": "code",
   "execution_count": 2,
   "metadata": {},
   "outputs": [],
   "source": [
    "import os\n",
    "import numpy as np\n",
    "from matplotlib import pyplot as plt\n",
    "import torch\n",
    "from celluloid import Camera\n",
    "from matplotlib.backend_bases import FigureCanvasBase\n",
    "from matplotlib.animation import FuncAnimation\n",
    "from IPython.display import clear_output\n",
    "import pickle\n",
    "\n",
    "import torch\n",
    "import torch.nn as nn\n",
    "import torch.optim as optim\n",
    "import torch.nn.functional as F\n",
    "\n",
    "import timeit\n",
    "\n",
    "from src.environment_old import LogEnv_old\n",
    "from src.utils import path_distance_new\n",
    "from src.vizualisation import demonstration, action_animation\n",
    "from src.evaluation import compute_mean_metric, compute_data_metric, compute_mean_metric_with_or\n",
    "from src.or_functions import compute_distance\n",
    "\n",
    "#from src.environment import LogEnv\n",
    "#from src.train import train\n",
    "#from src.architecture import AttentionModel\n",
    "from src.environment_jampr import LogEnv\n",
    "from src.architecture_jampr import AttentionModel\n",
    "from src.train_jampr import train"
   ]
  },
  {
   "cell_type": "code",
   "execution_count": null,
   "metadata": {},
   "outputs": [],
   "source": [
    "opts = {#'metric': 1.5\n",
    "        'demand_type': {'distribution': 'uniform', 'max_demand':10},\n",
    "        #'tw_type': {'distribution': 'uniform'},\n",
    "        #\"pickup_and_delivery\":True\n",
    "        'depot':{'distribution':'random'}\n",
    "       }"
   ]
  },
  {
   "cell_type": "code",
   "execution_count": 18,
   "metadata": {},
   "outputs": [],
   "source": [
    "model = AttentionModel().to(\"cuda\")"
   ]
  },
  {
   "cell_type": "code",
   "execution_count": 19,
   "metadata": {
    "scrolled": true
   },
   "outputs": [
    {
     "name": "stderr",
     "output_type": "stream",
     "text": [
      "\n",
      "\n",
      "\n",
      "\n",
      "\n",
      "\n",
      "\n",
      "\n",
      "\n",
      "\n",
      "  0%|                                                                                            | 0/1 [00:00<?, ?it/s]\u001b[A\u001b[A\u001b[A\u001b[A\u001b[A\u001b[A\u001b[A\u001b[A\u001b[A\u001b[A"
     ]
    },
    {
     "ename": "KeyboardInterrupt",
     "evalue": "",
     "output_type": "error",
     "traceback": [
      "\u001b[1;31m---------------------------------------------------------------------------\u001b[0m",
      "\u001b[1;31mKeyboardInterrupt\u001b[0m                         Traceback (most recent call last)",
      "\u001b[1;32m<timed eval>\u001b[0m in \u001b[0;36m<module>\u001b[1;34m\u001b[0m\n",
      "\u001b[1;32mD:\\Arseniy\\Studies\\Sci\\CMC6\\src\\train_jampr.py\u001b[0m in \u001b[0;36mtrain\u001b[1;34m(model, device, batch_size, epochs, T, lr, problem_size, decay)\u001b[0m\n\u001b[0;32m     45\u001b[0m             \u001b[0mlog_prob_seq\u001b[0m \u001b[1;33m=\u001b[0m \u001b[1;33m[\u001b[0m\u001b[1;33m]\u001b[0m\u001b[1;33m\u001b[0m\u001b[1;33m\u001b[0m\u001b[0m\n\u001b[0;32m     46\u001b[0m             \u001b[1;32mwhile\u001b[0m \u001b[1;32mnot\u001b[0m \u001b[0mflag_done\u001b[0m\u001b[1;33m:\u001b[0m\u001b[1;33m\u001b[0m\u001b[1;33m\u001b[0m\u001b[0m\n\u001b[1;32m---> 47\u001b[1;33m                 \u001b[0mv\u001b[0m\u001b[1;33m,\u001b[0m \u001b[0mp\u001b[0m \u001b[1;33m=\u001b[0m \u001b[0mmodel\u001b[0m\u001b[1;33m(\u001b[0m\u001b[0mfeatures\u001b[0m\u001b[1;33m,\u001b[0m \u001b[0mmask\u001b[0m\u001b[1;33m,\u001b[0m \u001b[0mt\u001b[0m\u001b[1;33m,\u001b[0m\u001b[1;33m)\u001b[0m\u001b[1;33m\u001b[0m\u001b[1;33m\u001b[0m\u001b[0m\n\u001b[0m\u001b[0;32m     48\u001b[0m                 \u001b[0mv\u001b[0m \u001b[1;33m=\u001b[0m \u001b[0mv\u001b[0m\u001b[1;33m.\u001b[0m\u001b[0mto\u001b[0m\u001b[1;33m(\u001b[0m\u001b[1;34m'cpu'\u001b[0m\u001b[1;33m)\u001b[0m\u001b[1;33m\u001b[0m\u001b[1;33m\u001b[0m\u001b[0m\n\u001b[0;32m     49\u001b[0m                 \u001b[0mlog_prob_seq\u001b[0m\u001b[1;33m.\u001b[0m\u001b[0mappend\u001b[0m\u001b[1;33m(\u001b[0m\u001b[0mtorch\u001b[0m\u001b[1;33m.\u001b[0m\u001b[0mlog\u001b[0m\u001b[1;33m(\u001b[0m\u001b[0mp\u001b[0m\u001b[1;33m)\u001b[0m\u001b[1;33m)\u001b[0m\u001b[1;33m\u001b[0m\u001b[1;33m\u001b[0m\u001b[0m\n",
      "\u001b[1;32mC:\\ProgramData\\Anaconda3\\lib\\site-packages\\torch\\nn\\modules\\module.py\u001b[0m in \u001b[0;36m_call_impl\u001b[1;34m(self, *input, **kwargs)\u001b[0m\n\u001b[0;32m    725\u001b[0m             \u001b[0mresult\u001b[0m \u001b[1;33m=\u001b[0m \u001b[0mself\u001b[0m\u001b[1;33m.\u001b[0m\u001b[0m_slow_forward\u001b[0m\u001b[1;33m(\u001b[0m\u001b[1;33m*\u001b[0m\u001b[0minput\u001b[0m\u001b[1;33m,\u001b[0m \u001b[1;33m**\u001b[0m\u001b[0mkwargs\u001b[0m\u001b[1;33m)\u001b[0m\u001b[1;33m\u001b[0m\u001b[1;33m\u001b[0m\u001b[0m\n\u001b[0;32m    726\u001b[0m         \u001b[1;32melse\u001b[0m\u001b[1;33m:\u001b[0m\u001b[1;33m\u001b[0m\u001b[1;33m\u001b[0m\u001b[0m\n\u001b[1;32m--> 727\u001b[1;33m             \u001b[0mresult\u001b[0m \u001b[1;33m=\u001b[0m \u001b[0mself\u001b[0m\u001b[1;33m.\u001b[0m\u001b[0mforward\u001b[0m\u001b[1;33m(\u001b[0m\u001b[1;33m*\u001b[0m\u001b[0minput\u001b[0m\u001b[1;33m,\u001b[0m \u001b[1;33m**\u001b[0m\u001b[0mkwargs\u001b[0m\u001b[1;33m)\u001b[0m\u001b[1;33m\u001b[0m\u001b[1;33m\u001b[0m\u001b[0m\n\u001b[0m\u001b[0;32m    728\u001b[0m         for hook in itertools.chain(\n\u001b[0;32m    729\u001b[0m                 \u001b[0m_global_forward_hooks\u001b[0m\u001b[1;33m.\u001b[0m\u001b[0mvalues\u001b[0m\u001b[1;33m(\u001b[0m\u001b[1;33m)\u001b[0m\u001b[1;33m,\u001b[0m\u001b[1;33m\u001b[0m\u001b[1;33m\u001b[0m\u001b[0m\n",
      "\u001b[1;32mD:\\Arseniy\\Studies\\Sci\\CMC6\\src\\architecture_jampr.py\u001b[0m in \u001b[0;36mforward\u001b[1;34m(self, features, mask, t, sample)\u001b[0m\n\u001b[0;32m    196\u001b[0m             \u001b[0mlast\u001b[0m \u001b[1;33m=\u001b[0m \u001b[0mself\u001b[0m\u001b[1;33m.\u001b[0m\u001b[0mh\u001b[0m\u001b[1;33m[\u001b[0m\u001b[0mr\u001b[0m\u001b[1;33m,\u001b[0m \u001b[0mlast\u001b[0m\u001b[1;33m,\u001b[0m \u001b[1;33m:\u001b[0m\u001b[1;33m]\u001b[0m\u001b[1;33m.\u001b[0m\u001b[0mview\u001b[0m\u001b[1;33m(\u001b[0m\u001b[0mbsz\u001b[0m\u001b[1;33m,\u001b[0m \u001b[1;33m-\u001b[0m\u001b[1;36m1\u001b[0m\u001b[1;33m)\u001b[0m\u001b[1;33m\u001b[0m\u001b[1;33m\u001b[0m\u001b[0m\n\u001b[0;32m    197\u001b[0m             \u001b[0mtup\u001b[0m \u001b[1;33m=\u001b[0m \u001b[1;33m(\u001b[0m\u001b[0mself\u001b[0m\u001b[1;33m.\u001b[0m\u001b[0mh\u001b[0m\u001b[1;33m,\u001b[0m \u001b[0mself\u001b[0m\u001b[1;33m.\u001b[0m\u001b[0mh_g\u001b[0m\u001b[1;33m,\u001b[0m \u001b[0mvehicle_act\u001b[0m\u001b[1;33m,\u001b[0m \u001b[0mfleet\u001b[0m\u001b[1;33m,\u001b[0m \u001b[0mact\u001b[0m\u001b[1;33m,\u001b[0m \u001b[0mlast\u001b[0m\u001b[1;33m,\u001b[0m \u001b[0mself\u001b[0m\u001b[1;33m.\u001b[0m\u001b[0mact_num\u001b[0m\u001b[1;33m)\u001b[0m\u001b[1;33m\u001b[0m\u001b[1;33m\u001b[0m\u001b[0m\n\u001b[1;32m--> 198\u001b[1;33m             \u001b[1;32mreturn\u001b[0m \u001b[0mself\u001b[0m\u001b[1;33m.\u001b[0m\u001b[0mdecoder\u001b[0m\u001b[1;33m(\u001b[0m\u001b[0mtup\u001b[0m\u001b[1;33m,\u001b[0m \u001b[0mmask\u001b[0m\u001b[1;33m,\u001b[0m \u001b[0mt\u001b[0m\u001b[1;33m,\u001b[0m \u001b[0msample\u001b[0m\u001b[1;33m,\u001b[0m \u001b[0mself\u001b[0m\u001b[1;33m.\u001b[0m\u001b[0mprecomputed\u001b[0m\u001b[1;33m)\u001b[0m\u001b[1;33m\u001b[0m\u001b[1;33m\u001b[0m\u001b[0m\n\u001b[0m",
      "\u001b[1;32mC:\\ProgramData\\Anaconda3\\lib\\site-packages\\torch\\nn\\modules\\module.py\u001b[0m in \u001b[0;36m_call_impl\u001b[1;34m(self, *input, **kwargs)\u001b[0m\n\u001b[0;32m    725\u001b[0m             \u001b[0mresult\u001b[0m \u001b[1;33m=\u001b[0m \u001b[0mself\u001b[0m\u001b[1;33m.\u001b[0m\u001b[0m_slow_forward\u001b[0m\u001b[1;33m(\u001b[0m\u001b[1;33m*\u001b[0m\u001b[0minput\u001b[0m\u001b[1;33m,\u001b[0m \u001b[1;33m**\u001b[0m\u001b[0mkwargs\u001b[0m\u001b[1;33m)\u001b[0m\u001b[1;33m\u001b[0m\u001b[1;33m\u001b[0m\u001b[0m\n\u001b[0;32m    726\u001b[0m         \u001b[1;32melse\u001b[0m\u001b[1;33m:\u001b[0m\u001b[1;33m\u001b[0m\u001b[1;33m\u001b[0m\u001b[0m\n\u001b[1;32m--> 727\u001b[1;33m             \u001b[0mresult\u001b[0m \u001b[1;33m=\u001b[0m \u001b[0mself\u001b[0m\u001b[1;33m.\u001b[0m\u001b[0mforward\u001b[0m\u001b[1;33m(\u001b[0m\u001b[1;33m*\u001b[0m\u001b[0minput\u001b[0m\u001b[1;33m,\u001b[0m \u001b[1;33m**\u001b[0m\u001b[0mkwargs\u001b[0m\u001b[1;33m)\u001b[0m\u001b[1;33m\u001b[0m\u001b[1;33m\u001b[0m\u001b[0m\n\u001b[0m\u001b[0;32m    728\u001b[0m         for hook in itertools.chain(\n\u001b[0;32m    729\u001b[0m                 \u001b[0m_global_forward_hooks\u001b[0m\u001b[1;33m.\u001b[0m\u001b[0mvalues\u001b[0m\u001b[1;33m(\u001b[0m\u001b[1;33m)\u001b[0m\u001b[1;33m,\u001b[0m\u001b[1;33m\u001b[0m\u001b[1;33m\u001b[0m\u001b[0m\n",
      "\u001b[1;32mD:\\Arseniy\\Studies\\Sci\\CMC6\\src\\architecture_jampr.py\u001b[0m in \u001b[0;36mforward\u001b[1;34m(self, tup, mask, t, sample, precomputed)\u001b[0m\n\u001b[0;32m     88\u001b[0m         pwm = (vehicle[:, :, :, None] * (h.permute(0, 2, 1).unsqueeze(1))).permute(0, 1, 3, 2).reshape(bsz,\n\u001b[0;32m     89\u001b[0m                                                                                                          \u001b[0mgraph_size\u001b[0m \u001b[1;33m*\u001b[0m \u001b[0mk\u001b[0m\u001b[1;33m,\u001b[0m\u001b[1;33m\u001b[0m\u001b[1;33m\u001b[0m\u001b[0m\n\u001b[1;32m---> 90\u001b[1;33m                                                                                                          -1)\n\u001b[0m\u001b[0;32m     91\u001b[0m         \u001b[0mg_a\u001b[0m \u001b[1;33m=\u001b[0m \u001b[0mself\u001b[0m\u001b[1;33m.\u001b[0m\u001b[0mlin_nodes_veh\u001b[0m\u001b[1;33m(\u001b[0m\u001b[0mtorch\u001b[0m\u001b[1;33m.\u001b[0m\u001b[0mcat\u001b[0m\u001b[1;33m(\u001b[0m\u001b[1;33m(\u001b[0m\u001b[0mmm\u001b[0m\u001b[1;33m,\u001b[0m \u001b[0mpwm\u001b[0m\u001b[1;33m)\u001b[0m\u001b[1;33m,\u001b[0m \u001b[0mdim\u001b[0m\u001b[1;33m=\u001b[0m\u001b[1;36m2\u001b[0m\u001b[1;33m)\u001b[0m\u001b[1;33m)\u001b[0m\u001b[1;33m.\u001b[0m\u001b[0mreshape\u001b[0m\u001b[1;33m(\u001b[0m\u001b[0mbsz\u001b[0m\u001b[1;33m,\u001b[0m \u001b[0mk\u001b[0m\u001b[1;33m,\u001b[0m \u001b[0mgraph_size\u001b[0m\u001b[1;33m,\u001b[0m \u001b[1;33m-\u001b[0m\u001b[1;36m1\u001b[0m\u001b[1;33m)\u001b[0m\u001b[1;33m\u001b[0m\u001b[1;33m\u001b[0m\u001b[0m\n\u001b[0;32m     92\u001b[0m         \u001b[0mg_a\u001b[0m \u001b[1;33m=\u001b[0m \u001b[0mg_a\u001b[0m \u001b[1;33m+\u001b[0m \u001b[0mh_proj\u001b[0m\u001b[1;33m[\u001b[0m\u001b[1;33m:\u001b[0m\u001b[1;33m,\u001b[0m \u001b[1;32mNone\u001b[0m\u001b[1;33m,\u001b[0m \u001b[1;33m:\u001b[0m\u001b[1;33m,\u001b[0m \u001b[1;33m:\u001b[0m\u001b[1;33m]\u001b[0m \u001b[1;33m+\u001b[0m \u001b[0mveh_proj\u001b[0m\u001b[1;33m[\u001b[0m\u001b[1;33m:\u001b[0m\u001b[1;33m,\u001b[0m \u001b[1;33m:\u001b[0m\u001b[1;33m,\u001b[0m \u001b[1;32mNone\u001b[0m\u001b[1;33m,\u001b[0m \u001b[1;33m:\u001b[0m\u001b[1;33m]\u001b[0m\u001b[1;33m\u001b[0m\u001b[1;33m\u001b[0m\u001b[0m\n",
      "\u001b[1;32mC:\\ProgramData\\Anaconda3\\lib\\traceback.py\u001b[0m in \u001b[0;36mformat_stack\u001b[1;34m(f, limit)\u001b[0m\n\u001b[0;32m    191\u001b[0m \u001b[1;33m\u001b[0m\u001b[0m\n\u001b[0;32m    192\u001b[0m \u001b[1;33m\u001b[0m\u001b[0m\n\u001b[1;32m--> 193\u001b[1;33m \u001b[1;32mdef\u001b[0m \u001b[0mformat_stack\u001b[0m\u001b[1;33m(\u001b[0m\u001b[0mf\u001b[0m\u001b[1;33m=\u001b[0m\u001b[1;32mNone\u001b[0m\u001b[1;33m,\u001b[0m \u001b[0mlimit\u001b[0m\u001b[1;33m=\u001b[0m\u001b[1;32mNone\u001b[0m\u001b[1;33m)\u001b[0m\u001b[1;33m:\u001b[0m\u001b[1;33m\u001b[0m\u001b[1;33m\u001b[0m\u001b[0m\n\u001b[0m\u001b[0;32m    194\u001b[0m     \u001b[1;34m\"\"\"Shorthand for 'format_list(extract_stack(f, limit))'.\"\"\"\u001b[0m\u001b[1;33m\u001b[0m\u001b[1;33m\u001b[0m\u001b[0m\n\u001b[0;32m    195\u001b[0m     \u001b[1;32mif\u001b[0m \u001b[0mf\u001b[0m \u001b[1;32mis\u001b[0m \u001b[1;32mNone\u001b[0m\u001b[1;33m:\u001b[0m\u001b[1;33m\u001b[0m\u001b[1;33m\u001b[0m\u001b[0m\n",
      "\u001b[1;31mKeyboardInterrupt\u001b[0m: "
     ]
    }
   ],
   "source": [
    "%%time\n",
    "train(model,'cuda', epochs=1, T=1000, lr=1e-4, batch_size=128, problem_size=20)"
   ]
  },
  {
   "cell_type": "code",
   "execution_count": 35,
   "metadata": {},
   "outputs": [
    {
     "data": {
      "text/plain": [
       "126.0"
      ]
     },
     "execution_count": 35,
     "metadata": {},
     "output_type": "execute_result"
    }
   ],
   "source": [
    "2646/21"
   ]
  },
  {
   "cell_type": "markdown",
   "metadata": {},
   "source": [
    "## Анимация"
   ]
  },
  {
   "cell_type": "code",
   "execution_count": null,
   "metadata": {},
   "outputs": [],
   "source": [
    "opts = {'demand_type': {'distribution': 'uniform', 'max_demand':10},\n",
    "        #'tw_type': {'distribution': 'uniform'},\n",
    "        #\"pickup_and_delivery\":True\n",
    "       }\n",
    "\n",
    "n = 10\n",
    "batch_size = 1\n",
    "env = LogEnv(batch_size=batch_size, n=n, opts=opts)\n",
    "\n",
    "features, distances, mask = env.reset()\n",
    "\n",
    "demonstration(env, opts)"
   ]
  },
  {
   "cell_type": "code",
   "execution_count": null,
   "metadata": {},
   "outputs": [],
   "source": [
    "actions_ext = np.array([2, 7, 3, 5, 1, 0, 6, 8, 9, 4])\n",
    "action_animation(env, opts, actions_ext, '1-OtOPDTW.gif', 500)"
   ]
  },
  {
   "cell_type": "markdown",
   "metadata": {},
   "source": [
    "## Проверка модели CVRP, обученной на сервере"
   ]
  },
  {
   "cell_type": "code",
   "execution_count": null,
   "metadata": {},
   "outputs": [],
   "source": [
    "# DTSP_20_Dec_20_21_14_09_2020.pkl\n",
    "#\n",
    "# TWTSP_20_Dec_24_05_51_22_2020.pkl\n",
    "# \n",
    "# PDTSP_20_Dec_23_07_07_17_2020.pkl\n",
    "#"
   ]
  },
  {
   "cell_type": "code",
   "execution_count": 8,
   "metadata": {},
   "outputs": [],
   "source": [
    "file_name = 'TWTSP_20_Dec_24_05_51_22_2020'"
   ]
  },
  {
   "cell_type": "code",
   "execution_count": 9,
   "metadata": {},
   "outputs": [],
   "source": [
    "f = open('./models/' + file_name + '.pkl', 'rb')\n",
    "weights = pickle.load(f)\n",
    "f.close()"
   ]
  },
  {
   "cell_type": "code",
   "execution_count": 10,
   "metadata": {},
   "outputs": [],
   "source": [
    "f = open('./models/' + file_name + '_loss.pkl', 'rb')\n",
    "loss = pickle.load(f)\n",
    "f.close()"
   ]
  },
  {
   "cell_type": "code",
   "execution_count": 11,
   "metadata": {},
   "outputs": [],
   "source": [
    "f = open('./models/' + file_name + '_reward.pkl', 'rb')\n",
    "reward = pickle.load(f)\n",
    "f.close()"
   ]
  },
  {
   "cell_type": "code",
   "execution_count": 26,
   "metadata": {},
   "outputs": [
    {
     "data": {
      "image/png": "[encoded data removed]",
      "text/plain": [
       "<Figure size 576x576 with 1 Axes>"
      ]
     },
     "metadata": {
      "needs_background": "light"
     },
     "output_type": "display_data"
    }
   ],
   "source": [
    "fig = plt.figure(figsize=(8,8))\n",
    "ax = fig.add_subplot(1, 1, 1)\n",
    "ax.set_xscale('log')\n",
    "plt.plot(reward)\n",
    "plt.xlabel('iteration', fontsize=20)\n",
    "plt.ylabel('mean sum of distance and penalty', fontsize=20)\n",
    "plt.grid()\n",
    "fig.savefig('reward_20_twtsp.png')"
   ]
  },
  {
   "cell_type": "code",
   "execution_count": 27,
   "metadata": {},
   "outputs": [
    {
     "data": {
      "image/png": "[encoded data removed]",
      "text/plain": [
       "<Figure size 576x576 with 1 Axes>"
      ]
     },
     "metadata": {
      "needs_background": "light"
     },
     "output_type": "display_data"
    }
   ],
   "source": [
    "fig = plt.figure(figsize=(8,8))\n",
    "ax = fig.add_subplot(1, 1, 1)\n",
    "ax.set_xscale('log')\n",
    "plt.plot(loss)\n",
    "plt.xlabel('iteration', fontsize=20)\n",
    "plt.ylabel('mean iteration loss', fontsize=20)\n",
    "plt.grid()\n",
    "fig.savefig('loss_20_twtsp.png')"
   ]
  },
  {
   "cell_type": "code",
   "execution_count": 28,
   "metadata": {},
   "outputs": [
    {
     "data": {
      "text/plain": [
       "<All keys matched successfully>"
      ]
     },
     "execution_count": 28,
     "metadata": {},
     "output_type": "execute_result"
    }
   ],
   "source": [
    "model = AttentionModel().to(\"cuda\")\n",
    "model.load_state_dict(weights)"
   ]
  },
  {
   "cell_type": "code",
   "execution_count": 29,
   "metadata": {},
   "outputs": [
    {
     "name": "stdout",
     "output_type": "stream",
     "text": [
      "r\n"
     ]
    }
   ],
   "source": [
    "model.eval()\n",
    "print('r')"
   ]
  },
  {
   "cell_type": "code",
   "execution_count": 30,
   "metadata": {},
   "outputs": [],
   "source": [
    "opts = {#'metric': 1.5\n",
    "        #'demand_type': {'distribution': 'uniform', 'max_demand':10},\n",
    "        'tw_type': {'distribution': 'uniform', 'service_time': 0},\n",
    "        #\"pickup_and_delivery\":True\n",
    "        'depot':{'distribution':'random'}\n",
    "       }"
   ]
  },
  {
   "cell_type": "code",
   "execution_count": null,
   "metadata": {
    "scrolled": true
   },
   "outputs": [],
   "source": [
    "%%time\n",
    "compute_mean_metric_with_or(model, device=\"cuda\", n=20, batch_size=2, T=1, options=opts, sample=False, time_limit=0.06)"
   ]
  },
  {
   "cell_type": "code",
   "execution_count": null,
   "metadata": {},
   "outputs": [],
   "source": [
    "compute_mean_metric(model, device=\"cuda\", n=20, batch_size=250, T=40, opts=opts, sample=False)"
   ]
  },
  {
   "cell_type": "code",
   "execution_count": 31,
   "metadata": {},
   "outputs": [],
   "source": [
    "device = 'cuda'"
   ]
  },
  {
   "cell_type": "code",
   "execution_count": null,
   "metadata": {},
   "outputs": [],
   "source": [
    "env = LogEnv(n=10, batch_size=2, opts=opts)\n",
    "\n",
    "features, distances, mask, context = env.reset()\n",
    "features = torch.Tensor(features).to(device)\n",
    "context = torch.Tensor(context).to(device)\n",
    "\n",
    "print(features[:, :, 2])\n",
    "#print(features[:, :, 3:5])\n",
    "#print(env._pairs)\n",
    "mask = env.init_mask()\n",
    "context = env.set_context()\n",
    "\n",
    "flag_done = False\n",
    "t = 0\n",
    "\n",
    "while not flag_done:\n",
    "    print(mask)\n",
    "    v1 = int(input())\n",
    "    v2 = int(input())\n",
    "    v = torch.tensor([v1, v2], dtype=torch.int64)\n",
    "    v = v.reshape(2,-1)\n",
    "    with torch.no_grad():\n",
    "        mask, flag_done, context = env.step(v)\n",
    "        context = torch.Tensor(context).to(device)\n",
    "    t += 1\n",
    "\n",
    "route = torch.tensor(env._cur_route, dtype=int)"
   ]
  },
  {
   "cell_type": "code",
   "execution_count": 32,
   "metadata": {},
   "outputs": [
    {
     "ename": "NameError",
     "evalue": "name 'env' is not defined",
     "output_type": "error",
     "traceback": [
      "\u001b[1;31m---------------------------------------------------------------------------\u001b[0m",
      "\u001b[1;31mNameError\u001b[0m                                 Traceback (most recent call last)",
      "\u001b[1;32m<ipython-input-32-1a334208e02f>\u001b[0m in \u001b[0;36m<module>\u001b[1;34m\u001b[0m\n\u001b[1;32m----> 1\u001b[1;33m \u001b[0menv\u001b[0m\u001b[1;33m.\u001b[0m\u001b[0m_cur_route\u001b[0m\u001b[1;33m\u001b[0m\u001b[1;33m\u001b[0m\u001b[0m\n\u001b[0m",
      "\u001b[1;31mNameError\u001b[0m: name 'env' is not defined"
     ]
    }
   ],
   "source": [
    "env._cur_route"
   ]
  },
  {
   "cell_type": "code",
   "execution_count": 33,
   "metadata": {},
   "outputs": [
    {
     "ename": "NameError",
     "evalue": "name 'env' is not defined",
     "output_type": "error",
     "traceback": [
      "\u001b[1;31m---------------------------------------------------------------------------\u001b[0m",
      "\u001b[1;31mNameError\u001b[0m                                 Traceback (most recent call last)",
      "\u001b[1;32m<ipython-input-33-c3b0e72d16d9>\u001b[0m in \u001b[0;36m<module>\u001b[1;34m\u001b[0m\n\u001b[1;32m----> 1\u001b[1;33m \u001b[0mpath_distance_new\u001b[0m\u001b[1;33m(\u001b[0m\u001b[0menv\u001b[0m\u001b[1;33m.\u001b[0m\u001b[0m_distances\u001b[0m\u001b[1;33m,\u001b[0m \u001b[0menv\u001b[0m\u001b[1;33m.\u001b[0m\u001b[0m_cur_route\u001b[0m\u001b[1;33m)\u001b[0m\u001b[1;33m\u001b[0m\u001b[1;33m\u001b[0m\u001b[0m\n\u001b[0m",
      "\u001b[1;31mNameError\u001b[0m: name 'env' is not defined"
     ]
    }
   ],
   "source": [
    "path_distance_new(env._distances, env._cur_route)"
   ]
  },
  {
   "cell_type": "code",
   "execution_count": 34,
   "metadata": {
    "scrolled": true
   },
   "outputs": [],
   "source": [
    "env = LogEnv_old(n=20, batch_size=1, opts=opts)\n",
    "\n",
    "features, distances, mask, context = env.reset()\n",
    "features = torch.Tensor(features).to(device)\n",
    "context = torch.Tensor(context).to(device)\n",
    "flag_done = False\n",
    "t = 0\n",
    "\n",
    "while not flag_done:\n",
    "    v, _ = model(features, mask, t, context, flags=env._flags)\n",
    "    v = v.to('cpu')\n",
    "    with torch.no_grad():\n",
    "        mask, flag_done, context = env.step(v)\n",
    "        context = torch.Tensor(context).to(device)\n",
    "    t += 1\n",
    "\n",
    "route = torch.tensor(env._cur_route, dtype=int)"
   ]
  },
  {
   "cell_type": "code",
   "execution_count": 35,
   "metadata": {},
   "outputs": [],
   "source": [
    "actions_ext = route.squeeze().tolist()"
   ]
  },
  {
   "cell_type": "code",
   "execution_count": 36,
   "metadata": {
    "scrolled": true
   },
   "outputs": [
    {
     "data": {
      "text/plain": [
       "[6, 16, 12, 18, 0, 13, 9, 19, 8, 15, 10, 11, 3, 1, 7, 2, 5, 4, 17, 14]"
      ]
     },
     "execution_count": 36,
     "metadata": {},
     "output_type": "execute_result"
    }
   ],
   "source": [
    "actions_ext"
   ]
  },
  {
   "cell_type": "code",
   "execution_count": 37,
   "metadata": {},
   "outputs": [
    {
     "name": "stdout",
     "output_type": "stream",
     "text": [
      "current time: 0.98\n",
      "not attended vertexes: None\n"
     ]
    },
    {
     "data": {
      "image/png": "[encoded data removed]",
      "text/plain": [
       "<Figure size 1008x576 with 1 Axes>"
      ]
     },
     "metadata": {
      "needs_background": "light"
     },
     "output_type": "display_data"
    }
   ],
   "source": [
    "demonstration(env, opts, actions_ext=None)"
   ]
  },
  {
   "cell_type": "code",
   "execution_count": null,
   "metadata": {},
   "outputs": [],
   "source": [
    "action_animation(env, opts, actions_ext, '1-OtOPDTW.gif', 500)"
   ]
  },
  {
   "cell_type": "code",
   "execution_count": null,
   "metadata": {},
   "outputs": [],
   "source": [
    "route"
   ]
  },
  {
   "cell_type": "markdown",
   "metadata": {},
   "source": [
    "## Проверка TSP random по сравнению с TSP 20 и TSP 50"
   ]
  },
  {
   "cell_type": "code",
   "execution_count": null,
   "metadata": {},
   "outputs": [],
   "source": []
  },
  {
   "cell_type": "markdown",
   "metadata": {},
   "source": [
    "## Проверка TSP 20 и TSP 50 на реальных данных"
   ]
  },
  {
   "cell_type": "markdown",
   "metadata": {},
   "source": [
    "### TSP 50"
   ]
  },
  {
   "cell_type": "code",
   "execution_count": null,
   "metadata": {},
   "outputs": [],
   "source": [
    "f = open('./data/parsed_data/dataset_50.pkl', 'rb')\n",
    "\n",
    "dataset_50 = pickle.load(f)\n",
    "\n",
    "f.close()\n",
    "\n",
    "f = open('./data/parsed_data/dataset_dist_50.pkl', 'rb')\n",
    "\n",
    "dataset_dist_50 = pickle.load(f)\n",
    "\n",
    "f.close()\n",
    "\n",
    "dist = list(map(lambda x: x[:, :, 0].reshape(-1, 50, 50), dataset_dist_50))\n",
    "data = list(map(lambda x: {'dots': x.reshape(-1, 50, 2)}, dataset_50))"
   ]
  },
  {
   "cell_type": "code",
   "execution_count": null,
   "metadata": {},
   "outputs": [],
   "source": [
    "%%time\n",
    "or_res = []\n",
    "avg_time = 6.9/len(data)\n",
    "for i in range(len(dist)):\n",
    "    or_res.append(compute_distance(dist[i].reshape(50, 50), eps=1e-2, time_limit=avg_time))"
   ]
  },
  {
   "cell_type": "code",
   "execution_count": null,
   "metadata": {},
   "outputs": [],
   "source": [
    "f = open('./models/TSP_50_Dec__2_03_37_08_2020.pkl', 'rb')\n",
    "weights = pickle.load(f)\n",
    "f.close()\n",
    "\n",
    "model = AttentionModel().to(\"cuda\")\n",
    "model.load_state_dict(weights)\n",
    "model.eval()\n",
    "distances = compute_data_metric(model, data, dist, device, 50, opts)\n",
    "\n",
    "fig = plt.figure(figsize=(8,8))\n",
    "plt.plot((1 - or_res/distances)*100)\n",
    "plt.plot(np.arange(len(or_res)), np.ones((len(or_res)))*(1 - or_res/distances).mean()*100)\n",
    "plt.grid()\n",
    "plt.xlabel('problem instance', fontsize=20)\n",
    "plt.ylabel('%', fontsize=20)\n",
    "plt.ylim((-5, 55))\n",
    "plt.plot(np.arange(len(or_res)), np.zeros((len(or_res))), 'black', linewidth=1.5)\n",
    "plt.legend(['gap to OR-tools', 'mean gap'], fontsize=12)\n",
    "\n",
    "print((1 - or_res/distances).mean())\n",
    "print((1 - or_res/distances)*100)\n",
    "plt.savefig('50_2.jpg')"
   ]
  },
  {
   "cell_type": "code",
   "execution_count": null,
   "metadata": {},
   "outputs": [],
   "source": [
    "f = open('./models/TSP_50_Dec__4_18_08_05_2020_1_5.pkl', 'rb')\n",
    "weights = pickle.load(f)\n",
    "f.close()\n",
    "\n",
    "model = AttentionModel().to(\"cuda\")\n",
    "model.load_state_dict(weights)\n",
    "model.eval()\n",
    "\n",
    "\n",
    "opts = {}\n",
    "device = 'cuda'\n",
    "\n",
    "distances = compute_data_metric(model, data, dist, device, 50, opts)\n",
    "\n",
    "fig = plt.figure(figsize=(8,8))\n",
    "plt.plot((1 - or_res/distances)*100)\n",
    "plt.plot(np.arange(len(or_res)), np.ones((len(or_res)))*(1 - or_res/distances).mean()*100)\n",
    "plt.grid()\n",
    "plt.xlabel('problem instance', fontsize=20)\n",
    "plt.ylabel('%', fontsize=20)\n",
    "plt.ylim((-5, 55))\n",
    "plt.plot(np.arange(len(or_res)), np.zeros((len(or_res))), 'black', linewidth=1.5)\n",
    "plt.legend(['gap to OR-tools', 'mean gap'], fontsize=12)\n",
    "\n",
    "print((1 - or_res/distances).mean())\n",
    "print((1 - or_res/distances)*100)\n",
    "plt.savefig('50_1_5.jpg')"
   ]
  },
  {
   "cell_type": "code",
   "execution_count": null,
   "metadata": {},
   "outputs": [],
   "source": [
    "((1 - or_res/distances)*100)[37]"
   ]
  },
  {
   "cell_type": "code",
   "execution_count": null,
   "metadata": {},
   "outputs": [],
   "source": [
    "fig = plt.figure(figsize=(8,8))\n",
    "plt.scatter(data[37]['dots'].squeeze()[:, 0], data[37]['dots'].squeeze()[:, 1])\n",
    "plt.xlabel('x', fontsize=20)\n",
    "plt.ylabel('y', fontsize=20)\n",
    "plt.grid()\n",
    "plt.savefig('50_37.jpg')"
   ]
  },
  {
   "cell_type": "code",
   "execution_count": null,
   "metadata": {},
   "outputs": [],
   "source": [
    "fig = plt.figure(figsize=(8,8))\n",
    "plt.scatter(data[49]['dots'].squeeze()[:, 0], data[49]['dots'].squeeze()[:, 1])\n",
    "plt.xlabel('x', fontsize=20)\n",
    "plt.ylabel('y', fontsize=20)\n",
    "plt.grid()\n",
    "plt.savefig('50_49.jpg')"
   ]
  },
  {
   "cell_type": "code",
   "execution_count": null,
   "metadata": {},
   "outputs": [],
   "source": [
    "f = open('./models/TSP_50_Dec_10_03_33_58_2020_1.pkl', 'rb')\n",
    "weights = pickle.load(f)\n",
    "f.close()\n",
    "\n",
    "model = AttentionModel().to(\"cuda\")\n",
    "model.load_state_dict(weights)\n",
    "model.eval()\n",
    "distances = compute_data_metric(model, data, dist, device, 50, opts)\n",
    "\n",
    "fig = plt.figure(figsize=(8,8))\n",
    "plt.plot((1 - or_res/distances)*100)\n",
    "plt.plot(np.arange(len(or_res)), np.ones((len(or_res)))*(1 - or_res/distances).mean()*100)\n",
    "print((1 - or_res/distances).mean())\n",
    "print((1 - or_res/distances)*100)\n",
    "plt.grid()\n",
    "plt.xlabel('problem instance', fontsize=20)\n",
    "plt.ylabel('%', fontsize=20)\n",
    "plt.ylim((-5, 55))\n",
    "plt.plot(np.arange(len(or_res)), np.zeros((len(or_res))), 'black', linewidth=1.5)\n",
    "plt.legend(['gap to OR-tools', 'mean gap'], fontsize=12)\n",
    "\n",
    "\n",
    "plt.savefig('50_1.jpg')"
   ]
  },
  {
   "cell_type": "markdown",
   "metadata": {},
   "source": [
    "### TSP 20"
   ]
  },
  {
   "cell_type": "code",
   "execution_count": null,
   "metadata": {},
   "outputs": [],
   "source": [
    "f = open('./data/parsed_data/dataset_20.pkl', 'rb')\n",
    "\n",
    "dataset_20 = pickle.load(f)\n",
    "\n",
    "f.close()\n",
    "\n",
    "f = open('./data/parsed_data/dataset_dist_20.pkl', 'rb')\n",
    "\n",
    "dataset_dist_20 = pickle.load(f)\n",
    "\n",
    "f.close()\n",
    "\n",
    "dist = list(map(lambda x: x[:, :, 0].reshape(-1, 20, 20), dataset_dist_20))\n",
    "data = list(map(lambda x: {'dots': x.reshape(-1, 20, 2)}, dataset_20))\n",
    "\n",
    "device = 'cuda'\n",
    "opts = {}"
   ]
  },
  {
   "cell_type": "code",
   "execution_count": null,
   "metadata": {},
   "outputs": [],
   "source": [
    "%%time\n",
    "or_res = []\n",
    "avg_time = 3.3/len(data)\n",
    "for i in range(len(dist)):\n",
    "    data_input = {}\n",
    "    data_input['dist'] = dist[i].reshape(20, 20)\n",
    "    or_res.append(compute_distance(data_input, eps=1e-2, time_limit=avg_time))"
   ]
  },
  {
   "cell_type": "code",
   "execution_count": null,
   "metadata": {},
   "outputs": [],
   "source": [
    "f = open('./models/TSP_20_Dec__2_22_09_52_2020.pkl', 'rb')\n",
    "weights = pickle.load(f)\n",
    "f.close()\n",
    "\n",
    "model = AttentionModel().to(\"cuda\")\n",
    "model.load_state_dict(weights)\n",
    "model.eval()\n",
    "\n",
    "distances = compute_data_metric(model, data, dist, device, 20, opts)\n",
    "\n",
    "fig = plt.figure(figsize=(8,8))\n",
    "plt.plot(100*(1 - or_res/distances))\n",
    "plt.plot(np.arange(len(or_res)), np.ones((len(or_res)))*(1 - or_res/distances).mean()*100, '--')\n",
    "print((1 - or_res/distances).mean())\n",
    "print((1 - or_res/distances)*100)\n",
    "plt.grid()\n",
    "plt.xlabel('problem instance', fontsize=20)\n",
    "plt.ylabel('%', fontsize=20)\n",
    "plt.ylim((-5, 45))\n",
    "plt.plot(np.arange(len(or_res)), np.zeros((len(or_res))), 'black',linewidth=1.5)\n",
    "plt.legend(['gap to OR-tools', 'mean gap'], fontsize=12)\n",
    "plt.savefig('20_2.jpg')"
   ]
  },
  {
   "cell_type": "code",
   "execution_count": null,
   "metadata": {
    "scrolled": false
   },
   "outputs": [],
   "source": [
    "f = open('./models/TSP_20_Dec__3_05_28_40_2020_1_5.pkl', 'rb')\n",
    "weights = pickle.load(f)\n",
    "f.close()\n",
    "\n",
    "model = AttentionModel().to(\"cuda\")\n",
    "model.load_state_dict(weights)\n",
    "model.eval()\n",
    "\n",
    "distances = compute_data_metric(model, data, dist, device, 20, opts)\n",
    "\n",
    "fig = plt.figure(figsize=(8,8))\n",
    "plt.plot(100*(1 - or_res/distances))\n",
    "plt.plot(np.arange(len(or_res)), np.ones((len(or_res)))*(1 - or_res/distances).mean()*100, '--')\n",
    "print((1 - or_res/distances).mean())\n",
    "print((1 - or_res/distances)*100)\n",
    "plt.grid()\n",
    "plt.xlabel('problem instance', fontsize=20)\n",
    "plt.ylabel('%', fontsize=20)\n",
    "plt.ylim((-5, 45))\n",
    "plt.plot(np.arange(len(or_res)), np.zeros((len(or_res))), 'black', linewidth=1.5)\n",
    "plt.legend(['gap to OR-tools', 'mean gap'], fontsize=12)\n",
    "plt.savefig('20_1_5.jpg')"
   ]
  },
  {
   "cell_type": "code",
   "execution_count": null,
   "metadata": {},
   "outputs": [],
   "source": [
    "fig = plt.figure(figsize=(8,8))\n",
    "plt.scatter(data[44]['dots'].squeeze()[:, 0], data[44]['dots'].squeeze()[:, 1])\n",
    "plt.xlabel('x', fontsize=20)\n",
    "plt.ylabel('y', fontsize=20)\n",
    "plt.grid()\n",
    "plt.savefig('20_44.jpg')"
   ]
  },
  {
   "cell_type": "code",
   "execution_count": null,
   "metadata": {},
   "outputs": [],
   "source": [
    "fig = plt.figure(figsize=(8,8))\n",
    "plt.scatter(data[10]['dots'].squeeze()[:, 0], data[10]['dots'].squeeze()[:, 1])\n",
    "plt.xlabel('x', fontsize=20)\n",
    "plt.ylabel('y', fontsize=20)\n",
    "plt.grid()\n",
    "plt.savefig('20_10.jpg')"
   ]
  },
  {
   "cell_type": "code",
   "execution_count": null,
   "metadata": {},
   "outputs": [],
   "source": [
    "((1 - or_res/distances)*100)[10]"
   ]
  },
  {
   "cell_type": "code",
   "execution_count": null,
   "metadata": {},
   "outputs": [],
   "source": [
    "f = open('./models/TSP_20_Dec__9_12_16_36_2020_1.pkl', 'rb')\n",
    "weights = pickle.load(f)\n",
    "f.close()\n",
    "\n",
    "model = AttentionModel().to(\"cuda\")\n",
    "model.load_state_dict(weights)\n",
    "model.eval()\n",
    "\n",
    "distances = compute_data_metric(model, data, dist, device, 20, opts)\n",
    "\n",
    "fig = plt.figure(figsize=(8,8))\n",
    "plt.plot(100*(1 - or_res/distances))\n",
    "plt.plot(np.arange(len(or_res)), np.ones((len(or_res)))*(1 - or_res/distances).mean()*100, '--')\n",
    "print((1 - or_res/distances).mean())\n",
    "print((1 - or_res/distances)*100)\n",
    "plt.grid()\n",
    "plt.xlabel('problem instance', fontsize=20)\n",
    "plt.ylabel('%', fontsize=20)\n",
    "plt.ylim((-5, 45))\n",
    "plt.plot(np.arange(len(or_res)), np.zeros((len(or_res))), 'black', linewidth=1.5)\n",
    "plt.legend(['gap to OR-tools', 'mean gap'], fontsize=12)\n",
    "plt.savefig('20_1.jpg')"
   ]
  },
  {
   "cell_type": "markdown",
   "metadata": {},
   "source": [
    "## Эксперименты с разным способом генерации данных"
   ]
  },
  {
   "cell_type": "code",
   "execution_count": null,
   "metadata": {},
   "outputs": [],
   "source": [
    "f = open('./models/TSP_20_Dec__2_22_09_52_2020.pkl', 'rb')\n",
    "weights = pickle.load(f)\n",
    "f.close()\n",
    "\n",
    "model = AttentionModel().to(\"cuda\")\n",
    "model.load_state_dict(weights)\n",
    "model.eval()\n",
    "print('r')\n",
    "\n"
   ]
  },
  {
   "cell_type": "code",
   "execution_count": null,
   "metadata": {},
   "outputs": [],
   "source": [
    "%%time\n",
    "\n",
    "opts = {}\n",
    "device = 'cuda'\n",
    "\n",
    "model_metric, or_metric = compute_mean_metric_with_or(model, device=\"cuda\", n=20, batch_size=250, T=10, opts=opts, sample=False, time_limit=0.2)\n",
    "print(model_metric)\n",
    "print(or_metric)"
   ]
  },
  {
   "cell_type": "code",
   "execution_count": null,
   "metadata": {},
   "outputs": [],
   "source": [
    "opts = {'graph_type': {'distribution':'normal_capped', 'sigma': 'default', 'cov': 'default'}}\n",
    "device = 'cuda'\n",
    "\n",
    "model_metric, or_metric = compute_mean_metric_with_or(model, device=\"cuda\", n=20, batch_size=250, T=10, opts=opts, sample=False, time_limit=0.2)\n",
    "print(model_metric)\n",
    "print(or_metric)"
   ]
  },
  {
   "cell_type": "code",
   "execution_count": null,
   "metadata": {},
   "outputs": [],
   "source": [
    "%%time\n",
    "opts = {'graph_type': {'distribution':'centroids', 'num_cent':'poisson', 'lambda': 'default'}}\n",
    "device = 'cuda'\n",
    "\n",
    "model_metric, or_metric = compute_mean_metric_with_or(model, device=\"cuda\", n=20, batch_size=250, T=10, opts=opts, sample=False, time_limit=0.2)\n",
    "print(model_metric)\n",
    "print(or_metric)"
   ]
  },
  {
   "cell_type": "code",
   "execution_count": null,
   "metadata": {},
   "outputs": [],
   "source": [
    "f = open('./models/TSP_50_Dec__2_03_37_08_2020.pkl', 'rb')\n",
    "weights = pickle.load(f)\n",
    "f.close()\n",
    "\n",
    "model = AttentionModel().to(\"cuda\")\n",
    "model.load_state_dict(weights)\n",
    "model.eval()\n",
    "print('r')"
   ]
  },
  {
   "cell_type": "code",
   "execution_count": null,
   "metadata": {},
   "outputs": [],
   "source": [
    "%%time\n",
    "opts = {}\n",
    "device = 'cuda'\n",
    "\n",
    "model_metric, or_metric = compute_mean_metric_with_or(model, device=\"cuda\", n=50, batch_size=250, T=10, opts=opts, sample=False, time_limit=0.2)\n",
    "print(model_metric)\n",
    "print(or_metric)"
   ]
  },
  {
   "cell_type": "code",
   "execution_count": null,
   "metadata": {},
   "outputs": [],
   "source": [
    "%%time\n",
    "opts = {'graph_type': {'distribution':'normal_capped', 'sigma': 'default', 'cov': 'default'}}\n",
    "device = 'cuda'\n",
    "\n",
    "model_metric, or_metric = compute_mean_metric_with_or(model, device=\"cuda\", n=50, batch_size=250, T=10, opts=opts, sample=False, time_limit=0.2)\n",
    "print(model_metric)\n",
    "print(or_metric)"
   ]
  },
  {
   "cell_type": "code",
   "execution_count": null,
   "metadata": {},
   "outputs": [],
   "source": [
    "%%time\n",
    "opts = {'graph_type': {'distribution':'centroids', 'num_cent':'poisson', 'lambda': 'default'}}\n",
    "device = 'cuda'\n",
    "\n",
    "model_metric, or_metric = compute_mean_metric_with_or(model, device=\"cuda\", n=50, batch_size=250, T=10, opts=opts, sample=False, time_limit=0.2)\n",
    "print(model_metric)\n",
    "print(or_metric)"
   ]
  },
  {
   "cell_type": "markdown",
   "metadata": {},
   "source": [
    "## Эксперименты с обученной моделью для различных размерностей"
   ]
  },
  {
   "cell_type": "code",
   "execution_count": null,
   "metadata": {},
   "outputs": [],
   "source": [
    "f = open('./models/TSP_random_Dec__9_08_40_44_2020.pkl', 'rb')\n",
    "weights = pickle.load(f)\n",
    "f.close()\n",
    "\n",
    "model = AttentionModel().to(\"cuda\")\n",
    "model.load_state_dict(weights)\n",
    "model.eval()\n",
    "print('r')"
   ]
  },
  {
   "cell_type": "code",
   "execution_count": null,
   "metadata": {},
   "outputs": [],
   "source": [
    "n_array = np.array([20, 30, 40, 50, 60, 70, 80]) \n",
    "\n",
    "opts = {}\n",
    "device = 'cuda'"
   ]
  },
  {
   "cell_type": "code",
   "execution_count": null,
   "metadata": {},
   "outputs": [],
   "source": [
    "m_list = []\n",
    "or_list = []\n",
    "for n in n_array:\n",
    "    a, b = compute_mean_metric_with_or(model, device=\"cuda\", n=n, batch_size=250, T=10, opts=opts, sample=False, time_limit=0.2)\n",
    "    m_list.append(a)\n",
    "    or_list.append(b)\n",
    "\n",
    "m_array = np.array(m_list)\n",
    "or_array = np.array(or_list)\n",
    "\n",
    "print(m_array)\n",
    "print(or_array)"
   ]
  },
  {
   "cell_type": "code",
   "execution_count": null,
   "metadata": {},
   "outputs": [],
   "source": [
    "f = open('./models/TSP_20_Dec__2_22_09_52_2020.pkl', 'rb')\n",
    "weights = pickle.load(f)\n",
    "f.close()\n",
    "\n",
    "model = AttentionModel().to(\"cuda\")\n",
    "model.load_state_dict(weights)\n",
    "model.eval()\n",
    "print('r')"
   ]
  },
  {
   "cell_type": "code",
   "execution_count": null,
   "metadata": {},
   "outputs": [],
   "source": [
    "%%time\n",
    "m_list = []\n",
    "or_list = []\n",
    "for n in n_array:\n",
    "    print(n)\n",
    "    a, b = compute_mean_metric_with_or(model, device=\"cuda\", n=n, batch_size=250, T=10, opts=opts, sample=False, time_limit=0.2)\n",
    "    m_list.append(a)\n",
    "    or_list.append(b)\n",
    "\n",
    "m_array = np.array(m_list)\n",
    "or_array = np.array(or_list)\n",
    "\n",
    "print(m_array)\n",
    "print(or_array)"
   ]
  },
  {
   "cell_type": "code",
   "execution_count": null,
   "metadata": {},
   "outputs": [],
   "source": [
    "f = open('./models/TSP_50_Dec__2_03_37_08_2020.pkl', 'rb')\n",
    "weights = pickle.load(f)\n",
    "f.close()\n",
    "\n",
    "model = AttentionModel().to(\"cuda\")\n",
    "model.load_state_dict(weights)\n",
    "model.eval()\n",
    "print('r')"
   ]
  },
  {
   "cell_type": "code",
   "execution_count": null,
   "metadata": {},
   "outputs": [],
   "source": [
    "%%time\n",
    "m_list = []\n",
    "or_list = []\n",
    "for n in n_array:\n",
    "    print(n)\n",
    "    a, b = compute_mean_metric_with_or(model, device=\"cuda\", n=n, batch_size=250, T=10, opts=opts, sample=False, time_limit=0.2)\n",
    "    m_list.append(a)\n",
    "    or_list.append(b)\n",
    "\n",
    "m_array = np.array(m_list)\n",
    "or_array = np.array(or_list)\n",
    "\n",
    "print(m_array)\n",
    "print(or_array)"
   ]
  },
  {
   "cell_type": "code",
   "execution_count": null,
   "metadata": {},
   "outputs": [],
   "source": [
    "model_r = np.array([3.87050629,4.62435837,5.27152544,5.81636443,6.33917975,6.83483149,7.31087901])\n",
    "model_20 = np.array([3.84305319,4.60641323,5.28611594,5.93525022,6.56958162,7.19202682,7.80516384])\n",
    "model_50 = np.array([3.87700804,4.63563028,5.25374926,5.81009937,6.35052951,6.8391449, 7.31601485])\n",
    "or_tools_r = np.array([3.8343843,4.59459426,5.26263097,5.81793746,6.34257443,6.81399806,7.27161865])\n",
    "or_tools_20 = np.array([3.83344753,4.59501778,5.25193204,5.82680912,6.33722093,6.81935426,7.26293028])\n",
    "ot_tools_50 = np.array([3.83328594,4.59883794,5.24471187,5.81640416,6.3336697,6.8100551, 7.26375723])"
   ]
  },
  {
   "cell_type": "code",
   "execution_count": null,
   "metadata": {},
   "outputs": [],
   "source": [
    "fig = plt.figure(figsize=(8,8))\n",
    "plt.plot(n_array, 100*(1-or_tools_r/model_r))\n",
    "plt.plot(n_array, 100*(1-or_tools_20/model_20))\n",
    "plt.plot(n_array, 100*(1-ot_tools_50/model_50))\n",
    "plt.grid()\n",
    "plt.legend(['random TSP', 'TSP 20', 'TSP 50'])\n",
    "plt.xlabel('problem size', fontsize=20)\n",
    "plt.ylabel('%', fontsize=20)\n",
    "plt.savefig('n_test.jpg')"
   ]
  },
  {
   "cell_type": "code",
   "execution_count": null,
   "metadata": {},
   "outputs": [],
   "source": [
    "x = [1, 2]\n",
    "y_1 = [0.267240368, 0.095023832]\n",
    "y_2 = [0.522693949, 1.520975557]\n",
    "y_3 = [2.275521879, 19.70259851]"
   ]
  },
  {
   "cell_type": "code",
   "execution_count": null,
   "metadata": {},
   "outputs": [],
   "source": [
    "plt.bar(x, y_1)\n",
    "plt.bar(x, y_2)\n",
    "plt.bar(x, y_3)"
   ]
  }
 ],
 "metadata": {
  "kernelspec": {
   "display_name": "Python 3",
   "language": "python",
   "name": "python3"
  },
  "language_info": {
   "codemirror_mode": {
    "name": "ipython",
    "version": 3
   },
   "file_extension": ".py",
   "mimetype": "text/x-python",
   "name": "python",
   "nbconvert_exporter": "python",
   "pygments_lexer": "ipython3",
   "version": "3.7.6"
  }
 },
 "nbformat": 4,
 "nbformat_minor": 4
}
