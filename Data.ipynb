{
 "cells": [
  {
   "cell_type": "code",
   "execution_count": 1,
   "metadata": {},
   "outputs": [],
   "source": [
    "import geopy\n",
    "from geopy.geocoders import Nominatim\n",
    "import plotly.graph_objects as go\n",
    "\n",
    "import numpy as np\n",
    "import pandas as pd\n",
    "import time\n",
    "import requests\n",
    "import pickle\n",
    "from tqdm import tqdm\n",
    "from matplotlib import pyplot as plt\n",
    "\n",
    "from bs4 import BeautifulSoup\n",
    "\n",
    "import os\n",
    "import re"
   ]
  },
  {
   "cell_type": "markdown",
   "metadata": {},
   "source": [
    "## Загрузка координат и расстояний"
   ]
  },
  {
   "cell_type": "code",
   "execution_count": null,
   "metadata": {},
   "outputs": [],
   "source": [
    "def get_distance_old(coord_1, coord_2):\n",
    "    link = 'https://yandex.ru/maps/213/moscow/?ll=' + str(coord_1[0]) +'%2C' + str(coord_1[1]) \\\n",
    "            + '&mode=routes&rtext=' + str(coord_1[0]) + '%2C' + str(coord_1[1]) \\\n",
    "            + '~' + str(coord_2[0]) + '%2C' + str(coord_2[1]) + '&rtm=atm&rtt=auto'\n",
    "    r = requests.get(link)\n",
    "    \n",
    "    left = r.text.find('auto-route-snippet-view__route-subtitle')\n",
    "    s = r.text[left + 40:]\n",
    "    left = s.find('auto-route-snippet-view__route-subtitle')\n",
    "    s = s[left + 41:]\n",
    "    right = s.find('<')\n",
    "    distance = float(s[:right-2].split('\\xa0')[0].replace(',', '.'))\n",
    "    \n",
    "    left = r.text.find('auto-route-snippet-view__route-title-primary')\n",
    "    s = r.text[left + 44:]\n",
    "    left = s.find('auto-route-snippet-view__route-title-primary')\n",
    "    s = s[left + 46:]\n",
    "    right = s.find('<')\n",
    "    t = s[:right].split(' ')\n",
    "    if len(t) > 1:\n",
    "        if '\\xa0' in t[0] and '\\xa0' in t[1]:\n",
    "            hours = 60*float(t[0].split('\\xa0')[0])\n",
    "            minutes = float(t[1].split('\\xa0')[0])\n",
    "            time = hours + minutes\n",
    "        else:\n",
    "            if t[1] == 'мин':\n",
    "                time = float(t[0])\n",
    "            elif t[1] == 'ч':\n",
    "                time = 60*float(t[0])\n",
    "    else:\n",
    "        if t[0].split('\\xa0')[1] == 'ч':\n",
    "            time = 60*float(t[0].split('\\xa0')[0])\n",
    "        else:\n",
    "            time = float(t[0].split('\\xa0')[0])\n",
    "    return distance, time\n",
    "\n",
    "\n",
    "def get_distance_new(coord_1, coord_2):\n",
    "    link = 'https://yandex.ru/maps/213/moscow/?ll=' + str(coord_1[0]) +'%2C' + str(coord_1[1]) \\\n",
    "            + '&mode=routes&rtext=' + str(coord_1[0]) + '%2C' + str(coord_1[1]) \\\n",
    "            + '~' + str(coord_2[0]) + '%2C' + str(coord_2[1]) + '&rtm=atm&rtt=auto'\n",
    "    r = requests.get(link)\n",
    "\n",
    "    soup = BeautifulSoup(r.text, 'html.parser')\n",
    "    time = soup.find_all(attrs={\"class\": \"auto-route-snippet-view__route-title-primary\"})[0]\n",
    "    distance = soup.find_all(attrs={\"class\": \"auto-route-snippet-view__route-subtitle\"})[0]\n",
    "    \n",
    "    return distance, time"
   ]
  },
  {
   "cell_type": "code",
   "execution_count": 199,
   "metadata": {},
   "outputs": [],
   "source": [
    "app = Nominatim(user_agent=\"my-application\")"
   ]
  },
  {
   "cell_type": "code",
   "execution_count": 238,
   "metadata": {},
   "outputs": [
    {
     "data": {
      "text/plain": [
       "Location(82, Таргап (Наурызбайский), Шугыла микрорайон, Наурызбайский район, Алматы, A10H6G1, Қазақстан, (43.22187935, 76.79263714999999, 0.0))"
      ]
     },
     "execution_count": 238,
     "metadata": {},
     "output_type": "execute_result"
    }
   ],
   "source": [
    "app.geocode('Алматы, Наурызбайский район, Таргап 82')"
   ]
  },
  {
   "cell_type": "code",
   "execution_count": null,
   "metadata": {},
   "outputs": [],
   "source": [
    "app.geocode('Kazakhstan, Almati, Batyra street, 279')"
   ]
  },
  {
   "cell_type": "code",
   "execution_count": 209,
   "metadata": {},
   "outputs": [
    {
     "data": {
      "text/plain": [
       "Location(279, улица Богенбай Батыра, Алмалинский район, Алматы, 050046, Қазақстан, (43.2500791, 76.89536817531945, 0.0))"
      ]
     },
     "execution_count": 209,
     "metadata": {},
     "output_type": "execute_result"
    }
   ],
   "source": [
    "app.geocode('279, улица Богенбай Батыра, Алмалинский район, Алматы, 050046, Қазақстан')"
   ]
  },
  {
   "cell_type": "code",
   "execution_count": 207,
   "metadata": {},
   "outputs": [],
   "source": [
    "app.geocode('Казахстан, Алмыты, улица Богенбай Батыра, 279')"
   ]
  },
  {
   "cell_type": "code",
   "execution_count": null,
   "metadata": {},
   "outputs": [],
   "source": [
    "df = pd.read_excel('./data/parsed_data/Moscow_districts.xlsx')\n",
    "districts = list(df.loc[:, 'District'])"
   ]
  },
  {
   "cell_type": "code",
   "execution_count": 4,
   "metadata": {},
   "outputs": [],
   "source": [
    "company_list = \\\n",
    "[\n",
    "    'Ozon',\n",
    "    'Ozon box',\n",
    "    'Boxberry',\n",
    "    'Wildberries',\n",
    "    'Pickpoint',\n",
    "    'Макдональдс',\n",
    "    'KFC',\n",
    "    'Burger king',\n",
    "    'CDEK'\n",
    "]"
   ]
  },
  {
   "cell_type": "code",
   "execution_count": null,
   "metadata": {
    "scrolled": true
   },
   "outputs": [],
   "source": [
    "d = {}\n",
    "for company in company_list:\n",
    "    d[company] = {}\n",
    "    for district in districts:\n",
    "        print(company, district)\n",
    "        time.sleep(1)\n",
    "        flag = True\n",
    "        i = 1\n",
    "        while flag:\n",
    "            if i > 1:\n",
    "                print('try number: ' + str(i))\n",
    "            try:\n",
    "                location = app.geocode(company + ', Москва, ' + district, exactly_one=False, limit=400)\n",
    "                flag = False\n",
    "            except:\n",
    "                i = i + 1\n",
    "        if not location is None:\n",
    "            ads = list(map(lambda x: x[1], location))\n",
    "        else:\n",
    "            ads = []\n",
    "        d[company][district] = ads"
   ]
  },
  {
   "cell_type": "code",
   "execution_count": null,
   "metadata": {},
   "outputs": [],
   "source": [
    "company_ads = {}\n",
    "for company in company_list:\n",
    "    company_ads[company] = []\n",
    "    for value in list(d[company].values()):\n",
    "        company_ads[company] += value"
   ]
  },
  {
   "cell_type": "code",
   "execution_count": null,
   "metadata": {},
   "outputs": [],
   "source": [
    "f = open('coords_dict.pkl', 'wb')\n",
    "\n",
    "pickle.dump(company_ads, f)\n",
    "\n",
    "f.close()"
   ]
  },
  {
   "cell_type": "code",
   "execution_count": null,
   "metadata": {},
   "outputs": [],
   "source": [
    "company_ads"
   ]
  },
  {
   "cell_type": "code",
   "execution_count": 2,
   "metadata": {},
   "outputs": [],
   "source": [
    "f = open('./data/parsed_data/coords_dict.pkl', 'rb')\n",
    "\n",
    "company_ads = pickle.load(f)\n",
    "\n",
    "f.close()"
   ]
  },
  {
   "cell_type": "code",
   "execution_count": 5,
   "metadata": {},
   "outputs": [],
   "source": [
    "all_points = []\n",
    "for company in company_list:\n",
    "    if company != 'Burger King':\n",
    "        all_points += company_ads[company]\n",
    "    \n",
    "all_points = np.array(all_points)"
   ]
  },
  {
   "cell_type": "code",
   "execution_count": 26,
   "metadata": {},
   "outputs": [],
   "source": [
    "min_x = all_points[:, 0].min()\n",
    "min_y = all_points[:, 1].min()\n",
    "all_points[:, 0] = all_points[:, 0] - min_x\n",
    "all_points[:, 1] = all_points[:, 1] - min_y\n",
    "all_points = all_points[all_points[:, 1] < 20]\n",
    "max_x = all_points[:, 0].max()\n",
    "max_y = all_points[:, 1].max()"
   ]
  },
  {
   "cell_type": "code",
   "execution_count": 33,
   "metadata": {},
   "outputs": [],
   "source": [
    "delievery = [ 'Ozon',\n",
    "    'Ozon box',\n",
    "    'Boxberry',\n",
    "    'Wildberries',\n",
    "    'Pickpoint',]\n",
    "\n",
    "fast_food = [    'Макдональдс',\n",
    "    'KFC',\n",
    "    'Burger king',]"
   ]
  },
  {
   "cell_type": "code",
   "execution_count": 39,
   "metadata": {},
   "outputs": [
    {
     "data": {
      "image/png": "[encoded data removed]",
      "text/plain": [
       "<Figure size 576x576 with 1 Axes>"
      ]
     },
     "metadata": {
      "needs_background": "light"
     },
     "output_type": "display_data"
    }
   ],
   "source": [
    "fig = plt.figure(figsize=(8,8))\n",
    "for company in delievery:\n",
    "    data = (np.array(company_ads[company]))\n",
    "    data[:, 0] = data[:, 0] - min_x\n",
    "    data[:, 1] = data[:, 1] - min_y\n",
    "    data = data[data[:, 1] < 20]\n",
    "    data[:, 0] = data[:, 0]/max_x\n",
    "    data[:, 1] = data[:, 1]/max_y\n",
    "    plt.scatter(data[:, 0], data[:, 1])\n",
    "plt.legend(delievery)\n",
    "plt.grid()\n",
    "plt.savefig('delievery.jpg')"
   ]
  },
  {
   "cell_type": "code",
   "execution_count": 38,
   "metadata": {},
   "outputs": [
    {
     "data": {
      "image/png": "[encoded data removed]",
      "text/plain": [
       "<Figure size 576x576 with 1 Axes>"
      ]
     },
     "metadata": {
      "needs_background": "light"
     },
     "output_type": "display_data"
    }
   ],
   "source": [
    "fig = plt.figure(figsize=(8,8))\n",
    "for company in fast_food:\n",
    "    data = (np.array(company_ads[company]))\n",
    "    data[:, 0] = data[:, 0] - min_x\n",
    "    data[:, 1] = data[:, 1] - min_y\n",
    "    data = data[data[:, 1] < 20]\n",
    "    data[:, 0] = data[:, 0]/max_x\n",
    "    data[:, 1] = data[:, 1]/max_y\n",
    "    plt.scatter(data[:, 0], data[:, 1])\n",
    "plt.legend(fast_food)\n",
    "plt.grid()\n",
    "plt.savefig('fast_food.jpg')"
   ]
  },
  {
   "cell_type": "code",
   "execution_count": null,
   "metadata": {},
   "outputs": [],
   "source": [
    "temp = np.array(company_ads['Ozon'])"
   ]
  },
  {
   "cell_type": "code",
   "execution_count": null,
   "metadata": {},
   "outputs": [],
   "source": [
    "s = 0\n",
    "for i in range(len(temp[:, 0])):\n",
    "    print(i, ((temp[i, 0] == temp[:, 0]) & (temp[i, 1] == temp[:, 1])).sum() - 1)\n",
    "    s += ((temp[i, 0] == temp[:, 0]) & (temp[i, 1] == temp[:, 1])).sum() - 1 > 0"
   ]
  },
  {
   "cell_type": "code",
   "execution_count": null,
   "metadata": {},
   "outputs": [],
   "source": [
    "s"
   ]
  },
  {
   "cell_type": "code",
   "execution_count": null,
   "metadata": {},
   "outputs": [],
   "source": [
    "long_max = 56.2164\n",
    "long_min = 55.2829\n",
    "lat_max = 38.5774\n",
    "lat_min = 36.7734"
   ]
  },
  {
   "cell_type": "code",
   "execution_count": null,
   "metadata": {},
   "outputs": [],
   "source": [
    "moscow_map = plt.imread('map.png')"
   ]
  },
  {
   "cell_type": "code",
   "execution_count": null,
   "metadata": {},
   "outputs": [],
   "source": [
    "fig, ax = plt.subplots(figsize = (14,14))\n",
    "plt.imshow(moscow_map)"
   ]
  },
  {
   "cell_type": "code",
   "execution_count": null,
   "metadata": {},
   "outputs": [],
   "source": [
    "BBox = [long_min, long_max, lat_min, lat_max]"
   ]
  },
  {
   "cell_type": "code",
   "execution_count": null,
   "metadata": {},
   "outputs": [],
   "source": [
    "fig, ax = plt.subplots(figsize = (14,14))\n",
    "ax.scatter(np.array(company_ads['Ozon'])[:, 0], np.array(company_ads['Ozon'])[:, 1], zorder=1, c='b', s=10)\n",
    "\n",
    "#ax.set_title('Plotting Spatial Data on Moscow Map')\n",
    "ax.set_xlim(long_min,long_max)\n",
    "ax.set_ylim(lat_min,lat_max)\n",
    "#plt.imshow(moscow_map, zorder=0, extent=BBox, aspect= 'equal')\n"
   ]
  },
  {
   "cell_type": "code",
   "execution_count": null,
   "metadata": {},
   "outputs": [],
   "source": [
    "distances = {}"
   ]
  },
  {
   "cell_type": "code",
   "execution_count": null,
   "metadata": {},
   "outputs": [],
   "source": [
    "for i in range(len(company_list)):\n",
    "    distance_matrix = np.zeros((len(company_ads[company_list[i]]), \n",
    "                                len(company_ads[company_list[i]]),\n",
    "                                2))\n",
    "    print(company_list[i])\n",
    "    for j in tqdm(range(len(list(company_ads.values())[i])), leave=False):\n",
    "        for k in range(j+1, len(list(company_ads.values())[i])):\n",
    "            flag = True\n",
    "            m = 1\n",
    "            while flag:\n",
    "                if m > 1:\n",
    "                    print('try number: ' + str(m))\n",
    "                try:\n",
    "                    time.sleep(1)\n",
    "                    coord_1 = list(company_ads.values())[i][j]\n",
    "                    coord_2 = list(company_ads.values())[i][k]\n",
    "                    distance_matrix[j,k,0], distance_matrix[j,k,1] = get_distance(coord_1, coord_2)\n",
    "                    flag = False\n",
    "                except KeyboardInterrupt:\n",
    "                    print(1/0)\n",
    "                except:\n",
    "                    m = m + 1\n",
    "    distances[company_list[i]] = distance_matrix"
   ]
  },
  {
   "cell_type": "code",
   "execution_count": 8,
   "metadata": {},
   "outputs": [
    {
     "data": {
      "text/plain": [
       "(55.23326445, 37.112215913929916)"
      ]
     },
     "execution_count": 8,
     "metadata": {},
     "output_type": "execute_result"
    }
   ],
   "source": [
    "company_ads['Ozon'][0]"
   ]
  },
  {
   "cell_type": "code",
   "execution_count": 185,
   "metadata": {},
   "outputs": [
    {
     "name": "stdout",
     "output_type": "stream",
     "text": [
      "(55.7288079, 37.5239825) (55.7018714, 37.8405985)\n"
     ]
    }
   ],
   "source": [
    "coord_1 = company_ads['Ozon'][8]\n",
    "coord_2 = company_ads['Ozon'][80]\n",
    "print(coord_1, coord_2)"
   ]
  },
  {
   "cell_type": "code",
   "execution_count": null,
   "metadata": {},
   "outputs": [],
   "source": [
    "link = 'https://yandex.ru/maps/213/moscow/?ll=' + str(coord_1[0]) +'%2C' + str(coord_1[1]) \\\n",
    "        + '&mode=routes&rtext=' + str(coord_1[0]) + '%2C' + str(coord_1[1]) \\\n",
    "        + '~' + str(coord_2[0]) + '%2C' + str(coord_2[1]) + '&rtm=atm&rtt=auto'\n",
    "print(link)\n",
    "#link='https://yandex.ru/maps/213/moscow/?ll=37.696199%2C55.779150&mode=routes&rtext=55.779118%2C37.692137~55.779773%2C37.693587&rtm=atm&rtt=auto'\n",
    "#print(link)\n",
    "\n",
    "r = requests.get(link)\n",
    "soup = BeautifulSoup(r.text, 'html.parser')"
   ]
  },
  {
   "cell_type": "code",
   "execution_count": 194,
   "metadata": {},
   "outputs": [
    {
     "name": "stdout",
     "output_type": "stream",
     "text": [
      "0 <div class=\"ghbpl__edafad\"><div class=\"route-panel-form-view__top-pane\"><form action=\"/\" class=\"route-form-view\"><div class=\"route-travel-modes-view\"><div class=\"route-travel-modes-view__mode _mode_comparison\"><div class=\"route-travel-modes-view__comparison-button\"><span class=\"inline-image route-travel-modes-view__icon\" style=\"font-size:0;line-height:0\"></span><span class=\"route-travel-modes-view__comparison-button-text\">Все</span></div></div><div class=\"route-travel-modes-view__mode _mode_auto _checked\"><span class=\"inline-image route-travel-modes-view__icon\" style=\"font-size:0;line-height:0\"></span></div><div class=\"route-travel-modes-view__mode _mode_masstransit\"><span class=\"inline-image route-travel-modes-view__icon\" style=\"font-size:0;line-height:0\"></span></div><div class=\"route-travel-modes-view__mode _mode_pedestrian\"><span class=\"inline-image route-travel-modes-view__icon\" style=\"font-size:0;line-height:0\"></span></div><div class=\"route-travel-modes-view__mode _mode_bicycle\"><span class=\"inline-image route-travel-modes-view__icon\" style=\"font-size:0;line-height:0\"></span></div><div class=\"route-travel-modes-view__mode _mode_taxi\"><span class=\"inline-image route-travel-modes-view__icon\" style=\"font-size:0;line-height:0\"></span></div></div><div class=\"route-form-view__points\"><div class=\"route-point-fields-view\"><div class=\"route-point-fields-view__fields\"><div class=\"route-field-view _index_0\"><div class=\"route-field-view__wrapper\"><div class=\"full-screen-suggest__content\"><div class=\"route-field-view__icon\"><div class=\"route-waypoint-icon-view _index_0 _activated\"></div></div><div class=\"full-screen-suggest__input\"><div class=\"suggest\"><span class=\"input _hover-clear _view_filled\"><span class=\"input__context\"><input autocomplete=\"disable\" autocorrect=\"off\" class=\"input__control\" placeholder=\"Откуда\" type=\"search\" value=\"улица Пырьева, 16\"/></span><span class=\"input__icons-right\"><span class=\"input__icon\"></span><span class=\"input__icon\"><div class=\"input__clear\"></div></span></span></span></div></div><div class=\"drag-handler-view\"></div></div></div></div><div class=\"route-field-view _index_1\"><div class=\"route-field-view__wrapper\"><div class=\"full-screen-suggest__content\"><div class=\"route-field-view__icon\"><div class=\"route-waypoint-icon-view _index_1 _last _activated\"></div></div><div class=\"full-screen-suggest__input\"><div class=\"suggest\"><span class=\"input _hover-clear _view_filled\"><span class=\"input__context\"><input autocomplete=\"disable\" autocorrect=\"off\" class=\"input__control\" placeholder=\"Куда\" type=\"search\" value=\"Привольная улица, 7\"/></span><span class=\"input__icons-right\"><span class=\"input__icon\"></span><span class=\"input__icon\"><div class=\"input__clear\"></div></span></span></span></div></div><div class=\"drag-handler-view\"></div></div></div></div></div></div><div class=\"route-form-view__reverse\"><div class=\"route-form-view__reverse-icon\"></div></div></div><div class=\"route-form-view__buttons\"><div class=\"route-form-view__add\">Добавить точку</div><input class=\"route-form-view__reset\" type=\"reset\" value=\"Сбросить\"/><input class=\"route-form-view__submit\" type=\"submit\"/></div></form></div><div class=\"route-panel-form-view__route-list\"><div class=\"route-list-view _travel-mode_auto\"><div class=\"route-list-view__incut\"><div class=\"route-list-view__settings\">Параметры<div class=\"route-list-view__settings-count\">1</div><span class=\"inline-image flip-icon\" style=\"font-size:0;line-height:0\"></span></div><div class=\"route-list-view__time-dependent-incut\">Отправление сейчас</div></div><div class=\"dropdown-view\"></div><div class=\"route-list-view__emergency\"></div><div class=\"route-list-view__list\"><div class=\"route-snippet-view _active _type_auto\"><div class=\"auto-route-snippet-view\"><div class=\"auto-route-snippet-view__route-title\"><div class=\"auto-route-snippet-view__route-title-primary\">33 мин</div><div class=\"auto-route-snippet-view__hints\"><div class=\"auto-route-snippet-view__arrival\">Прибытие в 19:59</div></div></div><div class=\"auto-route-snippet-view__route-subtitle\">25 км, <span class=\"auto-route-snippet-view__excluding-traffic\">Без учета пробок</span></div><div class=\"auto-route-snippet-view__links\"><div class=\"auto-route-snippet-view__show-details\">Посмотреть подробнее</div><div class=\"route-snippet-feedback-button-view\">Исправить<span class=\"inline-image route-snippet-feedback-button-view__icon\" style=\"font-size:0;line-height:0\"></span></div></div></div></div><div class=\"route-snippet-view _type_auto\"><div class=\"auto-route-snippet-view\"><div class=\"auto-route-snippet-view__route-title\"><div class=\"auto-route-snippet-view__route-title-primary\">34 мин</div><div class=\"auto-route-snippet-view__hints\"><div class=\"auto-route-snippet-view__arrival\">Прибытие в 19:59</div></div></div><div class=\"auto-route-snippet-view__route-subtitle\">27 км, <span class=\"auto-route-snippet-view__excluding-traffic\">Без учета пробок</span></div><div class=\"auto-route-snippet-view__links\"></div></div></div><div class=\"route-snippet-view _type_auto\"><div class=\"auto-route-snippet-view\"><div class=\"auto-route-snippet-view__route-title\"><div class=\"auto-route-snippet-view__route-title-primary\">35 мин</div><div class=\"auto-route-snippet-view__hints\"><div class=\"auto-route-snippet-view__arrival\">Прибытие в 20:01</div></div></div><div class=\"auto-route-snippet-view__route-subtitle\">28 км, <span class=\"auto-route-snippet-view__excluding-traffic\">Без учета пробок</span></div><div class=\"auto-route-snippet-view__links\"></div></div></div><div class=\"route-list-view__mobile-share\"><div class=\"card-tip-view\"><div class=\"card-tip-view__icon\"><span class=\"inline-image\" style=\"font-size:0;line-height:0\"></span></div><div class=\"card-tip-view__text\">Отправьте этот маршрут на телефон</div><div class=\"card-tip-view__button\"><button class=\"button _view_secondary-blue _ui _size_small\" type=\"button\"><span class=\"button__text\"><span class=\"card-tip-view__send-text\">Отправить</span></span></button></div></div></div></div></div><iframe class=\"resize-listener\" tabindex=\"-1\"></iframe></div></div>\n",
      "1 <div class=\"q__decbbdedbadb\" style=\"border-top:8px solid #eee;background-color:#fff;padding:0\"></div>\n",
      "2 <div class=\"ac__feefefbbcfdcadf\"><div class=\"twfcx__adcddbcce\"><div class=\"aa__bfccfaecaeebb\"></div><div class=\"lt__bffcdaaecabdbf\"></div></div></div>\n",
      "0 <div class=\"route-panel-form-view__top-pane\"><form action=\"/\" class=\"route-form-view\"><div class=\"route-travel-modes-view\"><div class=\"route-travel-modes-view__mode _mode_comparison\"><div class=\"route-travel-modes-view__comparison-button\"><span class=\"inline-image route-travel-modes-view__icon\" style=\"font-size:0;line-height:0\"></span><span class=\"route-travel-modes-view__comparison-button-text\">Все</span></div></div><div class=\"route-travel-modes-view__mode _mode_auto _checked\"><span class=\"inline-image route-travel-modes-view__icon\" style=\"font-size:0;line-height:0\"></span></div><div class=\"route-travel-modes-view__mode _mode_masstransit\"><span class=\"inline-image route-travel-modes-view__icon\" style=\"font-size:0;line-height:0\"></span></div><div class=\"route-travel-modes-view__mode _mode_pedestrian\"><span class=\"inline-image route-travel-modes-view__icon\" style=\"font-size:0;line-height:0\"></span></div><div class=\"route-travel-modes-view__mode _mode_bicycle\"><span class=\"inline-image route-travel-modes-view__icon\" style=\"font-size:0;line-height:0\"></span></div><div class=\"route-travel-modes-view__mode _mode_taxi\"><span class=\"inline-image route-travel-modes-view__icon\" style=\"font-size:0;line-height:0\"></span></div></div><div class=\"route-form-view__points\"><div class=\"route-point-fields-view\"><div class=\"route-point-fields-view__fields\"><div class=\"route-field-view _index_0\"><div class=\"route-field-view__wrapper\"><div class=\"full-screen-suggest__content\"><div class=\"route-field-view__icon\"><div class=\"route-waypoint-icon-view _index_0 _activated\"></div></div><div class=\"full-screen-suggest__input\"><div class=\"suggest\"><span class=\"input _hover-clear _view_filled\"><span class=\"input__context\"><input autocomplete=\"disable\" autocorrect=\"off\" class=\"input__control\" placeholder=\"Откуда\" type=\"search\" value=\"улица Пырьева, 16\"/></span><span class=\"input__icons-right\"><span class=\"input__icon\"></span><span class=\"input__icon\"><div class=\"input__clear\"></div></span></span></span></div></div><div class=\"drag-handler-view\"></div></div></div></div><div class=\"route-field-view _index_1\"><div class=\"route-field-view__wrapper\"><div class=\"full-screen-suggest__content\"><div class=\"route-field-view__icon\"><div class=\"route-waypoint-icon-view _index_1 _last _activated\"></div></div><div class=\"full-screen-suggest__input\"><div class=\"suggest\"><span class=\"input _hover-clear _view_filled\"><span class=\"input__context\"><input autocomplete=\"disable\" autocorrect=\"off\" class=\"input__control\" placeholder=\"Куда\" type=\"search\" value=\"Привольная улица, 7\"/></span><span class=\"input__icons-right\"><span class=\"input__icon\"></span><span class=\"input__icon\"><div class=\"input__clear\"></div></span></span></span></div></div><div class=\"drag-handler-view\"></div></div></div></div></div></div><div class=\"route-form-view__reverse\"><div class=\"route-form-view__reverse-icon\"></div></div></div><div class=\"route-form-view__buttons\"><div class=\"route-form-view__add\">Добавить точку</div><input class=\"route-form-view__reset\" type=\"reset\" value=\"Сбросить\"/><input class=\"route-form-view__submit\" type=\"submit\"/></div></form></div>\n",
      "1 <div class=\"route-panel-form-view__route-list\"><div class=\"route-list-view _travel-mode_auto\"><div class=\"route-list-view__incut\"><div class=\"route-list-view__settings\">Параметры<div class=\"route-list-view__settings-count\">1</div><span class=\"inline-image flip-icon\" style=\"font-size:0;line-height:0\"></span></div><div class=\"route-list-view__time-dependent-incut\">Отправление сейчас</div></div><div class=\"dropdown-view\"></div><div class=\"route-list-view__emergency\"></div><div class=\"route-list-view__list\"><div class=\"route-snippet-view _active _type_auto\"><div class=\"auto-route-snippet-view\"><div class=\"auto-route-snippet-view__route-title\"><div class=\"auto-route-snippet-view__route-title-primary\">33 мин</div><div class=\"auto-route-snippet-view__hints\"><div class=\"auto-route-snippet-view__arrival\">Прибытие в 19:59</div></div></div><div class=\"auto-route-snippet-view__route-subtitle\">25 км, <span class=\"auto-route-snippet-view__excluding-traffic\">Без учета пробок</span></div><div class=\"auto-route-snippet-view__links\"><div class=\"auto-route-snippet-view__show-details\">Посмотреть подробнее</div><div class=\"route-snippet-feedback-button-view\">Исправить<span class=\"inline-image route-snippet-feedback-button-view__icon\" style=\"font-size:0;line-height:0\"></span></div></div></div></div><div class=\"route-snippet-view _type_auto\"><div class=\"auto-route-snippet-view\"><div class=\"auto-route-snippet-view__route-title\"><div class=\"auto-route-snippet-view__route-title-primary\">34 мин</div><div class=\"auto-route-snippet-view__hints\"><div class=\"auto-route-snippet-view__arrival\">Прибытие в 19:59</div></div></div><div class=\"auto-route-snippet-view__route-subtitle\">27 км, <span class=\"auto-route-snippet-view__excluding-traffic\">Без учета пробок</span></div><div class=\"auto-route-snippet-view__links\"></div></div></div><div class=\"route-snippet-view _type_auto\"><div class=\"auto-route-snippet-view\"><div class=\"auto-route-snippet-view__route-title\"><div class=\"auto-route-snippet-view__route-title-primary\">35 мин</div><div class=\"auto-route-snippet-view__hints\"><div class=\"auto-route-snippet-view__arrival\">Прибытие в 20:01</div></div></div><div class=\"auto-route-snippet-view__route-subtitle\">28 км, <span class=\"auto-route-snippet-view__excluding-traffic\">Без учета пробок</span></div><div class=\"auto-route-snippet-view__links\"></div></div></div><div class=\"route-list-view__mobile-share\"><div class=\"card-tip-view\"><div class=\"card-tip-view__icon\"><span class=\"inline-image\" style=\"font-size:0;line-height:0\"></span></div><div class=\"card-tip-view__text\">Отправьте этот маршрут на телефон</div><div class=\"card-tip-view__button\"><button class=\"button _view_secondary-blue _ui _size_small\" type=\"button\"><span class=\"button__text\"><span class=\"card-tip-view__send-text\">Отправить</span></span></button></div></div></div></div></div><iframe class=\"resize-listener\" tabindex=\"-1\"></iframe></div>\n",
      "0 <div class=\"route-list-view__incut\"><div class=\"route-list-view__settings\">Параметры<div class=\"route-list-view__settings-count\">1</div><span class=\"inline-image flip-icon\" style=\"font-size:0;line-height:0\"></span></div><div class=\"route-list-view__time-dependent-incut\">Отправление сейчас</div></div>\n",
      "1 <div class=\"dropdown-view\"></div>\n",
      "2 <div class=\"route-list-view__emergency\"></div>\n",
      "3 <div class=\"route-list-view__list\"><div class=\"route-snippet-view _active _type_auto\"><div class=\"auto-route-snippet-view\"><div class=\"auto-route-snippet-view__route-title\"><div class=\"auto-route-snippet-view__route-title-primary\">33 мин</div><div class=\"auto-route-snippet-view__hints\"><div class=\"auto-route-snippet-view__arrival\">Прибытие в 19:59</div></div></div><div class=\"auto-route-snippet-view__route-subtitle\">25 км, <span class=\"auto-route-snippet-view__excluding-traffic\">Без учета пробок</span></div><div class=\"auto-route-snippet-view__links\"><div class=\"auto-route-snippet-view__show-details\">Посмотреть подробнее</div><div class=\"route-snippet-feedback-button-view\">Исправить<span class=\"inline-image route-snippet-feedback-button-view__icon\" style=\"font-size:0;line-height:0\"></span></div></div></div></div><div class=\"route-snippet-view _type_auto\"><div class=\"auto-route-snippet-view\"><div class=\"auto-route-snippet-view__route-title\"><div class=\"auto-route-snippet-view__route-title-primary\">34 мин</div><div class=\"auto-route-snippet-view__hints\"><div class=\"auto-route-snippet-view__arrival\">Прибытие в 19:59</div></div></div><div class=\"auto-route-snippet-view__route-subtitle\">27 км, <span class=\"auto-route-snippet-view__excluding-traffic\">Без учета пробок</span></div><div class=\"auto-route-snippet-view__links\"></div></div></div><div class=\"route-snippet-view _type_auto\"><div class=\"auto-route-snippet-view\"><div class=\"auto-route-snippet-view__route-title\"><div class=\"auto-route-snippet-view__route-title-primary\">35 мин</div><div class=\"auto-route-snippet-view__hints\"><div class=\"auto-route-snippet-view__arrival\">Прибытие в 20:01</div></div></div><div class=\"auto-route-snippet-view__route-subtitle\">28 км, <span class=\"auto-route-snippet-view__excluding-traffic\">Без учета пробок</span></div><div class=\"auto-route-snippet-view__links\"></div></div></div><div class=\"route-list-view__mobile-share\"><div class=\"card-tip-view\"><div class=\"card-tip-view__icon\"><span class=\"inline-image\" style=\"font-size:0;line-height:0\"></span></div><div class=\"card-tip-view__text\">Отправьте этот маршрут на телефон</div><div class=\"card-tip-view__button\"><button class=\"button _view_secondary-blue _ui _size_small\" type=\"button\"><span class=\"button__text\"><span class=\"card-tip-view__send-text\">Отправить</span></span></button></div></div></div></div>\n",
      "время:  33 мин\n",
      "расстояние:  25 км\n"
     ]
    }
   ],
   "source": [
    "for i, c in enumerate(soup.body.div.div.next_sibling.children):\n",
    "    if i == 2:\n",
    "        child = c\n",
    "\n",
    "for i, c in enumerate(child.div.div.div.div.div.div.div.div):\n",
    "    print(i, c)\n",
    "    if i == 0:\n",
    "        child2 = c\n",
    "\n",
    "for i, c in enumerate(child2.children):\n",
    "    print(i, c)\n",
    "    if i == 1:\n",
    "        child3 = c\n",
    "\n",
    "for i, c in enumerate(child3.div):\n",
    "    print(i, c)\n",
    "    if i == 3:\n",
    "        child4 = c\n",
    "    \n",
    "print('время: ', child4.div.div.div.div.text)\n",
    "print('расстояние: ', child4.div.div.div.next_sibling.text.split(',')[0])"
   ]
  },
  {
   "cell_type": "code",
   "execution_count": 197,
   "metadata": {},
   "outputs": [
    {
     "data": {
      "text/plain": [
       "[<div class=\"auto-route-snippet-view__route-title-primary\">33 мин</div>,\n",
       " <div class=\"auto-route-snippet-view__route-title-primary\">34 мин</div>,\n",
       " <div class=\"auto-route-snippet-view__route-title-primary\">35 мин</div>]"
      ]
     },
     "execution_count": 197,
     "metadata": {},
     "output_type": "execute_result"
    }
   ],
   "source": [
    "soup.find_all(attrs={\"class\": \"auto-route-snippet-view__route-title-primary\"})\n",
    "\n",
    "soup.find_all(attrs={\"class\": \"auto-route-snippet-view__route-subtitle\"})"
   ]
  },
  {
   "cell_type": "code",
   "execution_count": 195,
   "metadata": {},
   "outputs": [
    {
     "data": {
      "text/plain": [
       "<div class=\"route-list-view__list\"><div class=\"route-snippet-view _active _type_auto\"><div class=\"auto-route-snippet-view\"><div class=\"auto-route-snippet-view__route-title\"><div class=\"auto-route-snippet-view__route-title-primary\">33 мин</div><div class=\"auto-route-snippet-view__hints\"><div class=\"auto-route-snippet-view__arrival\">Прибытие в 19:59</div></div></div><div class=\"auto-route-snippet-view__route-subtitle\">25 км, <span class=\"auto-route-snippet-view__excluding-traffic\">Без учета пробок</span></div><div class=\"auto-route-snippet-view__links\"><div class=\"auto-route-snippet-view__show-details\">Посмотреть подробнее</div><div class=\"route-snippet-feedback-button-view\">Исправить<span class=\"inline-image route-snippet-feedback-button-view__icon\" style=\"font-size:0;line-height:0\"></span></div></div></div></div><div class=\"route-snippet-view _type_auto\"><div class=\"auto-route-snippet-view\"><div class=\"auto-route-snippet-view__route-title\"><div class=\"auto-route-snippet-view__route-title-primary\">34 мин</div><div class=\"auto-route-snippet-view__hints\"><div class=\"auto-route-snippet-view__arrival\">Прибытие в 19:59</div></div></div><div class=\"auto-route-snippet-view__route-subtitle\">27 км, <span class=\"auto-route-snippet-view__excluding-traffic\">Без учета пробок</span></div><div class=\"auto-route-snippet-view__links\"></div></div></div><div class=\"route-snippet-view _type_auto\"><div class=\"auto-route-snippet-view\"><div class=\"auto-route-snippet-view__route-title\"><div class=\"auto-route-snippet-view__route-title-primary\">35 мин</div><div class=\"auto-route-snippet-view__hints\"><div class=\"auto-route-snippet-view__arrival\">Прибытие в 20:01</div></div></div><div class=\"auto-route-snippet-view__route-subtitle\">28 км, <span class=\"auto-route-snippet-view__excluding-traffic\">Без учета пробок</span></div><div class=\"auto-route-snippet-view__links\"></div></div></div><div class=\"route-list-view__mobile-share\"><div class=\"card-tip-view\"><div class=\"card-tip-view__icon\"><span class=\"inline-image\" style=\"font-size:0;line-height:0\"></span></div><div class=\"card-tip-view__text\">Отправьте этот маршрут на телефон</div><div class=\"card-tip-view__button\"><button class=\"button _view_secondary-blue _ui _size_small\" type=\"button\"><span class=\"button__text\"><span class=\"card-tip-view__send-text\">Отправить</span></span></button></div></div></div></div>"
      ]
     },
     "execution_count": 195,
     "metadata": {},
     "output_type": "execute_result"
    }
   ],
   "source": [
    "child4"
   ]
  },
  {
   "cell_type": "code",
   "execution_count": 175,
   "metadata": {
    "scrolled": false
   },
   "outputs": [
    {
     "name": "stdout",
     "output_type": "stream",
     "text": [
      "0 <div class=\"qx__aaaedcabed\"><div class=\"route-panel-form-view__top-pane\"><form action=\"/\" class=\"route-form-view\"><div class=\"route-travel-modes-view\"><div class=\"route-travel-modes-view__mode _mode_comparison\"><div class=\"route-travel-modes-view__comparison-button\"><span class=\"inline-image route-travel-modes-view__icon\" style=\"font-size:0;line-height:0\"></span><span class=\"route-travel-modes-view__comparison-button-text\">Все</span></div></div><div class=\"route-travel-modes-view__mode _mode_auto _checked\"><span class=\"inline-image route-travel-modes-view__icon\" style=\"font-size:0;line-height:0\"></span></div><div class=\"route-travel-modes-view__mode _mode_masstransit\"><span class=\"inline-image route-travel-modes-view__icon\" style=\"font-size:0;line-height:0\"></span></div><div class=\"route-travel-modes-view__mode _mode_pedestrian\"><span class=\"inline-image route-travel-modes-view__icon\" style=\"font-size:0;line-height:0\"></span></div><div class=\"route-travel-modes-view__mode _mode_bicycle\"><span class=\"inline-image route-travel-modes-view__icon\" style=\"font-size:0;line-height:0\"></span></div><div class=\"route-travel-modes-view__mode _mode_taxi\"><span class=\"inline-image route-travel-modes-view__icon\" style=\"font-size:0;line-height:0\"></span></div></div><div class=\"route-form-view__points\"><div class=\"route-point-fields-view\"><div class=\"route-point-fields-view__fields\"><div class=\"route-field-view _index_0\"><div class=\"route-field-view__wrapper\"><div class=\"full-screen-suggest__content\"><div class=\"route-field-view__icon\"><div class=\"route-waypoint-icon-view _index_0 _activated\"></div></div><div class=\"full-screen-suggest__input\"><div class=\"suggest\"><span class=\"input _hover-clear _view_filled\"><span class=\"input__context\"><input autocomplete=\"disable\" autocorrect=\"off\" class=\"input__control\" placeholder=\"Откуда\" type=\"search\" value=\"Бакунинская улица, 82с1\"/></span><span class=\"input__icons-right\"><span class=\"input__icon\"></span><span class=\"input__icon\"><div class=\"input__clear\"></div></span></span></span></div></div><div class=\"drag-handler-view\"></div></div></div></div><div class=\"route-field-view _index_1\"><div class=\"route-field-view__wrapper\"><div class=\"full-screen-suggest__content\"><div class=\"route-field-view__icon\"><div class=\"route-waypoint-icon-view _index_1 _last _activated\"></div></div><div class=\"full-screen-suggest__input\"><div class=\"suggest\"><span class=\"input _hover-clear _view_filled\"><span class=\"input__context\"><input autocomplete=\"disable\" autocorrect=\"off\" class=\"input__control\" placeholder=\"Куда\" type=\"search\" value=\"Бакунинская улица, 94с1\"/></span><span class=\"input__icons-right\"><span class=\"input__icon\"></span><span class=\"input__icon\"><div class=\"input__clear\"></div></span></span></span></div></div><div class=\"drag-handler-view\"></div></div></div></div></div></div><div class=\"route-form-view__reverse\"><div class=\"route-form-view__reverse-icon\"></div></div></div><div class=\"route-form-view__buttons\"><div class=\"route-form-view__add\">Добавить точку</div><input class=\"route-form-view__reset\" type=\"reset\" value=\"Сбросить\"/><input class=\"route-form-view__submit\" type=\"submit\"/></div></form></div><div class=\"route-panel-form-view__route-list\"><div class=\"route-list-view _travel-mode_auto\"><div class=\"route-list-view__incut\"><div class=\"route-list-view__settings\">Параметры<div class=\"route-list-view__settings-count\">1</div><span class=\"inline-image flip-icon\" style=\"font-size:0;line-height:0\"></span></div><div class=\"route-list-view__time-dependent-incut\">Отправление сейчас</div></div><div class=\"dropdown-view\"></div><div class=\"route-list-view__emergency\"></div><div class=\"route-list-view__list\"><div class=\"route-snippet-view _active _type_auto\"><div class=\"auto-route-snippet-view\"><div class=\"auto-route-snippet-view__route-title\"><div class=\"auto-route-snippet-view__route-title-primary\">1 мин</div><div class=\"auto-route-snippet-view__hints\"><div class=\"auto-route-snippet-view__arrival\">Прибытие в 19:21</div><div class=\"route-warning-view _type_barrier\"></div></div></div><div class=\"auto-route-snippet-view__route-subtitle\">270 м, <span class=\"auto-route-snippet-view__excluding-traffic\">Без учета пробок</span></div><div class=\"auto-route-snippet-view__links\"><div class=\"auto-route-snippet-view__show-details\">Посмотреть подробнее</div><div class=\"route-snippet-feedback-button-view\">Исправить<span class=\"inline-image route-snippet-feedback-button-view__icon\" style=\"font-size:0;line-height:0\"></span></div></div></div></div><div class=\"route-list-view__mobile-share\"><div class=\"card-tip-view\"><div class=\"card-tip-view__icon\"><span class=\"inline-image\" style=\"font-size:0;line-height:0\"></span></div><div class=\"card-tip-view__text\">Отправьте этот маршрут на телефон</div><div class=\"card-tip-view__button\"><button class=\"button _view_secondary-blue _ui _size_small\" type=\"button\"><span class=\"button__text\"><span class=\"card-tip-view__send-text\">Отправить</span></span></button></div></div></div></div></div><iframe class=\"resize-listener\" tabindex=\"-1\"></iframe></div></div>\n",
      "1 <div class=\"vpnc__dcccaeedcdf\"><div class=\"fue__eeddbeaec\"><div class=\"iri__beebce\"></div><div class=\"ehvo__bfbdbbfdcccaddb\"></div></div></div>\n",
      "2 <div class=\"ljqb__eebcdcdab\" style=\"border-top:8px solid #eee;background-color:#fff;padding:0\"></div>\n"
     ]
    }
   ],
   "source": [
    "for i, c in enumerate(child.div.div.div.div.div.div.div.div):\n",
    "    print(i, c)"
   ]
  },
  {
   "cell_type": "code",
   "execution_count": 173,
   "metadata": {},
   "outputs": [
    {
     "data": {
      "text/plain": [
       "<div class=\"eou__bdbddbacfa\"><div class=\"qx__aaaedcabed\"><div class=\"route-panel-form-view__top-pane\"><form action=\"/\" class=\"route-form-view\"><div class=\"route-travel-modes-view\"><div class=\"route-travel-modes-view__mode _mode_comparison\"><div class=\"route-travel-modes-view__comparison-button\"><span class=\"inline-image route-travel-modes-view__icon\" style=\"font-size:0;line-height:0\"></span><span class=\"route-travel-modes-view__comparison-button-text\">Все</span></div></div><div class=\"route-travel-modes-view__mode _mode_auto _checked\"><span class=\"inline-image route-travel-modes-view__icon\" style=\"font-size:0;line-height:0\"></span></div><div class=\"route-travel-modes-view__mode _mode_masstransit\"><span class=\"inline-image route-travel-modes-view__icon\" style=\"font-size:0;line-height:0\"></span></div><div class=\"route-travel-modes-view__mode _mode_pedestrian\"><span class=\"inline-image route-travel-modes-view__icon\" style=\"font-size:0;line-height:0\"></span></div><div class=\"route-travel-modes-view__mode _mode_bicycle\"><span class=\"inline-image route-travel-modes-view__icon\" style=\"font-size:0;line-height:0\"></span></div><div class=\"route-travel-modes-view__mode _mode_taxi\"><span class=\"inline-image route-travel-modes-view__icon\" style=\"font-size:0;line-height:0\"></span></div></div><div class=\"route-form-view__points\"><div class=\"route-point-fields-view\"><div class=\"route-point-fields-view__fields\"><div class=\"route-field-view _index_0\"><div class=\"route-field-view__wrapper\"><div class=\"full-screen-suggest__content\"><div class=\"route-field-view__icon\"><div class=\"route-waypoint-icon-view _index_0 _activated\"></div></div><div class=\"full-screen-suggest__input\"><div class=\"suggest\"><span class=\"input _hover-clear _view_filled\"><span class=\"input__context\"><input autocomplete=\"disable\" autocorrect=\"off\" class=\"input__control\" placeholder=\"Откуда\" type=\"search\" value=\"Бакунинская улица, 82с1\"/></span><span class=\"input__icons-right\"><span class=\"input__icon\"></span><span class=\"input__icon\"><div class=\"input__clear\"></div></span></span></span></div></div><div class=\"drag-handler-view\"></div></div></div></div><div class=\"route-field-view _index_1\"><div class=\"route-field-view__wrapper\"><div class=\"full-screen-suggest__content\"><div class=\"route-field-view__icon\"><div class=\"route-waypoint-icon-view _index_1 _last _activated\"></div></div><div class=\"full-screen-suggest__input\"><div class=\"suggest\"><span class=\"input _hover-clear _view_filled\"><span class=\"input__context\"><input autocomplete=\"disable\" autocorrect=\"off\" class=\"input__control\" placeholder=\"Куда\" type=\"search\" value=\"Бакунинская улица, 94с1\"/></span><span class=\"input__icons-right\"><span class=\"input__icon\"></span><span class=\"input__icon\"><div class=\"input__clear\"></div></span></span></span></div></div><div class=\"drag-handler-view\"></div></div></div></div></div></div><div class=\"route-form-view__reverse\"><div class=\"route-form-view__reverse-icon\"></div></div></div><div class=\"route-form-view__buttons\"><div class=\"route-form-view__add\">Добавить точку</div><input class=\"route-form-view__reset\" type=\"reset\" value=\"Сбросить\"/><input class=\"route-form-view__submit\" type=\"submit\"/></div></form></div><div class=\"route-panel-form-view__route-list\"><div class=\"route-list-view _travel-mode_auto\"><div class=\"route-list-view__incut\"><div class=\"route-list-view__settings\">Параметры<div class=\"route-list-view__settings-count\">1</div><span class=\"inline-image flip-icon\" style=\"font-size:0;line-height:0\"></span></div><div class=\"route-list-view__time-dependent-incut\">Отправление сейчас</div></div><div class=\"dropdown-view\"></div><div class=\"route-list-view__emergency\"></div><div class=\"route-list-view__list\"><div class=\"route-snippet-view _active _type_auto\"><div class=\"auto-route-snippet-view\"><div class=\"auto-route-snippet-view__route-title\"><div class=\"auto-route-snippet-view__route-title-primary\">1 мин</div><div class=\"auto-route-snippet-view__hints\"><div class=\"auto-route-snippet-view__arrival\">Прибытие в 19:21</div><div class=\"route-warning-view _type_barrier\"></div></div></div><div class=\"auto-route-snippet-view__route-subtitle\">270 м, <span class=\"auto-route-snippet-view__excluding-traffic\">Без учета пробок</span></div><div class=\"auto-route-snippet-view__links\"><div class=\"auto-route-snippet-view__show-details\">Посмотреть подробнее</div><div class=\"route-snippet-feedback-button-view\">Исправить<span class=\"inline-image route-snippet-feedback-button-view__icon\" style=\"font-size:0;line-height:0\"></span></div></div></div></div><div class=\"route-list-view__mobile-share\"><div class=\"card-tip-view\"><div class=\"card-tip-view__icon\"><span class=\"inline-image\" style=\"font-size:0;line-height:0\"></span></div><div class=\"card-tip-view__text\">Отправьте этот маршрут на телефон</div><div class=\"card-tip-view__button\"><button class=\"button _view_secondary-blue _ui _size_small\" type=\"button\"><span class=\"button__text\"><span class=\"card-tip-view__send-text\">Отправить</span></span></button></div></div></div></div></div><iframe class=\"resize-listener\" tabindex=\"-1\"></iframe></div></div><div class=\"vpnc__dcccaeedcdf\"><div class=\"fue__eeddbeaec\"><div class=\"iri__beebce\"></div><div class=\"ehvo__bfbdbbfdcccaddb\"></div></div></div><div class=\"ljqb__eebcdcdab\" style=\"border-top:8px solid #eee;background-color:#fff;padding:0\"></div></div>"
      ]
     },
     "execution_count": 173,
     "metadata": {},
     "output_type": "execute_result"
    }
   ],
   "source": [
    "child.div.div.div.div.div.div.div.div"
   ]
  },
  {
   "cell_type": "code",
   "execution_count": null,
   "metadata": {},
   "outputs": [],
   "source": []
  },
  {
   "cell_type": "code",
   "execution_count": 143,
   "metadata": {},
   "outputs": [
    {
     "name": "stdout",
     "output_type": "stream",
     "text": [
      "30 мин\n"
     ]
    }
   ],
   "source": [
    " # время"
   ]
  },
  {
   "cell_type": "code",
   "execution_count": 148,
   "metadata": {},
   "outputs": [
    {
     "name": "stdout",
     "output_type": "stream",
     "text": [
      "28 км\n"
     ]
    }
   ],
   "source": []
  },
  {
   "cell_type": "code",
   "execution_count": null,
   "metadata": {},
   "outputs": [],
   "source": [
    "f = open('distances.pkl', 'wb')\n",
    "\n",
    "pickle.dump(distances, f)\n",
    "\n",
    "f.close()"
   ]
  },
  {
   "cell_type": "markdown",
   "metadata": {},
   "source": [
    "## Формирование датасетов"
   ]
  },
  {
   "cell_type": "code",
   "execution_count": null,
   "metadata": {},
   "outputs": [],
   "source": [
    "f = open('distances.pkl', 'rb')\n",
    "\n",
    "distances = pickle.load(f)\n",
    "\n",
    "f.close()"
   ]
  },
  {
   "cell_type": "code",
   "execution_count": null,
   "metadata": {},
   "outputs": [],
   "source": [
    "companies = list(distances.keys())\n",
    "companies.remove('CDEK')"
   ]
  },
  {
   "cell_type": "code",
   "execution_count": null,
   "metadata": {},
   "outputs": [],
   "source": [
    "final_points = []\n",
    "final_distances = []\n",
    "for c in companies:\n",
    "    n = distances[c].shape[0]\n",
    "    counter = 0\n",
    "    ind = []\n",
    "    for i in range(n):\n",
    "        if distances[c][i].max() > 200:\n",
    "            counter = counter + 1\n",
    "        else:\n",
    "            ind.append(i)\n",
    "    ind = np.array(ind)\n",
    "    final_points.append(np.array(company_ads[c])[ind])\n",
    "    d = distances[c][np.ix_(ind, ind)]\n",
    "    for i in range(n-counter):\n",
    "        for j in range(i + 1, n-counter):\n",
    "            d[j][i] = d[i][j]\n",
    "    final_distances.append(d)\n",
    "    print(c, n - counter)"
   ]
  },
  {
   "cell_type": "code",
   "execution_count": null,
   "metadata": {},
   "outputs": [],
   "source": [
    "point_set = []\n",
    "dists_set = []\n",
    "for i in range(len(final_points)):\n",
    "    r = np.arange(len(final_points[i]))\n",
    "    if companies[i] == 'Boxberry':\n",
    "        continue\n",
    "    for t in range(T):\n",
    "        ind = np.random.choice(r, size=(50,), replace=False).astype(int)\n",
    "        points = final_points[i][ind]\n",
    "        min_x = points[:, 0].min()\n",
    "        min_y = points[:, 1].min()\n",
    "        points[:, 0] = points[:, 0] - min_x\n",
    "        points[:, 1] = points[:, 1] - min_y\n",
    "        max_x = points[:, 0].max()\n",
    "        max_y = points[:, 1].max()\n",
    "        points[:, 0] = points[:, 0]/max_x\n",
    "        points[:, 1] = points[:, 1]/max_y\n",
    "        dists = final_distances[i][np.ix_(ind, ind)]\n",
    "        point_set.append(points)\n",
    "        dists_set.append(dists)"
   ]
  },
  {
   "cell_type": "code",
   "execution_count": null,
   "metadata": {},
   "outputs": [],
   "source": [
    "f = open('./data/parsed_data/dataset_50.pkl', 'wb')\n",
    "\n",
    "pickle.dump(point_set, f)\n",
    "\n",
    "f.close()\n",
    "\n",
    "f = open('./data/parsed_data/dataset_dist_50.pkl', 'wb')\n",
    "\n",
    "pickle.dump(dists_set, f)\n",
    "\n",
    "f.close()"
   ]
  },
  {
   "cell_type": "code",
   "execution_count": null,
   "metadata": {},
   "outputs": [],
   "source": [
    "point_set = []\n",
    "dists_set = []\n",
    "for i in range(len(final_points)):\n",
    "    r = np.arange(len(final_points[i]))\n",
    "    for t in range(T):\n",
    "        ind = np.random.choice(r, size=(20,), replace=False).astype(int)\n",
    "        points = final_points[i][ind]\n",
    "        min_x = points[:, 0].min()\n",
    "        min_y = points[:, 1].min()\n",
    "        points[:, 0] = points[:, 0] - min_x\n",
    "        points[:, 1] = points[:, 1] - min_y\n",
    "        max_x = points[:, 0].max()\n",
    "        max_y = points[:, 1].max()\n",
    "        points[:, 0] = points[:, 0]/max_x\n",
    "        points[:, 1] = points[:, 1]/max_y\n",
    "        dists = final_distances[i][np.ix_(ind, ind)]\n",
    "        point_set.append(points)\n",
    "        dists_set.append(dists)"
   ]
  },
  {
   "cell_type": "code",
   "execution_count": null,
   "metadata": {},
   "outputs": [],
   "source": [
    "f = open('./data/parsed_data/dataset_20.pkl', 'wb')\n",
    "\n",
    "pickle.dump(point_set, f)\n",
    "\n",
    "f.close()\n",
    "\n",
    "f = open('./data/parsed_data/dataset_dist_20.pkl', 'wb')\n",
    "\n",
    "pickle.dump(dists_set, f)\n",
    "\n",
    "f.close()"
   ]
  },
  {
   "cell_type": "markdown",
   "metadata": {},
   "source": [
    "## CVRP Instances"
   ]
  },
  {
   "cell_type": "code",
   "execution_count": 15,
   "metadata": {},
   "outputs": [],
   "source": [
    "dirs = ['A-VRP', 'B-VRP', 'CE-VRP', 'F-VRP', 'P-VRP', 'TSPLIB']\n",
    "path = 'd:/arseniy/studies/sci/cmc6/data/cvrp/'"
   ]
  },
  {
   "cell_type": "code",
   "execution_count": 47,
   "metadata": {
    "collapsed": true
   },
   "outputs": [
    {
     "name": "stdout",
     "output_type": "stream",
     "text": [
      "A-n32-k5.vrp\n",
      "A-n33-k5.vrp\n",
      "A-n33-k6.vrp\n",
      "A-n34-k5.vrp\n",
      "A-n36-k5.vrp\n",
      "A-n37-k5.vrp\n",
      "A-n37-k6.vrp\n",
      "A-n38-k5.vrp\n",
      "A-n39-k5.vrp\n",
      "A-n39-k6.vrp\n",
      "A-n44-k7.vrp\n",
      "A-n45-k6.vrp\n",
      "A-n45-k7.vrp\n",
      "A-n46-k7.vrp\n",
      "A-n48-k7.vrp\n",
      "A-n53-k7.vrp\n",
      "A-n54-k7.vrp\n",
      "A-n55-k9.vrp\n",
      "A-n60-k9.vrp\n",
      "A-n61-k9.vrp\n",
      "A-n62-k8.vrp\n",
      "A-n63-k10.vrp\n",
      "A-n63-k9.vrp\n",
      "A-n64-k9.vrp\n",
      "A-n65-k9.vrp\n",
      "A-n69-k9.vrp\n",
      "A-n80-k10.vrp\n",
      "B-n31-k5.vrp\n",
      "B-n34-k5.vrp\n",
      "B-n35-k5.vrp\n",
      "B-n38-k6.vrp\n",
      "B-n39-k5.vrp\n",
      "B-n41-k6.vrp\n",
      "B-n43-k6.vrp\n",
      "B-n44-k7.vrp\n",
      "B-n45-k5.vrp\n",
      "B-n45-k6.vrp\n",
      "B-n50-k7.vrp\n",
      "B-n50-k8.vrp\n",
      "B-n51-k7.vrp\n",
      "B-n52-k7.vrp\n",
      "B-n56-k7.vrp\n",
      "B-n57-k7.vrp\n",
      "B-n57-k9.vrp\n",
      "B-n63-k10.vrp\n",
      "B-n64-k9.vrp\n",
      "B-n66-k9.vrp\n",
      "B-n67-k10.vrp\n",
      "B-n68-k9.vrp\n",
      "B-n78-k10.vrp\n",
      "E-n101-k14.vrp\n",
      "E-n101-k8.vrp\n",
      "E-n22-k4.vrp\n",
      "E-n23-k3.vrp\n",
      "E-n30-k3.vrp\n",
      "E-n30-k4.vrp\n",
      "E-n33-k4.vrp\n",
      "E-n51-k5.vrp\n",
      "E-n76-k10.vrp\n",
      "E-n76-k14.vrp\n",
      "E-n76-k15.vrp\n",
      "E-n76-k7.vrp\n",
      "E-n76-k8.vrp\n",
      "F-n135-k7.vrp\n",
      "F-n45-k4.vrp\n",
      "F-n72-k4.vrp\n",
      "P-n101-k4.vrp\n",
      "P-n16-k8.vrp\n",
      "P-n19-k2.vrp\n",
      "P-n20-k2.vrp\n",
      "P-n21-k2.vrp\n",
      "P-n22-k2.vrp\n",
      "P-n22-k8.vrp\n",
      "P-n23-k8.vrp\n",
      "P-n40-k5.vrp\n",
      "P-n45-k5.vrp\n",
      "P-n50-k10.vrp\n",
      "P-n50-k7.vrp\n",
      "P-n50-k8.vrp\n",
      "P-n51-k10.vrp\n",
      "P-n55-k10.vrp\n",
      "P-n55-k15.vrp\n",
      "P-n55-k7.vrp\n",
      "P-n55-k8.vrp\n",
      "P-n60-k10.vrp\n",
      "P-n60-k15.vrp\n",
      "P-n65-k10.vrp\n",
      "P-n70-k10.vrp\n",
      "P-n76-k4.vrp\n",
      "P-n76-k5.vrp\n",
      "att-n48-k4.vrp\n",
      "ulysses-n16-k3.vrp\n",
      "ulysses-n22-k4.vrp\n"
     ]
    }
   ],
   "source": [
    "data = {}\n",
    "for directory in dirs:\n",
    "    cur_path = path + directory\n",
    "    files = os.listdir(cur_path)\n",
    "    instances = []\n",
    "    for file in files:\n",
    "        instance = {}\n",
    "        f = open(cur_path + '/' + file, 'r')\n",
    "        i = 0\n",
    "        node_coord_flag = 0\n",
    "        demand_flag = 0\n",
    "        coords = []\n",
    "        demand = []\n",
    "        for row in f:\n",
    "            if i == 0:\n",
    "                instance['Name'] = row.split(':')[1].strip()\n",
    "            elif i == 5:\n",
    "                print(file)\n",
    "                instance['Capacity'] = int(row.split(':')[1])\n",
    "            else:\n",
    "                if node_coord_flag and not ('DEMAND_SECTION' in row):\n",
    "                    coords.append((int(float(re.sub(' +', ' ', row.strip()).split(' ')[1])),\\\n",
    "                                   int(float(re.sub(' +', ' ', row.strip()).split(' ')[2]))))\n",
    "                if 'NODE_COORD_SECTION' in row:\n",
    "                    node_coord_flag = 1\n",
    "                if demand_flag and not ('DEPOT_SECTION' in row):\n",
    "                    demand.append(int(row.strip().split(' ')[1]))\n",
    "                if 'DEMAND_SECTION' in row:\n",
    "                    node_coord_flag = 0\n",
    "                    demand_flag = 1\n",
    "                if 'DEPOT_SECTION' in row:\n",
    "                    break\n",
    "            i = i + 1\n",
    "        f.close()\n",
    "        instance['Coords'] = coords\n",
    "        instance['Demand'] = demand\n",
    "        instances.append(instance)\n",
    "    data[directory] = instances"
   ]
  },
  {
   "cell_type": "code",
   "execution_count": 49,
   "metadata": {},
   "outputs": [],
   "source": [
    "f = open('cvrp.pkl', 'wb')\n",
    "\n",
    "pickle.dump(data, f)\n",
    "\n",
    "f.close()"
   ]
  }
 ],
 "metadata": {
  "kernelspec": {
   "display_name": "Python 3",
   "language": "python",
   "name": "python3"
  },
  "language_info": {
   "codemirror_mode": {
    "name": "ipython",
    "version": 3
   },
   "file_extension": ".py",
   "mimetype": "text/x-python",
   "name": "python",
   "nbconvert_exporter": "python",
   "pygments_lexer": "ipython3",
   "version": "3.7.6"
  }
 },
 "nbformat": 4,
 "nbformat_minor": 4
}
