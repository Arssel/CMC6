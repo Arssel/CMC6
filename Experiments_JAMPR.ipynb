{
 "cells": [
  {
   "cell_type": "code",
   "execution_count": 2,
   "metadata": {},
   "outputs": [],
   "source": [
    "%load_ext autoreload\n",
    "\n",
    "%autoreload 2"
   ]
  },
  {
   "cell_type": "code",
   "execution_count": 55,
   "metadata": {},
   "outputs": [],
   "source": [
    "import os\n",
    "import numpy as np\n",
    "from matplotlib import pyplot as plt\n",
    "import torch\n",
    "from celluloid import Camera\n",
    "from matplotlib.backend_bases import FigureCanvasBase\n",
    "from matplotlib.animation import FuncAnimation\n",
    "from IPython.display import clear_output\n",
    "import pickle\n",
    "\n",
    "import torch\n",
    "import torch.nn as nn\n",
    "import torch.optim as optim\n",
    "import torch.nn.functional as F\n",
    "\n",
    "import timeit\n",
    "\n",
    "from src.environment_old import LogEnv_old\n",
    "from src.utils import path_distance_new, check_missing_vertexes_jampr\n",
    "\n",
    "from src.or_functions import compute_distance\n",
    "\n",
    "#from src.environment import LogEnv\n",
    "#from src.train import train\n",
    "#from src.architecture import AttentionModel\n",
    "#from src.evaluation import compute_mean_metric, compute_data_metric, compute_mean_metric_with_or\n",
    "#from src.vizualisation import demonstration, action_animation\n",
    "from src.environment_jampr_real import LogEnv\n",
    "from src.architecture_jampr_2 import AttentionModel\n",
    "from src.train_jampr import train\n",
    "from src.or_functions_jampr import compute_distance\n",
    "from src.evaluation_jampr import compute_mean_metric, compute_mean_metric_with_or, compute_metric_on_data\n",
    "from src.vizualisation_jampr import demonstration, env_plot\n",
    "\n",
    "import GPUtil\n",
    "from pytorch_memlab import LineProfiler, MemReporter"
   ]
  },
  {
   "cell_type": "markdown",
   "metadata": {},
   "source": [
    "## Отладка"
   ]
  },
  {
   "cell_type": "code",
   "execution_count": 19,
   "metadata": {},
   "outputs": [
    {
     "data": {
      "text/plain": [
       "'a'"
      ]
     },
     "execution_count": 19,
     "metadata": {},
     "output_type": "execute_result"
    }
   ],
   "source": [
    "env = LogEnv(n=20, batch_size=1, active_num=1, K=5)\n",
    "env.reset()\n",
    "'a'"
   ]
  },
  {
   "cell_type": "code",
   "execution_count": null,
   "metadata": {},
   "outputs": [],
   "source": [
    "model = AttentionModel(active_num=1).to('cuda')\n",
    "#model.eval()\n",
    "'a'\n",
    "#model.load_state_dict(weights)"
   ]
  },
  {
   "cell_type": "code",
   "execution_count": null,
   "metadata": {
    "scrolled": false
   },
   "outputs": [],
   "source": [
    "features, _, mask = env.reset(full_reset=False)\n",
    "print(mask)\n",
    "print(features[0][:, :, 3:5])\n",
    "print(features[0][:, :, 2])\n",
    "flag = False\n",
    "while not flag:\n",
    "    v1 = int(input())\n",
    "    v2 = int(input())\n",
    "    v = torch.tensor([v1, v2]).view(1, -1)\n",
    "    v1 = int(input())\n",
    "    v2 = int(input())\n",
    "    v_m = torch.tensor([v1, v2]).view(1, -1)\n",
    "    v = torch.cat([v, v_m], dim=0)\n",
    "    print(v)\n",
    "    #print(d[0, v[0, 1], :])\n",
    "    features, mask, flag = env.step(v)\n",
    "    features = list(map(lambda x: x.to('cuda'), features))\n",
    "    print(mask)\n",
    "    print(flag)\n",
    "print(env.tour_plan)\n",
    "print(features[2][:, :, 4].sum().to('cpu') + check_missing_vertexes_jampr(env.tour_plan, problem_size) * 10000)\n",
    "\n",
    "#20 -> 13 -> 2 -> 16 -> 18 -> 15 -> 14 -> 3\n",
    "#9 -> 1 -> 17 -> 10 -> 7 -> 8\n",
    "#19 -> 12 -> 5 -> 11 -> 6 -> 4\n",
    "\n",
    "\n",
    "#17 -> 9 -> 7 -> 1 -> 19 -> 12 -> 11 -> 6\n",
    "#13 -> 3\n",
    "#2 -> 15\n",
    "#20 -> 5 -> 4 -> 14\n",
    "#10 -> 8 -> 16 -> 18"
   ]
  },
  {
   "cell_type": "code",
   "execution_count": 21,
   "metadata": {},
   "outputs": [],
   "source": [
    "features, _, mask = env.reset(full_reset=True)"
   ]
  },
  {
   "cell_type": "code",
   "execution_count": 22,
   "metadata": {
    "scrolled": true
   },
   "outputs": [
    {
     "name": "stdout",
     "output_type": "stream",
     "text": [
      "tensor([[[0.0000, 0.2083],\n",
      "         [0.6833, 0.8500],\n",
      "         [0.6950, 0.8617],\n",
      "         [0.8324, 0.9991],\n",
      "         [0.3360, 0.5026],\n",
      "         [0.0364, 0.2031],\n",
      "         [0.9879, 1.0000],\n",
      "         [0.6764, 0.8431],\n",
      "         [0.9924, 1.0000],\n",
      "         [0.2709, 0.4375],\n",
      "         [0.0285, 0.1952],\n",
      "         [0.1813, 0.3480],\n",
      "         [0.9807, 1.0000],\n",
      "         [0.6374, 0.8040],\n",
      "         [0.0690, 0.2357],\n",
      "         [0.6442, 0.8109],\n",
      "         [0.2439, 0.4106],\n",
      "         [0.3248, 0.4915],\n",
      "         [0.8320, 0.9987],\n",
      "         [0.8878, 1.0000],\n",
      "         [0.2663, 0.4329],\n",
      "         [0.0000, 1.0000]]])\n",
      "tensor([[0.0000, 0.0871, 0.0629, 0.0243, 0.0043, 0.0414, 0.0043, 0.0014, 0.0871,\n",
      "         0.1129, 0.0286, 0.0486, 0.1057, 0.0657, 0.0157, 0.1271, 0.0871, 0.0529,\n",
      "         0.0471, 0.0643, 0.0029, 0.0000]])\n",
      "0\n"
     ]
    },
    {
     "ename": "KeyboardInterrupt",
     "evalue": "",
     "output_type": "error",
     "traceback": [
      "\u001b[1;31m---------------------------------------------------------------------------\u001b[0m",
      "\u001b[1;31mKeyboardInterrupt\u001b[0m                         Traceback (most recent call last)",
      "\u001b[1;32mC:\\ProgramData\\Anaconda3\\lib\\site-packages\\ipykernel\\kernelbase.py\u001b[0m in \u001b[0;36m_input_request\u001b[1;34m(self, prompt, ident, parent, password)\u001b[0m\n\u001b[0;32m    883\u001b[0m             \u001b[1;32mtry\u001b[0m\u001b[1;33m:\u001b[0m\u001b[1;33m\u001b[0m\u001b[1;33m\u001b[0m\u001b[0m\n\u001b[1;32m--> 884\u001b[1;33m                 \u001b[0mident\u001b[0m\u001b[1;33m,\u001b[0m \u001b[0mreply\u001b[0m \u001b[1;33m=\u001b[0m \u001b[0mself\u001b[0m\u001b[1;33m.\u001b[0m\u001b[0msession\u001b[0m\u001b[1;33m.\u001b[0m\u001b[0mrecv\u001b[0m\u001b[1;33m(\u001b[0m\u001b[0mself\u001b[0m\u001b[1;33m.\u001b[0m\u001b[0mstdin_socket\u001b[0m\u001b[1;33m,\u001b[0m \u001b[1;36m0\u001b[0m\u001b[1;33m)\u001b[0m\u001b[1;33m\u001b[0m\u001b[1;33m\u001b[0m\u001b[0m\n\u001b[0m\u001b[0;32m    885\u001b[0m             \u001b[1;32mexcept\u001b[0m \u001b[0mException\u001b[0m\u001b[1;33m:\u001b[0m\u001b[1;33m\u001b[0m\u001b[1;33m\u001b[0m\u001b[0m\n",
      "\u001b[1;32mC:\\ProgramData\\Anaconda3\\lib\\site-packages\\jupyter_client\\session.py\u001b[0m in \u001b[0;36mrecv\u001b[1;34m(self, socket, mode, content, copy)\u001b[0m\n\u001b[0;32m    802\u001b[0m         \u001b[1;32mtry\u001b[0m\u001b[1;33m:\u001b[0m\u001b[1;33m\u001b[0m\u001b[1;33m\u001b[0m\u001b[0m\n\u001b[1;32m--> 803\u001b[1;33m             \u001b[0mmsg_list\u001b[0m \u001b[1;33m=\u001b[0m \u001b[0msocket\u001b[0m\u001b[1;33m.\u001b[0m\u001b[0mrecv_multipart\u001b[0m\u001b[1;33m(\u001b[0m\u001b[0mmode\u001b[0m\u001b[1;33m,\u001b[0m \u001b[0mcopy\u001b[0m\u001b[1;33m=\u001b[0m\u001b[0mcopy\u001b[0m\u001b[1;33m)\u001b[0m\u001b[1;33m\u001b[0m\u001b[1;33m\u001b[0m\u001b[0m\n\u001b[0m\u001b[0;32m    804\u001b[0m         \u001b[1;32mexcept\u001b[0m \u001b[0mzmq\u001b[0m\u001b[1;33m.\u001b[0m\u001b[0mZMQError\u001b[0m \u001b[1;32mas\u001b[0m \u001b[0me\u001b[0m\u001b[1;33m:\u001b[0m\u001b[1;33m\u001b[0m\u001b[1;33m\u001b[0m\u001b[0m\n",
      "\u001b[1;32mC:\\ProgramData\\Anaconda3\\lib\\site-packages\\zmq\\sugar\\socket.py\u001b[0m in \u001b[0;36mrecv_multipart\u001b[1;34m(self, flags, copy, track)\u001b[0m\n\u001b[0;32m    474\u001b[0m         \"\"\"\n\u001b[1;32m--> 475\u001b[1;33m         \u001b[0mparts\u001b[0m \u001b[1;33m=\u001b[0m \u001b[1;33m[\u001b[0m\u001b[0mself\u001b[0m\u001b[1;33m.\u001b[0m\u001b[0mrecv\u001b[0m\u001b[1;33m(\u001b[0m\u001b[0mflags\u001b[0m\u001b[1;33m,\u001b[0m \u001b[0mcopy\u001b[0m\u001b[1;33m=\u001b[0m\u001b[0mcopy\u001b[0m\u001b[1;33m,\u001b[0m \u001b[0mtrack\u001b[0m\u001b[1;33m=\u001b[0m\u001b[0mtrack\u001b[0m\u001b[1;33m)\u001b[0m\u001b[1;33m]\u001b[0m\u001b[1;33m\u001b[0m\u001b[1;33m\u001b[0m\u001b[0m\n\u001b[0m\u001b[0;32m    476\u001b[0m         \u001b[1;31m# have first part already, only loop while more to receive\u001b[0m\u001b[1;33m\u001b[0m\u001b[1;33m\u001b[0m\u001b[1;33m\u001b[0m\u001b[0m\n",
      "\u001b[1;32mzmq/backend/cython/socket.pyx\u001b[0m in \u001b[0;36mzmq.backend.cython.socket.Socket.recv\u001b[1;34m()\u001b[0m\n",
      "\u001b[1;32mzmq/backend/cython/socket.pyx\u001b[0m in \u001b[0;36mzmq.backend.cython.socket.Socket.recv\u001b[1;34m()\u001b[0m\n",
      "\u001b[1;32mzmq/backend/cython/socket.pyx\u001b[0m in \u001b[0;36mzmq.backend.cython.socket._recv_copy\u001b[1;34m()\u001b[0m\n",
      "\u001b[1;32mC:\\ProgramData\\Anaconda3\\lib\\site-packages\\zmq\\backend\\cython\\checkrc.pxd\u001b[0m in \u001b[0;36mzmq.backend.cython.checkrc._check_rc\u001b[1;34m()\u001b[0m\n",
      "\u001b[1;31mKeyboardInterrupt\u001b[0m: ",
      "\nDuring handling of the above exception, another exception occurred:\n",
      "\u001b[1;31mKeyboardInterrupt\u001b[0m                         Traceback (most recent call last)",
      "\u001b[1;32m<ipython-input-22-a93643ad033e>\u001b[0m in \u001b[0;36m<module>\u001b[1;34m\u001b[0m\n\u001b[0;32m      5\u001b[0m \u001b[0mflag\u001b[0m \u001b[1;33m=\u001b[0m \u001b[1;32mFalse\u001b[0m\u001b[1;33m\u001b[0m\u001b[1;33m\u001b[0m\u001b[0m\n\u001b[0;32m      6\u001b[0m \u001b[1;32mwhile\u001b[0m \u001b[1;32mnot\u001b[0m \u001b[0mflag\u001b[0m\u001b[1;33m:\u001b[0m\u001b[1;33m\u001b[0m\u001b[1;33m\u001b[0m\u001b[0m\n\u001b[1;32m----> 7\u001b[1;33m     \u001b[0mv1\u001b[0m \u001b[1;33m=\u001b[0m \u001b[0mint\u001b[0m\u001b[1;33m(\u001b[0m\u001b[0minput\u001b[0m\u001b[1;33m(\u001b[0m\u001b[1;33m)\u001b[0m\u001b[1;33m)\u001b[0m\u001b[1;33m\u001b[0m\u001b[1;33m\u001b[0m\u001b[0m\n\u001b[0m\u001b[0;32m      8\u001b[0m     \u001b[0mv2\u001b[0m \u001b[1;33m=\u001b[0m \u001b[0mint\u001b[0m\u001b[1;33m(\u001b[0m\u001b[0minput\u001b[0m\u001b[1;33m(\u001b[0m\u001b[1;33m)\u001b[0m\u001b[1;33m)\u001b[0m\u001b[1;33m\u001b[0m\u001b[1;33m\u001b[0m\u001b[0m\n\u001b[0;32m      9\u001b[0m     \u001b[0mv\u001b[0m \u001b[1;33m=\u001b[0m \u001b[0mtorch\u001b[0m\u001b[1;33m.\u001b[0m\u001b[0mtensor\u001b[0m\u001b[1;33m(\u001b[0m\u001b[1;33m[\u001b[0m\u001b[0mv1\u001b[0m\u001b[1;33m,\u001b[0m \u001b[0mv2\u001b[0m\u001b[1;33m]\u001b[0m\u001b[1;33m)\u001b[0m\u001b[1;33m.\u001b[0m\u001b[0mview\u001b[0m\u001b[1;33m(\u001b[0m\u001b[1;36m1\u001b[0m\u001b[1;33m,\u001b[0m \u001b[1;33m-\u001b[0m\u001b[1;36m1\u001b[0m\u001b[1;33m)\u001b[0m\u001b[1;33m\u001b[0m\u001b[1;33m\u001b[0m\u001b[0m\n",
      "\u001b[1;32mC:\\ProgramData\\Anaconda3\\lib\\site-packages\\ipykernel\\kernelbase.py\u001b[0m in \u001b[0;36mraw_input\u001b[1;34m(self, prompt)\u001b[0m\n\u001b[0;32m    857\u001b[0m             \u001b[0mself\u001b[0m\u001b[1;33m.\u001b[0m\u001b[0m_parent_ident\u001b[0m\u001b[1;33m,\u001b[0m\u001b[1;33m\u001b[0m\u001b[1;33m\u001b[0m\u001b[0m\n\u001b[0;32m    858\u001b[0m             \u001b[0mself\u001b[0m\u001b[1;33m.\u001b[0m\u001b[0m_parent_header\u001b[0m\u001b[1;33m,\u001b[0m\u001b[1;33m\u001b[0m\u001b[1;33m\u001b[0m\u001b[0m\n\u001b[1;32m--> 859\u001b[1;33m             \u001b[0mpassword\u001b[0m\u001b[1;33m=\u001b[0m\u001b[1;32mFalse\u001b[0m\u001b[1;33m,\u001b[0m\u001b[1;33m\u001b[0m\u001b[1;33m\u001b[0m\u001b[0m\n\u001b[0m\u001b[0;32m    860\u001b[0m         )\n\u001b[0;32m    861\u001b[0m \u001b[1;33m\u001b[0m\u001b[0m\n",
      "\u001b[1;32mC:\\ProgramData\\Anaconda3\\lib\\site-packages\\ipykernel\\kernelbase.py\u001b[0m in \u001b[0;36m_input_request\u001b[1;34m(self, prompt, ident, parent, password)\u001b[0m\n\u001b[0;32m    887\u001b[0m             \u001b[1;32mexcept\u001b[0m \u001b[0mKeyboardInterrupt\u001b[0m\u001b[1;33m:\u001b[0m\u001b[1;33m\u001b[0m\u001b[1;33m\u001b[0m\u001b[0m\n\u001b[0;32m    888\u001b[0m                 \u001b[1;31m# re-raise KeyboardInterrupt, to truncate traceback\u001b[0m\u001b[1;33m\u001b[0m\u001b[1;33m\u001b[0m\u001b[1;33m\u001b[0m\u001b[0m\n\u001b[1;32m--> 889\u001b[1;33m                 \u001b[1;32mraise\u001b[0m \u001b[0mKeyboardInterrupt\u001b[0m\u001b[1;33m\u001b[0m\u001b[1;33m\u001b[0m\u001b[0m\n\u001b[0m\u001b[0;32m    890\u001b[0m             \u001b[1;32melse\u001b[0m\u001b[1;33m:\u001b[0m\u001b[1;33m\u001b[0m\u001b[1;33m\u001b[0m\u001b[0m\n\u001b[0;32m    891\u001b[0m                 \u001b[1;32mbreak\u001b[0m\u001b[1;33m\u001b[0m\u001b[1;33m\u001b[0m\u001b[0m\n",
      "\u001b[1;31mKeyboardInterrupt\u001b[0m: "
     ]
    }
   ],
   "source": [
    "# print(mask)\n",
    "features, _, mask = env.reset(full_reset=False)\n",
    "print(features[0][:, :, 3:5])\n",
    "print(features[0][:, :, 2])\n",
    "flag = False\n",
    "while not flag:\n",
    "    v1 = int(input())\n",
    "    v2 = int(input())\n",
    "    v = torch.tensor([v1, v2]).view(1, -1)\n",
    "    print(v)\n",
    "    #print(d[0, v[0, 1], :])\n",
    "    features_new, mask, flag = env.step(v)\n",
    "    features_new = list(map(lambda x: x.to('cuda'), features_new))\n",
    "    print(features_new[1][:, :, -1])\n",
    "    print(mask)\n",
    "    print(flag)\n",
    "print(env.tour_plan)\n",
    "print(env.vehicle[:, :, 4].sum().to('cpu') + check_missing_vertexes_jampr(env.tour_plan, 20))\n",
    "\n",
    "#4 -> 3 -> 14 -> 17 -> 7 -> 16 -> 21\n",
    "#8 -> 20 -> 1 -> 12 -> 2 -> 11-> 21 \n",
    "#5 -> 13 -> 21\n",
    "#9 -> 10 -> 15 -> 6 -> 19 -> 18 -> 21"
   ]
  },
  {
   "cell_type": "code",
   "execution_count": 25,
   "metadata": {},
   "outputs": [],
   "source": [
    "device = 'cuda'"
   ]
  },
  {
   "cell_type": "code",
   "execution_count": null,
   "metadata": {},
   "outputs": [],
   "source": [
    "problem_size = 50"
   ]
  },
  {
   "cell_type": "code",
   "execution_count": 112,
   "metadata": {
    "scrolled": true
   },
   "outputs": [
    {
     "name": "stdout",
     "output_type": "stream",
     "text": [
      "tensor([[[ 0.0000, 20.7645, 46.6940, 34.8400, 39.4535, 42.8627, 39.5714,\n",
      "          40.4306, 41.5330, 31.4101, 37.5439,  0.0000],\n",
      "         [20.7645,  0.0000, 51.9079, 40.0539, 37.1199, 37.0982, 44.7853,\n",
      "          45.6444, 46.7469, 26.1591, 42.7577,  0.0000],\n",
      "         [46.6940, 51.9079,  0.0000, 26.8540, 31.0173, 43.7650, 22.1227,\n",
      "          28.7538, 22.5777, 40.7488, 28.3239,  0.0000],\n",
      "         [34.8400, 40.0539, 26.8540,  0.0000, 24.1838, 31.9109, 22.1034,\n",
      "          35.5873, 29.4112, 28.8948, 35.1573,  0.0000],\n",
      "         [39.4535, 37.1199, 31.0173, 24.1838,  0.0000, 28.9770, 31.2873,\n",
      "          44.7712, 38.5950, 25.9608, 44.3412,  0.0000],\n",
      "         [42.8627, 37.0982, 43.7650, 31.9109, 28.9770,  0.0000, 36.6423,\n",
      "          48.1804, 42.0043, 26.4526, 47.7504,  0.0000],\n",
      "         [39.5714, 44.7853, 22.1227, 22.1034, 31.2873, 36.6423,  0.0000,\n",
      "          28.4839, 22.3078, 33.6262, 28.0539,  0.0000],\n",
      "         [40.4306, 45.6444, 28.7538, 35.5873, 44.7712, 48.1804, 28.4839,\n",
      "           0.0000, 21.1761, 36.7278, 17.8867,  0.0000],\n",
      "         [41.5330, 46.7469, 22.5777, 29.4112, 38.5950, 42.0043, 22.3078,\n",
      "          21.1761,  0.0000, 35.5878, 20.7461,  0.0000],\n",
      "         [31.4101, 26.1591, 40.7488, 28.8948, 25.9608, 26.4526, 33.6262,\n",
      "          36.7278, 35.5878,  0.0000, 36.2978,  0.0000],\n",
      "         [37.5439, 42.7577, 28.3239, 35.1573, 44.3412, 47.7504, 28.0539,\n",
      "          17.8867, 20.7461, 36.2978,  0.0000,  0.0000],\n",
      "         [ 0.0000,  0.0000,  0.0000,  0.0000,  0.0000,  0.0000,  0.0000,\n",
      "           0.0000,  0.0000,  0.0000,  0.0000,  0.0000]]])\n",
      "tensor(26.3145)\n",
      "tensor([[[ 0.0000, 20.7645, 46.6940, 34.8400, 39.4535, 42.8627, 39.5714,\n",
      "          40.4306, 41.5330, 31.4101, 37.5439,  0.0000],\n",
      "         [20.7645,  0.0000, 51.9079, 40.0539, 37.1199, 37.0982, 44.7853,\n",
      "          45.6444, 46.7469, 26.1591, 42.7577,  0.0000],\n",
      "         [46.6940, 51.9079,  0.0000, 26.8540, 31.0173, 43.7650, 22.1227,\n",
      "          28.7538, 22.5777, 40.7488, 28.3239,  0.0000],\n",
      "         [34.8400, 40.0539, 26.8540,  0.0000, 24.1838, 31.9109, 22.1034,\n",
      "          35.5873, 29.4112, 28.8948, 35.1573,  0.0000],\n",
      "         [39.4535, 37.1199, 31.0173, 24.1838,  0.0000, 28.9770, 31.2873,\n",
      "          44.7712, 38.5950, 25.9608, 44.3412,  0.0000],\n",
      "         [42.8627, 37.0982, 43.7650, 31.9109, 28.9770,  0.0000, 36.6423,\n",
      "          48.1804, 42.0043, 26.4526, 47.7504,  0.0000],\n",
      "         [39.5714, 44.7853, 22.1227, 22.1034, 31.2873, 36.6423,  0.0000,\n",
      "          28.4839, 22.3078, 33.6262, 28.0539,  0.0000],\n",
      "         [40.4306, 45.6444, 28.7538, 35.5873, 44.7712, 48.1804, 28.4839,\n",
      "           0.0000, 21.1761, 36.7278, 17.8867,  0.0000],\n",
      "         [41.5330, 46.7469, 22.5777, 29.4112, 38.5950, 42.0043, 22.3078,\n",
      "          21.1761,  0.0000, 35.5878, 20.7461,  0.0000],\n",
      "         [31.4101, 26.1591, 40.7488, 28.8948, 25.9608, 26.4526, 33.6262,\n",
      "          36.7278, 35.5878,  0.0000, 36.2978,  0.0000],\n",
      "         [37.5439, 42.7577, 28.3239, 35.1573, 44.3412, 47.7504, 28.0539,\n",
      "          17.8867, 20.7461, 36.2978,  0.0000,  0.0000],\n",
      "         [ 0.0000,  0.0000,  0.0000,  0.0000,  0.0000,  0.0000,  0.0000,\n",
      "           0.0000,  0.0000,  0.0000,  0.0000,  0.0000]]])\n",
      "tensor([[[0.0000, 0.2083],\n",
      "         [0.9156, 1.0000],\n",
      "         [0.8419, 1.0000],\n",
      "         [0.7153, 0.8819],\n",
      "         [0.1085, 0.2751],\n",
      "         [0.1696, 0.3363],\n",
      "         [0.7502, 0.9169],\n",
      "         [0.4549, 0.6215],\n",
      "         [0.9441, 1.0000],\n",
      "         [0.4636, 0.6303],\n",
      "         [0.7491, 0.9158],\n",
      "         [0.0000, 1.0000]]])\n",
      "tensor([[0.0000, 0.1400, 0.1329, 0.1200, 0.0829, 0.1114, 0.0414, 0.1357, 0.0414,\n",
      "         0.0743, 0.0829, 0.0000]])\n",
      "tensor([[0., 0., 0., 0., 0., 0., 0., 0., 0., 0.]]) tensor([[0.]], device='cuda:0')\n",
      "tensor([0.])\n",
      "tensor([[0., 0., 0., 0., 0., 0., 0., 0., 0., 0., 0., 0.]])\n",
      "tensor([[0., 0., 0., 0., 0., 0., 0., 0., 0., 0., 0., 0.]])\n",
      "tensor([[0.2083, 1.0000, 1.0000, 0.8819, 0.2751, 0.3363, 0.9169, 0.6215, 1.0000,\n",
      "         0.6303, 0.9158, 1.0000]])\n",
      "tensor([[0., 0., 0., 0., 0., 0., 0., 0., 0., 0.]]) tensor([[0.]], device='cuda:0')\n",
      "tensor([0.])\n",
      "tensor([[0.0484, 0.0556, 0.0373, 0.0000, 0.0336, 0.0443, 0.0307, 0.0494, 0.0408,\n",
      "         0.0401, 0.0488, 0.0000]])\n",
      "tensor([[0.7637, 0.7709, 0.7526, 0.7153, 0.7489, 0.7596, 0.7460, 0.7647, 0.7561,\n",
      "         0.7554, 0.7641, 0.7153]])\n",
      "tensor([[0.2083, 1.0000, 1.0000, 0.8819, 0.2751, 0.3363, 0.9169, 0.6215, 1.0000,\n",
      "         0.6303, 0.9158, 1.0000]])\n",
      "tensor([[0.0000, 0.1200, 0.0000, 0.0000, 0.0000, 0.0000, 0.0000, 0.0000, 0.0000,\n",
      "         0.0000]]) tensor([[0.7153]], device='cuda:0')\n",
      "tensor([0.7460])\n",
      "tensor([[0.0550, 0.0622, 0.0307, 0.0307, 0.0435, 0.0509, 0.0000, 0.0396, 0.0310,\n",
      "         0.0467, 0.0390, 0.0000]])\n",
      "tensor([[0.8051, 0.8124, 0.7809, 0.7809, 0.7936, 0.8011, 0.7502, 0.7898, 0.7812,\n",
      "         0.7969, 0.7892, 0.7502]])\n",
      "tensor([[0.2083, 1.0000, 1.0000, 0.8819, 0.2751, 0.3363, 0.9169, 0.6215, 1.0000,\n",
      "         0.6303, 0.9158, 1.0000]])\n",
      "tensor([[0.0000, 0.1614, 0.0000, 0.0000, 0.0000, 0.0000, 0.0000, 0.0000, 0.0000,\n",
      "         0.0000]]) tensor([[0.7502]], device='cuda:0')\n",
      "tensor([0.7892])\n",
      "tensor([[0.0521, 0.0594, 0.0393, 0.0488, 0.0616, 0.0663, 0.0390, 0.0248, 0.0288,\n",
      "         0.0504, 0.0000, 0.0000]])\n",
      "tensor([[0.8413, 0.8485, 0.8285, 0.8380, 0.8507, 0.8555, 0.8281, 0.8140, 0.8180,\n",
      "         0.8396, 0.7892, 0.7892]])\n",
      "tensor([[0.2083, 1.0000, 1.0000, 0.8819, 0.2751, 0.3363, 0.9169, 0.6215, 1.0000,\n",
      "         0.6303, 0.9158, 1.0000]])\n",
      "tensor([[0.0000, 0.2443, 0.0000, 0.0000, 0.0000, 0.0000, 0.0000, 0.0000, 0.0000,\n",
      "         0.0000]]) tensor([[0.7892]], device='cuda:0')\n",
      "tensor([0.8285])\n",
      "tensor([[0.0649, 0.0721, 0.0000, 0.0373, 0.0431, 0.0608, 0.0307, 0.0399, 0.0314,\n",
      "         0.0566, 0.0393, 0.0000]])\n",
      "tensor([[0.9068, 0.9140, 0.8419, 0.8792, 0.8850, 0.9027, 0.8726, 0.8818, 0.8733,\n",
      "         0.8985, 0.8812, 0.8419]])\n",
      "tensor([[0.2083, 1.0000, 1.0000, 0.8819, 0.2751, 0.3363, 0.9169, 0.6215, 1.0000,\n",
      "         0.6303, 0.9158, 1.0000]])\n",
      "tensor([[0.0000, 0.3771, 0.0000, 0.0000, 0.0000, 0.0000, 0.0000, 0.0000, 0.0000,\n",
      "         0.0000]]) tensor([[0.8419]], device='cuda:0')\n",
      "tensor([0.9140])\n",
      "tensor([[0.0288, 0.0000, 0.0721, 0.0556, 0.0516, 0.0515, 0.0622, 0.0634, 0.0649,\n",
      "         0.0363, 0.0594, 0.0000]])\n",
      "tensor([[0.9444, 0.9156, 0.9877, 0.9712, 0.9671, 0.9671, 0.9778, 0.9790, 0.9805,\n",
      "         0.9519, 0.9750, 0.9156]])\n",
      "tensor([[0.2083, 1.0000, 1.0000, 0.8819, 0.2751, 0.3363, 0.9169, 0.6215, 1.0000,\n",
      "         0.6303, 0.9158, 1.0000]])\n",
      "tensor([[0.0000, 0.5171, 0.0000, 0.0000, 0.0000, 0.0000, 0.0000, 0.0000, 0.0000,\n",
      "         0.0000]]) tensor([[0.9156]], device='cuda:0')\n",
      "tensor([0.9805])\n",
      "tensor([[0.0577, 0.0649, 0.0314, 0.0408, 0.0536, 0.0583, 0.0310, 0.0294, 0.0000,\n",
      "         0.0494, 0.0288, 0.0000]])\n",
      "tensor([[1.0382, 1.0454, 1.0119, 1.0214, 1.0341, 1.0389, 1.0115, 1.0099, 0.9805,\n",
      "         1.0299, 1.0093, 0.9805]])\n",
      "tensor([[0.2083, 1.0000, 1.0000, 0.8819, 0.2751, 0.3363, 0.9169, 0.6215, 1.0000,\n",
      "         0.6303, 0.9158, 1.0000]])\n",
      "tensor([[0.0000, 0.5586, 0.0000, 0.0000, 0.0000, 0.0000, 0.0000, 0.0000, 0.0000,\n",
      "         0.0000]]) tensor([[0.]], device='cuda:0')\n",
      "tensor([0.0536])\n",
      "tensor([[0.0548, 0.0516, 0.0431, 0.0336, 0.0000, 0.0402, 0.0435, 0.0622, 0.0536,\n",
      "         0.0361, 0.0616, 0.0000]])\n",
      "tensor([[0.1633, 0.1600, 0.1516, 0.1421, 0.1085, 0.1487, 0.1519, 0.1707, 0.1621,\n",
      "         0.1445, 0.1701, 0.1085]])\n",
      "tensor([[0.2083, 1.0000, 1.0000, 0.8819, 0.2751, 0.3363, 0.9169, 0.6215, 1.0000,\n",
      "         0.6303, 0.9158, 1.0000]])\n",
      "tensor([[0.0000, 0.5586, 0.0829, 0.0000, 0.0000, 0.0000, 0.0000, 0.0000, 0.0000,\n",
      "         0.0000]]) tensor([[0.1085]], device='cuda:0')\n",
      "tensor([0.1445])\n",
      "tensor([[0.0436, 0.0363, 0.0566, 0.0401, 0.0361, 0.0367, 0.0467, 0.0510, 0.0494,\n",
      "         0.0000, 0.0504, 0.0000]])\n",
      "tensor([[0.5072, 0.4999, 0.5202, 0.5037, 0.4996, 0.5003, 0.5103, 0.5146, 0.5130,\n",
      "         0.4636, 0.5140, 0.4636]])\n",
      "tensor([[0.2083, 1.0000, 1.0000, 0.8819, 0.2751, 0.3363, 0.9169, 0.6215, 1.0000,\n",
      "         0.6303, 0.9158, 1.0000]])\n",
      "tensor([[0.0000, 0.5586, 0.1571, 0.0000, 0.0000, 0.0000, 0.0000, 0.0000, 0.0000,\n",
      "         0.0000]]) tensor([[0.4636]], device='cuda:0')\n",
      "tensor([0.5146])\n",
      "tensor([[0.0562, 0.0634, 0.0399, 0.0494, 0.0622, 0.0669, 0.0396, 0.0000, 0.0294,\n",
      "         0.0510, 0.0248, 0.0000]])\n",
      "tensor([[0.5708, 0.5780, 0.5545, 0.5640, 0.5768, 0.5815, 0.5542, 0.5146, 0.5440,\n",
      "         0.5656, 0.5394, 0.5146]])\n",
      "tensor([[0.2083, 1.0000, 1.0000, 0.8819, 0.2751, 0.3363, 0.9169, 0.6215, 1.0000,\n",
      "         0.6303, 0.9158, 1.0000]])\n",
      "tensor([[0.0000, 0.5586, 0.2929, 0.0000, 0.0000, 0.0000, 0.0000, 0.0000, 0.0000,\n",
      "         0.0000]]) tensor([[0.]], device='cuda:0')\n",
      "tensor([0.0669])\n",
      "tensor([[0.0595, 0.0515, 0.0608, 0.0443, 0.0402, 0.0000, 0.0509, 0.0669, 0.0583,\n",
      "         0.0367, 0.0663, 0.0000]])\n",
      "tensor([[0.2291, 0.2211, 0.2304, 0.2139, 0.2099, 0.1696, 0.2205, 0.2365, 0.2279,\n",
      "         0.2063, 0.2359, 0.1696]])\n",
      "tensor([[0.2083, 1.0000, 1.0000, 0.8819, 0.2751, 0.3363, 0.9169, 0.6215, 1.0000,\n",
      "         0.6303, 0.9158, 1.0000]])\n",
      "tensor([[0.1696]], device='cuda:0')\n",
      "tensor([[[ 0,  0,  0,  0,  0,  0,  0,  0,  0,  0,  0,  0,  0,  0,  0,  0,  0,\n",
      "           0,  0,  0,  0,  0,  0,  0,  0,  0,  0,  0,  0,  0,  0,  0,  0,  0,\n",
      "           0,  0,  0,  0,  0,  0,  0,  0,  0,  0,  0,  0,  0,  0,  0,  0,  0,\n",
      "           0,  0,  0,  0,  0,  0,  0,  0,  0,  0,  0,  0,  0,  0,  0,  0,  0,\n",
      "           0,  0,  0,  0,  0,  0,  0,  0,  0,  0,  0,  0,  0],\n",
      "         [ 3,  6, 10,  2,  1,  8,  0,  0,  0,  0,  0,  0,  0,  0,  0,  0,  0,\n",
      "           0,  0,  0,  0,  0,  0,  0,  0,  0,  0,  0,  0,  0,  0,  0,  0,  0,\n",
      "           0,  0,  0,  0,  0,  0,  0,  0,  0,  0,  0,  0,  0,  0,  0,  0,  0,\n",
      "           0,  0,  0,  0,  0,  0,  0,  0,  0,  0,  0,  0,  0,  0,  0,  0,  0,\n",
      "           0,  0,  0,  0,  0,  0,  0,  0,  0,  0,  0,  0,  0],\n",
      "         [ 4,  9,  7,  0,  0,  0,  0,  0,  0,  0,  0,  0,  0,  0,  0,  0,  0,\n",
      "           0,  0,  0,  0,  0,  0,  0,  0,  0,  0,  0,  0,  0,  0,  0,  0,  0,\n",
      "           0,  0,  0,  0,  0,  0,  0,  0,  0,  0,  0,  0,  0,  0,  0,  0,  0,\n",
      "           0,  0,  0,  0,  0,  0,  0,  0,  0,  0,  0,  0,  0,  0,  0,  0,  0,\n",
      "           0,  0,  0,  0,  0,  0,  0,  0,  0,  0,  0,  0,  0],\n",
      "         [ 5,  0,  0,  0,  0,  0,  0,  0,  0,  0,  0,  0,  0,  0,  0,  0,  0,\n",
      "           0,  0,  0,  0,  0,  0,  0,  0,  0,  0,  0,  0,  0,  0,  0,  0,  0,\n",
      "           0,  0,  0,  0,  0,  0,  0,  0,  0,  0,  0,  0,  0,  0,  0,  0,  0,\n",
      "           0,  0,  0,  0,  0,  0,  0,  0,  0,  0,  0,  0,  0,  0,  0,  0,  0,\n",
      "           0,  0,  0,  0,  0,  0,  0,  0,  0,  0,  0,  0,  0],\n",
      "         [ 0,  0,  0,  0,  0,  0,  0,  0,  0,  0,  0,  0,  0,  0,  0,  0,  0,\n",
      "           0,  0,  0,  0,  0,  0,  0,  0,  0,  0,  0,  0,  0,  0,  0,  0,  0,\n",
      "           0,  0,  0,  0,  0,  0,  0,  0,  0,  0,  0,  0,  0,  0,  0,  0,  0,\n",
      "           0,  0,  0,  0,  0,  0,  0,  0,  0,  0,  0,  0,  0,  0,  0,  0,  0,\n",
      "           0,  0,  0,  0,  0,  0,  0,  0,  0,  0,  0,  0,  0],\n",
      "         [ 0,  0,  0,  0,  0,  0,  0,  0,  0,  0,  0,  0,  0,  0,  0,  0,  0,\n",
      "           0,  0,  0,  0,  0,  0,  0,  0,  0,  0,  0,  0,  0,  0,  0,  0,  0,\n",
      "           0,  0,  0,  0,  0,  0,  0,  0,  0,  0,  0,  0,  0,  0,  0,  0,  0,\n",
      "           0,  0,  0,  0,  0,  0,  0,  0,  0,  0,  0,  0,  0,  0,  0,  0,  0,\n",
      "           0,  0,  0,  0,  0,  0,  0,  0,  0,  0,  0,  0,  0],\n",
      "         [ 0,  0,  0,  0,  0,  0,  0,  0,  0,  0,  0,  0,  0,  0,  0,  0,  0,\n",
      "           0,  0,  0,  0,  0,  0,  0,  0,  0,  0,  0,  0,  0,  0,  0,  0,  0,\n",
      "           0,  0,  0,  0,  0,  0,  0,  0,  0,  0,  0,  0,  0,  0,  0,  0,  0,\n",
      "           0,  0,  0,  0,  0,  0,  0,  0,  0,  0,  0,  0,  0,  0,  0,  0,  0,\n",
      "           0,  0,  0,  0,  0,  0,  0,  0,  0,  0,  0,  0,  0],\n",
      "         [ 0,  0,  0,  0,  0,  0,  0,  0,  0,  0,  0,  0,  0,  0,  0,  0,  0,\n",
      "           0,  0,  0,  0,  0,  0,  0,  0,  0,  0,  0,  0,  0,  0,  0,  0,  0,\n",
      "           0,  0,  0,  0,  0,  0,  0,  0,  0,  0,  0,  0,  0,  0,  0,  0,  0,\n",
      "           0,  0,  0,  0,  0,  0,  0,  0,  0,  0,  0,  0,  0,  0,  0,  0,  0,\n",
      "           0,  0,  0,  0,  0,  0,  0,  0,  0,  0,  0,  0,  0],\n",
      "         [ 0,  0,  0,  0,  0,  0,  0,  0,  0,  0,  0,  0,  0,  0,  0,  0,  0,\n",
      "           0,  0,  0,  0,  0,  0,  0,  0,  0,  0,  0,  0,  0,  0,  0,  0,  0,\n",
      "           0,  0,  0,  0,  0,  0,  0,  0,  0,  0,  0,  0,  0,  0,  0,  0,  0,\n",
      "           0,  0,  0,  0,  0,  0,  0,  0,  0,  0,  0,  0,  0,  0,  0,  0,  0,\n",
      "           0,  0,  0,  0,  0,  0,  0,  0,  0,  0,  0,  0,  0],\n",
      "         [ 0,  0,  0,  0,  0,  0,  0,  0,  0,  0,  0,  0,  0,  0,  0,  0,  0,\n",
      "           0,  0,  0,  0,  0,  0,  0,  0,  0,  0,  0,  0,  0,  0,  0,  0,  0,\n",
      "           0,  0,  0,  0,  0,  0,  0,  0,  0,  0,  0,  0,  0,  0,  0,  0,  0,\n",
      "           0,  0,  0,  0,  0,  0,  0,  0,  0,  0,  0,  0,  0,  0,  0,  0,  0,\n",
      "           0,  0,  0,  0,  0,  0,  0,  0,  0,  0,  0,  0,  0]]])\n"
     ]
    }
   ],
   "source": [
    "#env = LogEnv(n=10, batch_size=1, active_num=1)\n",
    "features, d, mask = env.reset(full_reset=True)\n",
    "print(d)\n",
    "#print(mask)\n",
    "#print(env.pairs)\n",
    "print(features[0][:, :, 3:5])\n",
    "print(features[0][:, :, 2])\n",
    "flag = False\n",
    "t = 0\n",
    "precomputed = None\n",
    "features[0] = features[0].to(device)\n",
    "features[1] = features[1].to(device)\n",
    "flag_done = False\n",
    "t = 0\n",
    "precomputed = None\n",
    "while not flag_done:\n",
    "    v, _, precomputed = model(features, mask, t, precomputed, False)\n",
    "    v = v.to('cpu')\n",
    "    with torch.no_grad():\n",
    "        print(env.fillness, features[1][:, :, -1])\n",
    "        features, mask, flag_done = env.step(v)\n",
    "        features[1] = features[1].to(device)\n",
    "    t += 1\n",
    "    #print(flag)\n",
    "    #print(mask)\n",
    "print(features[1][:, :, -1])\n",
    "print(env.tour_plan)"
   ]
  },
  {
   "cell_type": "code",
   "execution_count": 31,
   "metadata": {},
   "outputs": [
    {
     "data": {
      "text/plain": [
       "tensor([0.])"
      ]
     },
     "execution_count": 31,
     "metadata": {},
     "output_type": "execute_result"
    }
   ],
   "source": [
    "check_missing_vertexes_jampr(env.tour_plan, 10)\n"
   ]
  },
  {
   "cell_type": "code",
   "execution_count": 115,
   "metadata": {
    "scrolled": true
   },
   "outputs": [
    {
     "name": "stdout",
     "output_type": "stream",
     "text": [
      "tensor([1.6647])\n"
     ]
    }
   ],
   "source": [
    "print(env.vehicle[:, :, 4].sum().to('cpu') + check_missing_vertexes_jampr(env.tour_plan, 10))\n",
    "\n",
    "\n",
    "#20 -> 13 -> 2 -> 16 -> 18 -> 15 -> 14 -> 3\n",
    "#9 -> 1 -> 17 -> 10 -> 7 -> 8\n",
    "#19 -> 12 -> 5 -> 11 -> 6 -> 4"
   ]
  },
  {
   "cell_type": "code",
   "execution_count": 123,
   "metadata": {
    "scrolled": true
   },
   "outputs": [
    {
     "name": "stdout",
     "output_type": "stream",
     "text": [
      "tensor([[0.0000, 0.9805, 0.5146, 0.1696, 0.0000, 0.0000, 0.0000, 0.0000, 0.0000,\n",
      "         0.0000]])\n"
     ]
    }
   ],
   "source": [
    "print(env.vehicle[:, :, 4])"
   ]
  },
  {
   "cell_type": "code",
   "execution_count": 32,
   "metadata": {
    "scrolled": true
   },
   "outputs": [],
   "source": [
    "features, _, mask = env.reset(full_reset=False)"
   ]
  },
  {
   "cell_type": "code",
   "execution_count": 98,
   "metadata": {
    "scrolled": true
   },
   "outputs": [
    {
     "name": "stdout",
     "output_type": "stream",
     "text": [
      "tensor([[[ 2,  9,  6,  8,  4, 10,  1,  0,  0,  0,  0,  0,  0,  0,  0,  0,  0,\n",
      "           0,  0,  0,  0,  0,  0,  0,  0,  0,  0,  0,  0,  0,  0,  0,  0,  0,\n",
      "           0,  0,  0,  0,  0,  0,  0,  0,  0,  0,  0,  0,  0,  0,  0,  0,  0,\n",
      "           0,  0,  0,  0,  0,  0,  0,  0,  0,  0,  0,  0,  0,  0,  0,  0,  0,\n",
      "           0,  0,  0,  0,  0,  0,  0,  0,  0,  0,  0,  0,  0],\n",
      "         [ 3,  7,  5,  0,  0,  0,  0,  0,  0,  0,  0,  0,  0,  0,  0,  0,  0,\n",
      "           0,  0,  0,  0,  0,  0,  0,  0,  0,  0,  0,  0,  0,  0,  0,  0,  0,\n",
      "           0,  0,  0,  0,  0,  0,  0,  0,  0,  0,  0,  0,  0,  0,  0,  0,  0,\n",
      "           0,  0,  0,  0,  0,  0,  0,  0,  0,  0,  0,  0,  0,  0,  0,  0,  0,\n",
      "           0,  0,  0,  0,  0,  0,  0,  0,  0,  0,  0,  0,  0],\n",
      "         [ 0,  0,  0,  0,  0,  0,  0,  0,  0,  0,  0,  0,  0,  0,  0,  0,  0,\n",
      "           0,  0,  0,  0,  0,  0,  0,  0,  0,  0,  0,  0,  0,  0,  0,  0,  0,\n",
      "           0,  0,  0,  0,  0,  0,  0,  0,  0,  0,  0,  0,  0,  0,  0,  0,  0,\n",
      "           0,  0,  0,  0,  0,  0,  0,  0,  0,  0,  0,  0,  0,  0,  0,  0,  0,\n",
      "           0,  0,  0,  0,  0,  0,  0,  0,  0,  0,  0,  0,  0],\n",
      "         [ 0,  0,  0,  0,  0,  0,  0,  0,  0,  0,  0,  0,  0,  0,  0,  0,  0,\n",
      "           0,  0,  0,  0,  0,  0,  0,  0,  0,  0,  0,  0,  0,  0,  0,  0,  0,\n",
      "           0,  0,  0,  0,  0,  0,  0,  0,  0,  0,  0,  0,  0,  0,  0,  0,  0,\n",
      "           0,  0,  0,  0,  0,  0,  0,  0,  0,  0,  0,  0,  0,  0,  0,  0,  0,\n",
      "           0,  0,  0,  0,  0,  0,  0,  0,  0,  0,  0,  0,  0],\n",
      "         [ 0,  0,  0,  0,  0,  0,  0,  0,  0,  0,  0,  0,  0,  0,  0,  0,  0,\n",
      "           0,  0,  0,  0,  0,  0,  0,  0,  0,  0,  0,  0,  0,  0,  0,  0,  0,\n",
      "           0,  0,  0,  0,  0,  0,  0,  0,  0,  0,  0,  0,  0,  0,  0,  0,  0,\n",
      "           0,  0,  0,  0,  0,  0,  0,  0,  0,  0,  0,  0,  0,  0,  0,  0,  0,\n",
      "           0,  0,  0,  0,  0,  0,  0,  0,  0,  0,  0,  0,  0],\n",
      "         [ 0,  0,  0,  0,  0,  0,  0,  0,  0,  0,  0,  0,  0,  0,  0,  0,  0,\n",
      "           0,  0,  0,  0,  0,  0,  0,  0,  0,  0,  0,  0,  0,  0,  0,  0,  0,\n",
      "           0,  0,  0,  0,  0,  0,  0,  0,  0,  0,  0,  0,  0,  0,  0,  0,  0,\n",
      "           0,  0,  0,  0,  0,  0,  0,  0,  0,  0,  0,  0,  0,  0,  0,  0,  0,\n",
      "           0,  0,  0,  0,  0,  0,  0,  0,  0,  0,  0,  0,  0],\n",
      "         [ 0,  0,  0,  0,  0,  0,  0,  0,  0,  0,  0,  0,  0,  0,  0,  0,  0,\n",
      "           0,  0,  0,  0,  0,  0,  0,  0,  0,  0,  0,  0,  0,  0,  0,  0,  0,\n",
      "           0,  0,  0,  0,  0,  0,  0,  0,  0,  0,  0,  0,  0,  0,  0,  0,  0,\n",
      "           0,  0,  0,  0,  0,  0,  0,  0,  0,  0,  0,  0,  0,  0,  0,  0,  0,\n",
      "           0,  0,  0,  0,  0,  0,  0,  0,  0,  0,  0,  0,  0],\n",
      "         [ 0,  0,  0,  0,  0,  0,  0,  0,  0,  0,  0,  0,  0,  0,  0,  0,  0,\n",
      "           0,  0,  0,  0,  0,  0,  0,  0,  0,  0,  0,  0,  0,  0,  0,  0,  0,\n",
      "           0,  0,  0,  0,  0,  0,  0,  0,  0,  0,  0,  0,  0,  0,  0,  0,  0,\n",
      "           0,  0,  0,  0,  0,  0,  0,  0,  0,  0,  0,  0,  0,  0,  0,  0,  0,\n",
      "           0,  0,  0,  0,  0,  0,  0,  0,  0,  0,  0,  0,  0],\n",
      "         [ 0,  0,  0,  0,  0,  0,  0,  0,  0,  0,  0,  0,  0,  0,  0,  0,  0,\n",
      "           0,  0,  0,  0,  0,  0,  0,  0,  0,  0,  0,  0,  0,  0,  0,  0,  0,\n",
      "           0,  0,  0,  0,  0,  0,  0,  0,  0,  0,  0,  0,  0,  0,  0,  0,  0,\n",
      "           0,  0,  0,  0,  0,  0,  0,  0,  0,  0,  0,  0,  0,  0,  0,  0,  0,\n",
      "           0,  0,  0,  0,  0,  0,  0,  0,  0,  0,  0,  0,  0],\n",
      "         [ 0,  0,  0,  0,  0,  0,  0,  0,  0,  0,  0,  0,  0,  0,  0,  0,  0,\n",
      "           0,  0,  0,  0,  0,  0,  0,  0,  0,  0,  0,  0,  0,  0,  0,  0,  0,\n",
      "           0,  0,  0,  0,  0,  0,  0,  0,  0,  0,  0,  0,  0,  0,  0,  0,  0,\n",
      "           0,  0,  0,  0,  0,  0,  0,  0,  0,  0,  0,  0,  0,  0,  0,  0,  0,\n",
      "           0,  0,  0,  0,  0,  0,  0,  0,  0,  0,  0,  0,  0]]])\n"
     ]
    }
   ],
   "source": [
    "print(env.tour_plan)"
   ]
  },
  {
   "cell_type": "code",
   "execution_count": 116,
   "metadata": {},
   "outputs": [],
   "source": [
    "data = {}\n",
    "data['time_matrix'] = env.distance.numpy()[0].squeeze()\n",
    "data['num_vehicles'] = 5\n",
    "data['time_windows'] = env.tw.numpy()[0].squeeze()\n",
    "data['demands'] = env.demand.numpy()[0].squeeze()*env.capacity\n",
    "data['vehicle_capacities'] = [env.capacity]*data['num_vehicles']\n",
    "data['starts'] = [0]*data['num_vehicles']\n",
    "data['ends'] = [11]*data['num_vehicles']"
   ]
  },
  {
   "cell_type": "code",
   "execution_count": 64,
   "metadata": {},
   "outputs": [
    {
     "data": {
      "text/plain": [
       "[11, 11, 11, 11, 11]"
      ]
     },
     "execution_count": 64,
     "metadata": {},
     "output_type": "execute_result"
    }
   ],
   "source": [
    "data['ends']"
   ]
  },
  {
   "cell_type": "code",
   "execution_count": 65,
   "metadata": {},
   "outputs": [
    {
     "data": {
      "text/plain": [
       "[0, 0, 0, 0, 0]"
      ]
     },
     "execution_count": 65,
     "metadata": {},
     "output_type": "execute_result"
    }
   ],
   "source": [
    "data['starts']"
   ]
  },
  {
   "cell_type": "code",
   "execution_count": 74,
   "metadata": {},
   "outputs": [
    {
     "data": {
      "text/plain": [
       "700"
      ]
     },
     "execution_count": 74,
     "metadata": {},
     "output_type": "execute_result"
    }
   ],
   "source": [
    "env.capacity"
   ]
  },
  {
   "cell_type": "code",
   "execution_count": 59,
   "metadata": {
    "scrolled": true
   },
   "outputs": [
    {
     "data": {
      "text/plain": [
       "array([ 0.     , 88.     , 27.     , 94.     , 65.     , 88.     ,\n",
       "       13.     , 95.00001,  4.     , 13.     , 78.     ,  0.     ],\n",
       "      dtype=float32)"
      ]
     },
     "execution_count": 59,
     "metadata": {},
     "output_type": "execute_result"
    }
   ],
   "source": [
    "data['demands']"
   ]
  },
  {
   "cell_type": "code",
   "execution_count": 72,
   "metadata": {},
   "outputs": [
    {
     "data": {
      "text/plain": [
       "array([[   0, 1824, 1677, 1667, 1652, 1777, 1577, 1712, 1544, 1584, 1635,\n",
       "           0],\n",
       "       [1824,    0, 1647, 1657, 1794, 1635, 1747, 1611, 1869, 1740, 1689,\n",
       "           0],\n",
       "       [1677, 1647,    0, 1510, 1647, 1600, 1599, 1562, 1721, 1592, 1603,\n",
       "           0],\n",
       "       [1667, 1657, 1510,    0, 1637, 1610, 1589, 1557, 1711, 1582, 1599,\n",
       "           0],\n",
       "       [1652, 1794, 1647, 1637,    0, 1747, 1583, 1682, 1624, 1573, 1700,\n",
       "           0],\n",
       "       [1777, 1635, 1600, 1610, 1747,    0, 1700, 1640, 1822, 1693, 1682,\n",
       "           0],\n",
       "       [1577, 1747, 1599, 1589, 1583, 1700,    0, 1635, 1622, 1510, 1616,\n",
       "           0],\n",
       "       [1712, 1611, 1562, 1557, 1682, 1640, 1635,    0, 1757, 1628, 1577,\n",
       "           0],\n",
       "       [1544, 1869, 1721, 1711, 1624, 1822, 1622, 1757,    0, 1629, 1680,\n",
       "           0],\n",
       "       [1584, 1740, 1592, 1582, 1573, 1693, 1510, 1628, 1629,    0, 1626,\n",
       "           0],\n",
       "       [1635, 1689, 1603, 1599, 1700, 1682, 1616, 1577, 1680, 1626,    0,\n",
       "           0],\n",
       "       [   0,    0,    0,    0,    0,    0,    0,    0,    0,    0,    0,\n",
       "           0]])"
      ]
     },
     "execution_count": 72,
     "metadata": {},
     "output_type": "execute_result"
    }
   ],
   "source": [
    "(data['time_matrix']/0.01).astype(int)"
   ]
  },
  {
   "cell_type": "code",
   "execution_count": 124,
   "metadata": {
    "scrolled": true
   },
   "outputs": [
    {
     "name": "stdout",
     "output_type": "stream",
     "text": [
      "1 1 65922 72000\n",
      "2 2 60617 72000\n",
      "3 3 51499 63499\n",
      "4 4 7810 19810\n",
      "5 5 12211 24211\n",
      "6 6 54013 66013\n",
      "7 7 32751 44751\n",
      "8 8 67973 72000\n",
      "9 9 33378 45378\n",
      "10 10 53934 65934\n",
      "Route for vehicle 0:\n",
      "0 Time(0,0) -> 11 Time(0,0)\n",
      "Time of the route: 0min\n",
      "\n",
      "Route for vehicle 1:\n",
      "0 Time(0,0) -> 11 Time(0,0)\n",
      "Time of the route: 0min\n",
      "\n",
      "Route for vehicle 2:\n",
      "0 Time(0,0) -> 11 Time(0,0)\n",
      "Time of the route: 0min\n",
      "\n",
      "Route for vehicle 3:\n",
      "0 Time(0,0) -> 11 Time(0,0)\n",
      "Time of the route: 0min\n",
      "\n",
      "Route for vehicle 4:\n",
      "0 Time(0,0) -> 4 Time(19810,19810) -> 5 Time(22707,22707) -> 9 Time(33378,33378) -> 7 Time(44751,44751) -> 10 Time(53934,53934) -> 6 Time(58405,58405) -> 2 Time(60617,60617) -> 3 Time(63302,63302) -> 1 Time(67307,67307) -> 8 Time(71981,71981) -> 11 Time(71981,71981)\n",
      "Time of the route: 71981min\n",
      "\n"
     ]
    },
    {
     "data": {
      "text/plain": [
       "0.9997361111111112"
      ]
     },
     "execution_count": 124,
     "metadata": {},
     "output_type": "execute_result"
    }
   ],
   "source": [
    "compute_distance(data, eps=1e-2, time_limit=1)/720"
   ]
  },
  {
   "cell_type": "code",
   "execution_count": 121,
   "metadata": {},
   "outputs": [],
   "source": [
    "routes = [[0, 1],\n",
    "          [0, 9, 7, 10, 8],\n",
    "          [0, 5, 4, 3, 6, 2],\n",
    "         ]"
   ]
  },
  {
   "cell_type": "code",
   "execution_count": 119,
   "metadata": {},
   "outputs": [],
   "source": [
    "routes_model = [\n",
    "         [ 0, 3,  6, 10,  2,  1,  8],\n",
    "         [ 0, 4,  9,  7],\n",
    "         [ 0, 5]]"
   ]
  },
  {
   "cell_type": "code",
   "execution_count": 120,
   "metadata": {
    "scrolled": false
   },
   "outputs": [
    {
     "name": "stdout",
     "output_type": "stream",
     "text": [
      "tensor([[[  0.0000, 150.0000],\n",
      "         [514.9916, 634.9916],\n",
      "         [540.1365, 660.1365],\n",
      "         [539.3460, 659.3460],\n",
      "         [606.1751, 720.0000],\n",
      "         [659.2280, 720.0000],\n",
      "         [679.7337, 720.0000]]])\n",
      "tensor(0.5586)\n",
      "tensor([[[  0.0000, 150.0000],\n",
      "         [ 78.1076, 198.1076],\n",
      "         [333.7817, 453.7817],\n",
      "         [327.5116, 447.5116]]])\n",
      "tensor(0.2929)\n",
      "tensor([[[  0.0000, 150.0000],\n",
      "         [122.1164, 242.1164]]])\n",
      "tensor(0.1114)\n"
     ]
    },
    {
     "data": {
      "image/png": "[encoded data removed]",
      "text/plain": [
       "<Figure size 720x720 with 1 Axes>"
      ]
     },
     "metadata": {
      "needs_background": "light"
     },
     "output_type": "display_data"
    }
   ],
   "source": [
    "fig = plt.figure(figsize=(10, 10))\n",
    "plt.scatter(env.location[:, 1:-1, 0], env.location[:, 1:-1, 1])\n",
    "plt.scatter(env.location[:, 0, 0], env.location[:, 0, 1], c='r')\n",
    "for r in routes_model:\n",
    "    print(env.tw[:, r, :])\n",
    "    print(env.demand[:, r].sum())\n",
    "    plt.plot(env.location[:, r, 0].squeeze(), env.location[:, r, 1].squeeze())"
   ]
  },
  {
   "cell_type": "code",
   "execution_count": 88,
   "metadata": {},
   "outputs": [
    {
     "data": {
      "text/plain": [
       "(tensor([[0.3435, 0.7111]]), tensor([[0.0963, 0.2709]]))"
      ]
     },
     "execution_count": 88,
     "metadata": {},
     "output_type": "execute_result"
    }
   ],
   "source": [
    "env.location[:, routes[0], 0], env.location[:, routes[0], 1]"
   ]
  },
  {
   "cell_type": "code",
   "execution_count": 125,
   "metadata": {
    "scrolled": false
   },
   "outputs": [
    {
     "name": "stdout",
     "output_type": "stream",
     "text": [
      "tensor([[[  0.0000, 150.0000],\n",
      "         [659.2280, 720.0000]]])\n",
      "tensor([[[  0.0000, 150.0000],\n",
      "         [333.7817, 453.7817],\n",
      "         [327.5116, 447.5116],\n",
      "         [539.3460, 659.3460],\n",
      "         [679.7337, 720.0000]]])\n",
      "tensor([[[  0.0000, 150.0000],\n",
      "         [122.1164, 242.1164],\n",
      "         [ 78.1076, 198.1076],\n",
      "         [514.9916, 634.9916],\n",
      "         [540.1365, 660.1365],\n",
      "         [606.1751, 720.0000]]])\n"
     ]
    },
    {
     "data": {
      "image/png": "[encoded data removed]",
      "text/plain": [
       "<Figure size 720x720 with 1 Axes>"
      ]
     },
     "metadata": {
      "needs_background": "light"
     },
     "output_type": "display_data"
    }
   ],
   "source": [
    "fig = plt.figure(figsize=(10, 10))\n",
    "plt.scatter(env.location[:, 1:-1, 0], env.location[:, 1:-1, 1])\n",
    "plt.scatter(env.location[:, 0, 0], env.location[:, 0, 1], c='r')\n",
    "for r in routes:\n",
    "    print(env.tw[:, r, :])\n",
    "    plt.plot(env.location[:, r, 0].squeeze(), env.location[:, r, 1].squeeze())"
   ]
  },
  {
   "cell_type": "code",
   "execution_count": 179,
   "metadata": {},
   "outputs": [
    {
     "data": {
      "text/plain": [
       "2.7012622222222222"
      ]
     },
     "execution_count": 179,
     "metadata": {},
     "output_type": "execute_result"
    }
   ],
   "source": [
    "659/720 + 679.7337/720 + 606.1751/720"
   ]
  },
  {
   "cell_type": "code",
   "execution_count": null,
   "metadata": {},
   "outputs": [],
   "source": [
    "data = {}\n",
    "data['time_matrix'] = env.distance.numpy()[1].squeeze()\n",
    "data['num_vehicles'] = 10\n",
    "data['time_windows'] = env.tw.numpy()[1].squeeze()\n",
    "data['demands'] = env.demand.numpy()[1].squeeze()*env.capacity\n",
    "data['vehicle_capacities'] = [env.capacity]*data['num_vehicles']\n",
    "data['pickups_deliveries'] = env.pairs\n",
    "compute_distance(data, eps=1e-2, time_limit=1)"
   ]
  },
  {
   "cell_type": "markdown",
   "metadata": {},
   "source": [
    "## Обучение"
   ]
  },
  {
   "cell_type": "code",
   "execution_count": null,
   "metadata": {},
   "outputs": [],
   "source": [
    "model = AttentionModel(active_num=1)\n",
    "model = model.to('cuda')"
   ]
  },
  {
   "cell_type": "code",
   "execution_count": null,
   "metadata": {
    "scrolled": true
   },
   "outputs": [],
   "source": [
    "%%time\n",
    "weights, _, _, _, _ = train(model, device=\"cuda\", problem_size=100, num_vehicles=12,\n",
    "                            batch_size=64, epochs=100, T=10, lr=1e-4, decay=0.001)"
   ]
  },
  {
   "cell_type": "markdown",
   "metadata": {},
   "source": [
    "## Анимация"
   ]
  },
  {
   "cell_type": "code",
   "execution_count": null,
   "metadata": {},
   "outputs": [],
   "source": [
    "opts = {'demand_type': {'distribution': 'uniform', 'max_demand':10},\n",
    "        #'tw_type': {'distribution': 'uniform'},\n",
    "        #\"pickup_and_delivery\":True\n",
    "       }\n",
    "\n",
    "n = 10\n",
    "batch_size = 1\n",
    "env = LogEnv(batch_size=batch_size, n=n, opts=opts)\n",
    "\n",
    "features, distances, mask = env.reset()\n",
    "\n",
    "demonstration(env, opts)"
   ]
  },
  {
   "cell_type": "code",
   "execution_count": null,
   "metadata": {},
   "outputs": [],
   "source": [
    "actions_ext = np.array([2, 7, 3, 5, 1, 0, 6, 8, 9, 4])\n",
    "action_animation(env, opts, actions_ext, '1-OtOPDTW.gif', 500)"
   ]
  },
  {
   "cell_type": "code",
   "execution_count": null,
   "metadata": {},
   "outputs": [],
   "source": [
    "env = LogEnv(n=10, batch_size=1)\n",
    "env.reset()\n",
    "print('ready')"
   ]
  },
  {
   "cell_type": "code",
   "execution_count": 35,
   "metadata": {},
   "outputs": [
    {
     "data": {
      "text/plain": [
       "array([[  0.     , 150.     ],\n",
       "       [469.74957, 589.7496 ],\n",
       "       [170.58188, 290.58188],\n",
       "       [475.91397, 595.91394],\n",
       "       [569.9359 , 689.9359 ],\n",
       "       [665.56506, 720.     ],\n",
       "       [522.881  , 642.881  ],\n",
       "       [294.45544, 414.45544],\n",
       "       [130.69556, 250.69556],\n",
       "       [646.6094 , 720.     ],\n",
       "       [172.29248, 292.29248],\n",
       "       [  0.     , 720.     ]], dtype=float32)"
      ]
     },
     "execution_count": 35,
     "metadata": {},
     "output_type": "execute_result"
    }
   ],
   "source": [
    "data['time_windows']"
   ]
  },
  {
   "cell_type": "code",
   "execution_count": 36,
   "metadata": {},
   "outputs": [
    {
     "data": {
      "text/plain": [
       "array([[ 0.       , 16.319494 , 16.933798 , 16.316444 , 17.265072 ,\n",
       "        15.835117 , 16.49948  , 15.738236 , 16.864378 , 16.901318 ,\n",
       "        16.629303 ,  0.       ],\n",
       "       [16.319494 ,  0.       , 18.253292 , 15.217478 , 17.70344  ,\n",
       "        17.013098 , 17.818974 , 16.916218 , 18.183872 , 17.709583 ,\n",
       "        17.948797 ,  0.       ],\n",
       "       [16.933798 , 18.253292 ,  0.       , 18.250242 , 15.862671 ,\n",
       "        17.237518 , 15.434319 , 17.140638 , 15.2955475, 15.543708 ,\n",
       "        16.874886 ,  0.       ],\n",
       "       [16.316444 , 15.217478 , 18.250242 ,  0.       , 17.70039  ,\n",
       "        16.94771  , 17.815924 , 16.69874  , 18.180822 , 17.706533 ,\n",
       "        17.945747 ,  0.       ],\n",
       "       [17.265072 , 17.70344  , 15.862671 , 17.70039  ,  0.       ,\n",
       "        18.10019  , 15.79687  , 18.00331  , 16.158218 , 15.363754 ,\n",
       "        17.737556 ,  0.       ],\n",
       "       [15.835117 , 17.013098 , 17.237518 , 16.94771  , 18.10019  ,\n",
       "         0.       , 17.303318 , 15.559399 , 16.94197  , 17.736435 ,\n",
       "        15.998037 ,  0.       ],\n",
       "       [16.49948  , 17.818974 , 15.434319 , 17.815924 , 15.79687  ,\n",
       "        17.303318 ,  0.       , 17.206438 , 15.364899 , 15.433116 ,\n",
       "        16.940685 ,  0.       ],\n",
       "       [15.738236 , 16.916218 , 17.140638 , 16.69874  , 18.00331  ,\n",
       "        15.559399 , 17.206438 ,  0.       , 16.84509  , 17.639553 ,\n",
       "        16.557436 ,  0.       ],\n",
       "       [16.864378 , 18.183872 , 15.2955475, 18.180822 , 16.158218 ,\n",
       "        16.94197  , 15.364899 , 16.84509  ,  0.       , 15.794464 ,\n",
       "        16.579338 ,  0.       ],\n",
       "       [16.901318 , 17.709583 , 15.543708 , 17.706533 , 15.363754 ,\n",
       "        17.736435 , 15.433116 , 17.639553 , 15.794464 ,  0.       ,\n",
       "        17.373802 ,  0.       ],\n",
       "       [16.629303 , 17.948797 , 16.874886 , 17.945747 , 17.737556 ,\n",
       "        15.998037 , 16.940685 , 16.557436 , 16.579338 , 17.373802 ,\n",
       "         0.       ,  0.       ],\n",
       "       [ 0.       , 17.67478  , 15.746464 , 17.67173  , 16.609135 ,\n",
       "        16.491055 , 15.812264 , 16.394175 , 15.509092 , 16.24538  ,\n",
       "        16.128422 ,  0.       ]], dtype=float32)"
      ]
     },
     "execution_count": 36,
     "metadata": {},
     "output_type": "execute_result"
    }
   ],
   "source": [
    "data['time_matrix']"
   ]
  },
  {
   "cell_type": "code",
   "execution_count": 37,
   "metadata": {},
   "outputs": [
    {
     "data": {
      "text/plain": [
       "array([ 0.     , 22.     , 72.     , 95.00001, 32.     , 70.     ,\n",
       "       91.     , 35.     , 57.     , 70.     , 80.     ,  0.     ],\n",
       "      dtype=float32)"
      ]
     },
     "execution_count": 37,
     "metadata": {},
     "output_type": "execute_result"
    }
   ],
   "source": [
    "data['demands']"
   ]
  },
  {
   "cell_type": "code",
   "execution_count": 38,
   "metadata": {},
   "outputs": [
    {
     "data": {
      "text/plain": [
       "[700, 700, 700, 700, 700]"
      ]
     },
     "execution_count": 38,
     "metadata": {},
     "output_type": "execute_result"
    }
   ],
   "source": [
    "data['vehicle_capacities']"
   ]
  },
  {
   "cell_type": "code",
   "execution_count": null,
   "metadata": {},
   "outputs": [],
   "source": [
    "env_plot(env)"
   ]
  },
  {
   "cell_type": "code",
   "execution_count": null,
   "metadata": {},
   "outputs": [],
   "source": [
    "demonstration(env, model, device)"
   ]
  },
  {
   "cell_type": "markdown",
   "metadata": {},
   "source": [
    "## Проверка модели CVRP, обученной на сервере"
   ]
  },
  {
   "cell_type": "code",
   "execution_count": null,
   "metadata": {},
   "outputs": [],
   "source": [
    "file_name = 'JAMPR_TW1_20_Feb_13_05_57_10_2021'"
   ]
  },
  {
   "cell_type": "code",
   "execution_count": null,
   "metadata": {},
   "outputs": [],
   "source": [
    "f = open('./models/' + file_name + '_best.pkl', 'rb')\n",
    "weights = pickle.load(f)\n",
    "f.close()"
   ]
  },
  {
   "cell_type": "code",
   "execution_count": null,
   "metadata": {},
   "outputs": [],
   "source": [
    "file_name = 'JAMPR_TW1_20_Feb__6_11_23_38_2021'"
   ]
  },
  {
   "cell_type": "code",
   "execution_count": null,
   "metadata": {},
   "outputs": [],
   "source": [
    "f = open('./models/' + file_name + '_loss.pkl', 'rb')\n",
    "loss = pickle.load(f)\n",
    "f.close()"
   ]
  },
  {
   "cell_type": "code",
   "execution_count": null,
   "metadata": {},
   "outputs": [],
   "source": [
    "f = open('./models/' + file_name + '_reward.pkl', 'rb')\n",
    "reward = pickle.load(f)\n",
    "f.close()"
   ]
  },
  {
   "cell_type": "code",
   "execution_count": null,
   "metadata": {},
   "outputs": [],
   "source": [
    "fig = plt.figure(figsize=(8,8))\n",
    "ax = fig.add_subplot(1, 1, 1)\n",
    "ax.set_xscale('log')\n",
    "plt.plot(reward)\n",
    "plt.xlabel('iteration', fontsize=20)\n",
    "plt.ylabel('mean sum of distance and penalty', fontsize=20)\n",
    "plt.grid()\n",
    "#fig.savefig('reward_20_twtsp.png')"
   ]
  },
  {
   "cell_type": "code",
   "execution_count": null,
   "metadata": {},
   "outputs": [],
   "source": [
    "fig = plt.figure(figsize=(8,8))\n",
    "ax = fig.add_subplot(1, 1, 1)\n",
    "ax.set_xscale('log')\n",
    "plt.plot(loss)\n",
    "plt.xlabel('iteration', fontsize=20)\n",
    "plt.ylabel('mean iteration loss', fontsize=20)\n",
    "plt.grid()\n",
    "#fig.savefig('loss_20_twtsp.png')"
   ]
  },
  {
   "cell_type": "code",
   "execution_count": null,
   "metadata": {},
   "outputs": [],
   "source": [
    "file_name = 'JAMPR_TW1_20_Feb__8_20_09_51_2021'"
   ]
  },
  {
   "cell_type": "code",
   "execution_count": null,
   "metadata": {},
   "outputs": [],
   "source": [
    "f = open('./models/' + file_name + '_loss.pkl', 'rb')\n",
    "loss = pickle.load(f)\n",
    "f.close()"
   ]
  },
  {
   "cell_type": "code",
   "execution_count": null,
   "metadata": {},
   "outputs": [],
   "source": [
    "f = open('./models/' + file_name + '_reward.pkl', 'rb')\n",
    "reward = pickle.load(f)\n",
    "f.close()"
   ]
  },
  {
   "cell_type": "code",
   "execution_count": null,
   "metadata": {},
   "outputs": [],
   "source": [
    "fig = plt.figure(figsize=(8,8))\n",
    "ax = fig.add_subplot(1, 1, 1)\n",
    "ax.set_xscale('log')\n",
    "plt.plot(reward)\n",
    "plt.xlabel('iteration', fontsize=20)\n",
    "plt.ylabel('mean sum of distance and penalty', fontsize=20)\n",
    "plt.grid()\n",
    "#fig.savefig('reward_20_twtsp.png')"
   ]
  },
  {
   "cell_type": "code",
   "execution_count": null,
   "metadata": {},
   "outputs": [],
   "source": [
    "fig = plt.figure(figsize=(8,8))\n",
    "ax = fig.add_subplot(1, 1, 1)\n",
    "ax.set_xscale('log')\n",
    "plt.plot(loss)\n",
    "plt.xlabel('iteration', fontsize=20)\n",
    "plt.ylabel('mean iteration loss', fontsize=20)\n",
    "plt.grid()\n",
    "#fig.savefig('loss_20_twtsp.png')"
   ]
  },
  {
   "cell_type": "code",
   "execution_count": null,
   "metadata": {},
   "outputs": [],
   "source": [
    "file_name = 'JAMPR_TW1_20_Feb_10_14_16_41_2021'"
   ]
  },
  {
   "cell_type": "code",
   "execution_count": null,
   "metadata": {},
   "outputs": [],
   "source": [
    "f = open('./models/' + file_name + '_loss.pkl', 'rb')\n",
    "loss = pickle.load(f)\n",
    "f.close()"
   ]
  },
  {
   "cell_type": "code",
   "execution_count": null,
   "metadata": {},
   "outputs": [],
   "source": [
    "f = open('./models/' + file_name + '_reward.pkl', 'rb')\n",
    "reward = pickle.load(f)\n",
    "f.close()"
   ]
  },
  {
   "cell_type": "code",
   "execution_count": null,
   "metadata": {},
   "outputs": [],
   "source": [
    "fig = plt.figure(figsize=(8,8))\n",
    "ax = fig.add_subplot(1, 1, 1)\n",
    "ax.set_xscale('log')\n",
    "plt.plot(reward)\n",
    "plt.xlabel('iteration', fontsize=20)\n",
    "plt.ylabel('mean sum of distance and penalty', fontsize=20)\n",
    "plt.grid()\n",
    "#fig.savefig('reward_20_twtsp.png')"
   ]
  },
  {
   "cell_type": "code",
   "execution_count": null,
   "metadata": {},
   "outputs": [],
   "source": [
    "fig = plt.figure(figsize=(8,8))\n",
    "ax = fig.add_subplot(1, 1, 1)\n",
    "ax.set_xscale('log')\n",
    "plt.plot(loss)\n",
    "plt.xlabel('iteration', fontsize=20)\n",
    "plt.ylabel('mean iteration loss', fontsize=20)\n",
    "plt.grid()\n",
    "#fig.savefig('loss_20_twtsp.png')"
   ]
  },
  {
   "cell_type": "code",
   "execution_count": null,
   "metadata": {},
   "outputs": [],
   "source": [
    "file_name = 'JAMPR_TW1_20_Feb_12_17_23_34_2021'"
   ]
  },
  {
   "cell_type": "code",
   "execution_count": null,
   "metadata": {},
   "outputs": [],
   "source": [
    "f = open('./models/' + file_name + '_loss.pkl', 'rb')\n",
    "loss = pickle.load(f)\n",
    "f.close()"
   ]
  },
  {
   "cell_type": "code",
   "execution_count": null,
   "metadata": {},
   "outputs": [],
   "source": [
    "f = open('./models/' + file_name + '_reward.pkl', 'rb')\n",
    "reward = pickle.load(f)\n",
    "f.close()"
   ]
  },
  {
   "cell_type": "code",
   "execution_count": null,
   "metadata": {},
   "outputs": [],
   "source": [
    "fig = plt.figure(figsize=(8,8))\n",
    "ax = fig.add_subplot(1, 1, 1)\n",
    "ax.set_xscale('log')\n",
    "plt.plot(reward)\n",
    "plt.xlabel('iteration', fontsize=20)\n",
    "plt.ylabel('mean sum of distance and penalty', fontsize=20)\n",
    "plt.grid()\n",
    "#fig.savefig('reward_20_twtsp.png')"
   ]
  },
  {
   "cell_type": "code",
   "execution_count": null,
   "metadata": {},
   "outputs": [],
   "source": [
    "fig = plt.figure(figsize=(8,8))\n",
    "ax = fig.add_subplot(1, 1, 1)\n",
    "ax.set_xscale('log')\n",
    "plt.plot(loss)\n",
    "plt.xlabel('iteration', fontsize=20)\n",
    "plt.ylabel('mean iteration loss', fontsize=20)\n",
    "plt.grid()\n",
    "#fig.savefig('loss_20_twtsp.png')"
   ]
  },
  {
   "cell_type": "code",
   "execution_count": null,
   "metadata": {},
   "outputs": [],
   "source": [
    "file_name = 'JAMPR_TW1_20_Feb_12_18_22_54_2021'"
   ]
  },
  {
   "cell_type": "code",
   "execution_count": null,
   "metadata": {},
   "outputs": [],
   "source": [
    "f = open('./models/' + file_name + '_loss.pkl', 'rb')\n",
    "loss = pickle.load(f)\n",
    "f.close()"
   ]
  },
  {
   "cell_type": "code",
   "execution_count": null,
   "metadata": {},
   "outputs": [],
   "source": [
    "f = open('./models/' + file_name + '_reward.pkl', 'rb')\n",
    "reward = pickle.load(f)\n",
    "f.close()"
   ]
  },
  {
   "cell_type": "code",
   "execution_count": null,
   "metadata": {},
   "outputs": [],
   "source": [
    "fig = plt.figure(figsize=(8,8))\n",
    "ax = fig.add_subplot(1, 1, 1)\n",
    "ax.set_xscale('log')\n",
    "plt.plot(reward)\n",
    "plt.xlabel('iteration', fontsize=20)\n",
    "plt.ylabel('mean sum of distance and penalty', fontsize=20)\n",
    "plt.grid()\n",
    "#fig.savefig('reward_20_twtsp.png')"
   ]
  },
  {
   "cell_type": "code",
   "execution_count": null,
   "metadata": {},
   "outputs": [],
   "source": [
    "fig = plt.figure(figsize=(8,8))\n",
    "ax = fig.add_subplot(1, 1, 1)\n",
    "ax.set_xscale('log')\n",
    "plt.plot(loss)\n",
    "plt.xlabel('iteration', fontsize=20)\n",
    "plt.ylabel('mean iteration loss', fontsize=20)\n",
    "plt.grid()\n",
    "#fig.savefig('loss_20_twtsp.png')"
   ]
  },
  {
   "cell_type": "code",
   "execution_count": null,
   "metadata": {},
   "outputs": [],
   "source": [
    "file_name = 'JAMPR_TW1_20_Feb_13_05_57_10_2021'"
   ]
  },
  {
   "cell_type": "code",
   "execution_count": null,
   "metadata": {},
   "outputs": [],
   "source": [
    "f = open('./models/' + file_name + '_loss.pkl', 'rb')\n",
    "loss = pickle.load(f)\n",
    "f.close()"
   ]
  },
  {
   "cell_type": "code",
   "execution_count": null,
   "metadata": {},
   "outputs": [],
   "source": [
    "f = open('./models/' + file_name + '_reward.pkl', 'rb')\n",
    "reward = pickle.load(f)\n",
    "f.close()"
   ]
  },
  {
   "cell_type": "code",
   "execution_count": null,
   "metadata": {},
   "outputs": [],
   "source": [
    "fig = plt.figure(figsize=(8,8))\n",
    "ax = fig.add_subplot(1, 1, 1)\n",
    "ax.set_xscale('log')\n",
    "plt.plot(reward)\n",
    "plt.plot(np.ones(len(reward))*5000, )\n",
    "plt.xlabel('iteration', fontsize=20)\n",
    "plt.ylabel('mean sum of distance and penalty', fontsize=20)\n",
    "plt.grid()\n",
    "plt.ylim([4000, 14000])\n",
    "fig.savefig('reward_20_pdcvrptw.png')"
   ]
  },
  {
   "cell_type": "code",
   "execution_count": null,
   "metadata": {},
   "outputs": [],
   "source": [
    "fig = plt.figure(figsize=(8,8))\n",
    "ax = fig.add_subplot(1, 1, 1)\n",
    "ax.set_xscale('log')\n",
    "plt.plot(loss)\n",
    "plt.xlabel('iteration', fontsize=20)\n",
    "plt.ylabel('mean iteration loss', fontsize=20)\n",
    "plt.grid()\n",
    "#fig.savefig('loss_20_twtsp.png')"
   ]
  },
  {
   "cell_type": "code",
   "execution_count": null,
   "metadata": {},
   "outputs": [],
   "source": [
    "file_name = 'JAMPR_TW1_20_Feb_15_04_32_07_2021'"
   ]
  },
  {
   "cell_type": "code",
   "execution_count": null,
   "metadata": {},
   "outputs": [],
   "source": [
    "f = open('./models/' + file_name + '_loss.pkl', 'rb')\n",
    "loss = pickle.load(f)\n",
    "f.close()"
   ]
  },
  {
   "cell_type": "code",
   "execution_count": null,
   "metadata": {},
   "outputs": [],
   "source": [
    "f = open('./models/' + file_name + '_reward.pkl', 'rb')\n",
    "reward = pickle.load(f)\n",
    "f.close()"
   ]
  },
  {
   "cell_type": "code",
   "execution_count": null,
   "metadata": {},
   "outputs": [],
   "source": [
    "fig = plt.figure(figsize=(8,8))\n",
    "ax = fig.add_subplot(1, 1, 1)\n",
    "ax.set_xscale('log')\n",
    "plt.plot(reward)\n",
    "plt.plot(np.ones(len(reward))*5000)\n",
    "plt.xlabel('iteration', fontsize=20)\n",
    "plt.ylabel('mean sum of distance and penalty', fontsize=20)\n",
    "plt.grid()\n",
    "#fig.savefig('reward_20_twtsp.png')"
   ]
  },
  {
   "cell_type": "code",
   "execution_count": null,
   "metadata": {},
   "outputs": [],
   "source": [
    "fig = plt.figure(figsize=(8,8))\n",
    "ax = fig.add_subplot(1, 1, 1)\n",
    "ax.set_xscale('log')\n",
    "plt.plot(loss)\n",
    "plt.xlabel('iteration', fontsize=20)\n",
    "plt.ylabel('mean iteration loss', fontsize=20)\n",
    "plt.grid()\n",
    "#fig.savefig('loss_20_twtsp.png')"
   ]
  },
  {
   "cell_type": "code",
   "execution_count": null,
   "metadata": {},
   "outputs": [],
   "source": [
    "file_name = 'JAMPR_TW1_20_Feb_15_05_17_10_2021'"
   ]
  },
  {
   "cell_type": "code",
   "execution_count": null,
   "metadata": {},
   "outputs": [],
   "source": [
    "f = open('./models/' + file_name + '_loss.pkl', 'rb')\n",
    "loss = pickle.load(f)\n",
    "f.close()"
   ]
  },
  {
   "cell_type": "code",
   "execution_count": null,
   "metadata": {},
   "outputs": [],
   "source": [
    "f = open('./models/' + file_name + '_reward.pkl', 'rb')\n",
    "reward = pickle.load(f)\n",
    "f.close()"
   ]
  },
  {
   "cell_type": "code",
   "execution_count": null,
   "metadata": {},
   "outputs": [],
   "source": [
    "fig = plt.figure(figsize=(8,8))\n",
    "ax = fig.add_subplot(1, 1, 1)\n",
    "ax.set_xscale('log')\n",
    "plt.plot(reward)\n",
    "plt.plot(np.ones(len(reward))*5000, )\n",
    "plt.xlabel('iteration', fontsize=20)\n",
    "plt.ylabel('mean sum of distance and penalty', fontsize=20)\n",
    "plt.grid()\n",
    "#fig.savefig('reward_20_twtsp.png')"
   ]
  },
  {
   "cell_type": "code",
   "execution_count": null,
   "metadata": {},
   "outputs": [],
   "source": [
    "fig = plt.figure(figsize=(8,8))\n",
    "ax = fig.add_subplot(1, 1, 1)\n",
    "ax.set_xscale('log')\n",
    "plt.plot(loss)\n",
    "plt.xlabel('iteration', fontsize=20)\n",
    "plt.ylabel('mean iteration loss', fontsize=20)\n",
    "plt.grid()\n",
    "#fig.savefig('loss_20_twtsp.png')"
   ]
  },
  {
   "cell_type": "code",
   "execution_count": null,
   "metadata": {
    "scrolled": true
   },
   "outputs": [],
   "source": [
    "model = AttentionModel(active_num=1).to(\"cuda\")\n",
    "model.load_state_dict(weights)"
   ]
  },
  {
   "cell_type": "code",
   "execution_count": null,
   "metadata": {
    "scrolled": true
   },
   "outputs": [],
   "source": [
    "model.eval()\n",
    "print('r')"
   ]
  },
  {
   "cell_type": "code",
   "execution_count": null,
   "metadata": {
    "scrolled": true
   },
   "outputs": [],
   "source": [
    "%%time\n",
    "compute_mean_metric(model, device=\"cuda\", n=20, batch_size=1, T=10, sample=True)"
   ]
  },
  {
   "cell_type": "code",
   "execution_count": null,
   "metadata": {},
   "outputs": [],
   "source": [
    "%%time\n",
    "compute_mean_metric_with_or(model, device=\"cuda\", n=20, batch_size=20, T=1, time_limit=0.5, eps=1e-2)"
   ]
  },
  {
   "cell_type": "markdown",
   "metadata": {},
   "source": [
    "## JAMPR модифицированной на среде под реальную задачу"
   ]
  },
  {
   "cell_type": "code",
   "execution_count": 50,
   "metadata": {},
   "outputs": [],
   "source": [
    "file_name = 'jampr_mod_real_100_Mar_14_15_52_29_2021'"
   ]
  },
  {
   "cell_type": "code",
   "execution_count": 4,
   "metadata": {},
   "outputs": [],
   "source": [
    "f = open('./models/' + file_name + '_loss.pkl', 'rb')\n",
    "loss = pickle.load(f)\n",
    "f.close()"
   ]
  },
  {
   "cell_type": "code",
   "execution_count": 5,
   "metadata": {},
   "outputs": [],
   "source": [
    "f = open('./models/' + file_name + '_reward.pkl', 'rb')\n",
    "reward = pickle.load(f)\n",
    "f.close()"
   ]
  },
  {
   "cell_type": "code",
   "execution_count": 6,
   "metadata": {
    "scrolled": false
   },
   "outputs": [
    {
     "data": {
      "image/png": "[encoded data removed]",
      "text/plain": [
       "<Figure size 576x576 with 1 Axes>"
      ]
     },
     "metadata": {
      "needs_background": "light"
     },
     "output_type": "display_data"
    }
   ],
   "source": [
    "fig = plt.figure(figsize=(8,8))\n",
    "ax = fig.add_subplot(1, 1, 1)\n",
    "ax.set_xscale('log')\n",
    "plt.plot(reward)\n",
    "plt.xlabel('iteration', fontsize=20)\n",
    "plt.ylabel('mean sum of distance and penalty', fontsize=20)\n",
    "plt.grid()\n",
    "#fig.savefig('reward_20_twtsp.png')"
   ]
  },
  {
   "cell_type": "code",
   "execution_count": 51,
   "metadata": {},
   "outputs": [],
   "source": [
    "f = open('./models/' + file_name + '_best.pkl', 'rb')\n",
    "weights = pickle.load(f)\n",
    "f.close()"
   ]
  },
  {
   "cell_type": "code",
   "execution_count": 56,
   "metadata": {},
   "outputs": [],
   "source": [
    "model = AttentionModel(active_num=1)\n",
    "model = model.to('cuda')"
   ]
  },
  {
   "cell_type": "code",
   "execution_count": 57,
   "metadata": {},
   "outputs": [],
   "source": [
    "model.load_state_dict(weights)\n",
    "_ = model.eval()"
   ]
  },
  {
   "cell_type": "code",
   "execution_count": 133,
   "metadata": {
    "scrolled": true
   },
   "outputs": [
    {
     "name": "stdout",
     "output_type": "stream",
     "text": [
      "tensor([0.])\n",
      "tensor([0.])\n",
      "tensor([0.])\n",
      "tensor([0.])\n",
      "tensor([0.])\n",
      "tensor([0.])\n",
      "tensor([0.])\n",
      "tensor([0.])\n",
      "tensor([0.])\n",
      "tensor([0.])\n",
      "Wall time: 1min 45s\n"
     ]
    },
    {
     "data": {
      "text/plain": [
       "(5.565921878814697, 3984.1550540000003)"
      ]
     },
     "execution_count": 133,
     "metadata": {},
     "output_type": "execute_result"
    }
   ],
   "source": [
    "%%time\n",
    "compute_mean_metric_with_or(model, device=\"cuda\", n=100, batch_size=1, T=10, sample=True, time_limit=10)"
   ]
  },
  {
   "cell_type": "code",
   "execution_count": 172,
   "metadata": {},
   "outputs": [
    {
     "data": {
      "text/plain": [
       "0.11746031746031749"
      ]
     },
     "execution_count": 172,
     "metadata": {},
     "output_type": "execute_result"
    }
   ],
   "source": [
    "1 - 5.56/6.3"
   ]
  },
  {
   "cell_type": "markdown",
   "metadata": {},
   "source": [
    "## Реальные данные"
   ]
  },
  {
   "cell_type": "code",
   "execution_count": 67,
   "metadata": {},
   "outputs": [],
   "source": [
    "with open('cvrp_tw_dataset.pkl', 'rb') as f:\n",
    "    dataset = pickle.load(f)"
   ]
  },
  {
   "cell_type": "code",
   "execution_count": 68,
   "metadata": {},
   "outputs": [
    {
     "data": {
      "text/plain": [
       "'a'"
      ]
     },
     "execution_count": 68,
     "metadata": {},
     "output_type": "execute_result"
    }
   ],
   "source": [
    "env = LogEnv(n=100, batch_size=1, active_num=1, K=5)\n",
    "env.reset(data=dataset[0])\n",
    "'a'"
   ]
  },
  {
   "cell_type": "code",
   "execution_count": 174,
   "metadata": {},
   "outputs": [
    {
     "data": {
      "text/plain": [
       "<matplotlib.collections.PathCollection at 0x1988fee6fc8>"
      ]
     },
     "execution_count": 174,
     "metadata": {},
     "output_type": "execute_result"
    },
    {
     "data": {
      "image/png": "[encoded data removed]",
      "text/plain": [
       "<Figure size 432x288 with 1 Axes>"
      ]
     },
     "metadata": {
      "needs_background": "light"
     },
     "output_type": "display_data"
    }
   ],
   "source": [
    "plt.scatter(dataset[0]['coords'][:, 0], dataset[0]['coords'][:, 1])"
   ]
  },
  {
   "cell_type": "code",
   "execution_count": 144,
   "metadata": {},
   "outputs": [],
   "source": [
    "num_repeats = []\n",
    "for i in range(100):\n",
    "    num_repeats.append((dataset[i]['time_matrix'] == 15).sum())"
   ]
  },
  {
   "cell_type": "code",
   "execution_count": 113,
   "metadata": {
    "scrolled": false
   },
   "outputs": [
    {
     "name": "stdout",
     "output_type": "stream",
     "text": [
      "tensor([0.])\n",
      "tensor([11.])\n",
      "tensor([11.])\n",
      "tensor([0.])\n",
      "tensor([17.])\n",
      "tensor([1.])\n",
      "tensor([1.])\n",
      "tensor([0.])\n",
      "tensor([0.])\n",
      "tensor([1.])\n",
      "tensor([1.])\n",
      "tensor([0.])\n",
      "tensor([5.])\n",
      "tensor([0.])\n",
      "tensor([0.])\n",
      "tensor([0.])\n",
      "tensor([0.])\n",
      "tensor([1.])\n",
      "tensor([0.])\n",
      "tensor([6.])\n",
      "tensor([1.])\n",
      "tensor([0.])\n",
      "tensor([0.])\n",
      "tensor([4.])\n",
      "tensor([10.])\n",
      "tensor([0.])\n",
      "tensor([0.])\n",
      "tensor([0.])\n",
      "tensor([4.])\n",
      "tensor([3.])\n",
      "tensor([0.])\n",
      "tensor([10.])\n",
      "tensor([0.])\n",
      "tensor([0.])\n",
      "tensor([0.])\n",
      "tensor([1.])\n",
      "tensor([5.])\n",
      "tensor([4.])\n",
      "tensor([0.])\n",
      "tensor([2.])\n",
      "tensor([0.])\n",
      "tensor([2.])\n",
      "tensor([0.])\n",
      "tensor([1.])\n",
      "tensor([5.])\n",
      "tensor([0.])\n",
      "tensor([0.])\n",
      "tensor([1.])\n",
      "tensor([11.])\n",
      "tensor([10.])\n",
      "tensor([10.])\n",
      "tensor([0.])\n",
      "tensor([3.])\n",
      "tensor([0.])\n",
      "tensor([0.])\n",
      "tensor([0.])\n",
      "tensor([5.])\n",
      "tensor([0.])\n",
      "tensor([0.])\n",
      "tensor([0.])\n",
      "tensor([13.])\n",
      "tensor([0.])\n",
      "tensor([9.])\n",
      "tensor([0.])\n",
      "tensor([1.])\n",
      "tensor([0.])\n",
      "tensor([0.])\n",
      "tensor([22.])\n",
      "tensor([0.])\n",
      "tensor([5.])\n",
      "tensor([0.])\n",
      "tensor([0.])\n",
      "tensor([0.])\n",
      "tensor([2.])\n",
      "tensor([0.])\n",
      "tensor([0.])\n",
      "tensor([0.])\n",
      "tensor([3.])\n",
      "tensor([0.])\n",
      "tensor([4.])\n",
      "tensor([17.])\n",
      "tensor([0.])\n",
      "tensor([1.])\n",
      "tensor([0.])\n",
      "tensor([8.])\n",
      "tensor([0.])\n",
      "tensor([0.])\n",
      "tensor([1.])\n",
      "tensor([0.])\n",
      "tensor([8.])\n",
      "tensor([1.])\n",
      "tensor([2.])\n",
      "tensor([0.])\n",
      "tensor([7.])\n",
      "tensor([14.])\n",
      "tensor([1.])\n",
      "tensor([5.])\n",
      "tensor([0.])\n",
      "tensor([14.])\n",
      "tensor([2.])\n",
      "Wall time: 2min 19s\n"
     ]
    }
   ],
   "source": [
    "%%time\n",
    "\n",
    "model_metrics = []\n",
    "or_metrics = []\n",
    "routes = []\n",
    "for data in dataset:\n",
    "    m1, m2, r = compute_metric_on_data(model, data, device=\"cuda\", n=100, time_limit=1, sample=False, eps=1e-5, K=12)\n",
    "    model_metrics.append(m1)\n",
    "    or_metrics.append(m2)\n",
    "    routes.append(r)"
   ]
  },
  {
   "cell_type": "code",
   "execution_count": 148,
   "metadata": {
    "scrolled": true
   },
   "outputs": [
    {
     "data": {
      "text/plain": [
       "[tensor([4.3231]),\n",
       " tensor([14.6803]),\n",
       " tensor([14.5977]),\n",
       " tensor([3.9496]),\n",
       " tensor([20.0549]),\n",
       " tensor([5.0428]),\n",
       " tensor([5.1788]),\n",
       " tensor([4.0068]),\n",
       " tensor([4.1761]),\n",
       " tensor([5.0810]),\n",
       " tensor([5.9474]),\n",
       " tensor([4.4616]),\n",
       " tensor([8.6070]),\n",
       " tensor([4.0457]),\n",
       " tensor([4.4785]),\n",
       " tensor([3.9830]),\n",
       " tensor([4.0475]),\n",
       " tensor([5.3363]),\n",
       " tensor([4.3016]),\n",
       " tensor([9.6959]),\n",
       " tensor([5.5763]),\n",
       " tensor([3.9045]),\n",
       " tensor([4.7651]),\n",
       " tensor([8.1163]),\n",
       " tensor([13.6922]),\n",
       " tensor([3.8361]),\n",
       " tensor([4.2242]),\n",
       " tensor([3.7687]),\n",
       " tensor([7.9089]),\n",
       " tensor([7.1141]),\n",
       " tensor([4.2334]),\n",
       " tensor([13.6014]),\n",
       " tensor([4.5042]),\n",
       " tensor([4.4502]),\n",
       " tensor([4.1690]),\n",
       " tensor([5.1883]),\n",
       " tensor([9.2445]),\n",
       " tensor([8.6288]),\n",
       " tensor([4.0449]),\n",
       " tensor([6.1144]),\n",
       " tensor([4.2999]),\n",
       " tensor([6.1404]),\n",
       " tensor([4.2446]),\n",
       " tensor([5.0781]),\n",
       " tensor([9.1339]),\n",
       " tensor([4.1811]),\n",
       " tensor([4.2908]),\n",
       " tensor([5.0712]),\n",
       " tensor([14.9417]),\n",
       " tensor([13.4820]),\n",
       " tensor([13.4367]),\n",
       " tensor([4.4114]),\n",
       " tensor([7.2958]),\n",
       " tensor([4.4439]),\n",
       " tensor([4.3449]),\n",
       " tensor([4.1269]),\n",
       " tensor([8.9763]),\n",
       " tensor([4.2031]),\n",
       " tensor([4.9412]),\n",
       " tensor([4.4676]),\n",
       " tensor([16.3909]),\n",
       " tensor([4.2292]),\n",
       " tensor([12.4382]),\n",
       " tensor([4.5206]),\n",
       " tensor([5.0605]),\n",
       " tensor([4.3780]),\n",
       " tensor([4.5220]),\n",
       " tensor([25.1958]),\n",
       " tensor([4.3005]),\n",
       " tensor([9.1759]),\n",
       " tensor([4.3611]),\n",
       " tensor([3.9560]),\n",
       " tensor([4.4034]),\n",
       " tensor([6.4188]),\n",
       " tensor([4.1774]),\n",
       " tensor([4.5676]),\n",
       " tensor([5.3610]),\n",
       " tensor([6.8126]),\n",
       " tensor([4.7937]),\n",
       " tensor([7.8648]),\n",
       " tensor([20.4723]),\n",
       " tensor([4.3784]),\n",
       " tensor([4.9272]),\n",
       " tensor([4.7628]),\n",
       " tensor([11.6852]),\n",
       " tensor([4.3791]),\n",
       " tensor([4.0519]),\n",
       " tensor([5.0725]),\n",
       " tensor([4.1846]),\n",
       " tensor([11.2417]),\n",
       " tensor([5.1517]),\n",
       " tensor([5.9660]),\n",
       " tensor([4.5580]),\n",
       " tensor([10.4769]),\n",
       " tensor([17.1492]),\n",
       " tensor([5.1409]),\n",
       " tensor([8.9873]),\n",
       " tensor([4.6479]),\n",
       " tensor([17.6825]),\n",
       " tensor([6.2953])]"
      ]
     },
     "execution_count": 148,
     "metadata": {},
     "output_type": "execute_result"
    }
   ],
   "source": [
    "model_metrics"
   ]
  },
  {
   "cell_type": "code",
   "execution_count": 130,
   "metadata": {
    "scrolled": false
   },
   "outputs": [
    {
     "data": {
      "image/png": "[encoded data removed]",
      "text/plain": [
       "<Figure size 576x576 with 1 Axes>"
      ]
     },
     "metadata": {
      "needs_background": "light"
     },
     "output_type": "display_data"
    }
   ],
   "source": [
    "fig = plt.figure(figsize=(8, 8))\n",
    "plt.plot(1 - torch.tensor(or_metrics)/torch.tensor(model_metrics))\n",
    "plt.plot(np.arange(100), [0]*100)\n",
    "plt.plot(np.arange(100), [(1 - torch.tensor(or_metrics)/torch.tensor(model_metrics)).mean()]*100)\n",
    "plt.grid()"
   ]
  },
  {
   "cell_type": "code",
   "execution_count": 168,
   "metadata": {},
   "outputs": [],
   "source": [
    "num_data = 67"
   ]
  },
  {
   "cell_type": "code",
   "execution_count": 181,
   "metadata": {},
   "outputs": [
    {
     "data": {
      "image/png": "[encoded data removed]",
      "text/plain": [
       "<Figure size 720x720 with 1 Axes>"
      ]
     },
     "metadata": {
      "needs_background": "light"
     },
     "output_type": "display_data"
    }
   ],
   "source": [
    "fig = plt.figure(figsize=(10, 10))\n",
    "plt.scatter(dataset[num_data]['coords'][:, 0], dataset[num_data]['coords'][:, 1])\n",
    "plt.scatter(dataset[num_data]['coords'][0, 0], dataset[num_data]['coords'][0, 1], c='r')\n",
    "for r in routes[num_data][0].squeeze():\n",
    "    plt.plot(dataset[num_data]['coords'][r, 0], dataset[num_data]['coords'][r, 1])"
   ]
  }
 ],
 "metadata": {
  "kernelspec": {
   "display_name": "Python 3",
   "language": "python",
   "name": "python3"
  },
  "language_info": {
   "codemirror_mode": {
    "name": "ipython",
    "version": 3
   },
   "file_extension": ".py",
   "mimetype": "text/x-python",
   "name": "python",
   "nbconvert_exporter": "python",
   "pygments_lexer": "ipython3",
   "version": "3.7.6"
  }
 },
 "nbformat": 4,
 "nbformat_minor": 4
}
