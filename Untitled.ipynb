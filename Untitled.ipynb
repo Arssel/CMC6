{
 "cells": [
  {
   "cell_type": "code",
   "execution_count": 79,
   "metadata": {},
   "outputs": [],
   "source": [
    "%load_ext autoreload\n",
    "\n",
    "%autoreload 2"
   ]
  },
  {
   "cell_type": "code",
   "execution_count": 198,
   "metadata": {},
   "outputs": [],
   "source": [
    "from src.utils import graph_generation, demand_generation"
   ]
  },
  {
   "cell_type": "code",
   "execution_count": 210,
   "metadata": {
    "collapsed": true
   },
   "outputs": [
    {
     "data": {
      "text/plain": [
       "array([[ 5, -1,  6,  4,  3,  5,  5,  9, -3,  4, -4,  2,  2,  5,  1,  6,\n",
       "         6,  3, -7,  2],\n",
       "       [ 4,  5,  5,  7, -6,  4, -4, -3, -4,  9,  8,  5, -3, -6,  5,  3,\n",
       "         3, -4,  3,  5],\n",
       "       [ 2,  3,  3, -4,  5, -3,  6, -3,  7, -3, -3,  5, -1,  3, -3,  6,\n",
       "         4, -8, -4, -8],\n",
       "       [ 6,  5,  6,  4, -3,  3,  6,  2,  7,  5,  6,  5,  4,  7,  5,  7,\n",
       "         2,  7,  4, -3],\n",
       "       [-8,  8,  2,  4, -7, -2,  4,  1,  5,  6, -5, -4,  2, -2, -5, -4,\n",
       "         1,  4, -5,  2],\n",
       "       [ 2,  2,  3,  3,  4,  3, -2, -4,  3,  3,  3, -2, -8,  6,  5,  4,\n",
       "        -3, -4,  7,  3],\n",
       "       [-6,  7, -5,  3,  5,  5, -4,  5,  4,  6,  2, -2,  3,  7,  6, -6,\n",
       "         3, -3,  4,  2],\n",
       "       [ 2,  5,  4, -4,  4,  4,  3, -5,  7,  4,  3,  6,  4,  3, -5,  6,\n",
       "        -3, -6, -2, -4],\n",
       "       [-2, -7,  4,  3,  4,  4,  3, -3, -4,  5,  5,  6,  4, -7,  6,  6,\n",
       "         5,  4,  6,  8],\n",
       "       [ 6,  4,  4,  5,  5,  7,  6,  9,  4, -4, -4,  5,  5,  3,  4, -8,\n",
       "         6, -3, -1,  5],\n",
       "       [ 7,  4,  3,  6,  2,  3, -5, -7,  3,  8, -5,  3,  5,  2,  7,  4,\n",
       "         5,  4, -2,  2],\n",
       "       [ 5, -4,  9,  4, -1, -9,  5, -2, -4, -5, -4,  4, -2, -3,  4,  6,\n",
       "         3,  4,  4,  7],\n",
       "       [ 3,  3,  3,  2,  3,  2,  3,  3,  5,  6,  3, -4,  3, -7,  3,  3,\n",
       "         2,  6,  4,  5],\n",
       "       [ 7,  7,  3,  5,  6,  3,  5,  4,  9,  4, -4,  3,  9, -5, -2, -4,\n",
       "         5,  5, -4,  7],\n",
       "       [ 4,  3,  7,  6, -5,  3,  8,  4,  3,  3,  5,  3,  4, -5,  4,  2,\n",
       "        -5, -3,  3,  6],\n",
       "       [ 7, -4,  6,  5,  5,  2, -5,  4,  5,  3,  4,  4,  7, -5, -6,  5,\n",
       "         3,  5, -4,  2]])"
      ]
     },
     "execution_count": 210,
     "metadata": {},
     "output_type": "execute_result"
    }
   ],
   "source": [
    "demand_type = {'distribution': 'poisson', 'lambda': 'default', 'supply': True, 'supply_prob': 1/4}\n",
    "demand_generation(demand_type=demand_type)"
   ]
  },
  {
   "cell_type": "code",
   "execution_count": 213,
   "metadata": {},
   "outputs": [
    {
     "data": {
      "text/plain": [
       "array([ 0,  1,  2,  3,  4,  5,  6,  7,  8,  9, 10, 11, 12, 13, 14, 15, 16,\n",
       "       17, 18, 19])"
      ]
     },
     "execution_count": 213,
     "metadata": {},
     "output_type": "execute_result"
    }
   ],
   "source": [
    "np.arange(20)"
   ]
  },
  {
   "cell_type": "code",
   "execution_count": 220,
   "metadata": {},
   "outputs": [],
   "source": [
    "n = 20\n",
    "permutation = np.random.permutation(np.arange(n))\n",
    "pair = np.zeros((n//2, 2))\n",
    "pair[:, 0] = permutation[::2]\n",
    "pair[:, 1] = permutation[1::2]"
   ]
  },
  {
   "cell_type": "code",
   "execution_count": 221,
   "metadata": {},
   "outputs": [
    {
     "data": {
      "text/plain": [
       "array([[ 8., 11.],\n",
       "       [ 9., 13.],\n",
       "       [10., 16.],\n",
       "       [ 4.,  5.],\n",
       "       [19.,  2.],\n",
       "       [ 1.,  0.],\n",
       "       [ 7., 18.],\n",
       "       [15.,  6.],\n",
       "       [ 3., 12.],\n",
       "       [17., 14.]])"
      ]
     },
     "execution_count": 221,
     "metadata": {},
     "output_type": "execute_result"
    }
   ],
   "source": [
    "pair"
   ]
  },
  {
   "cell_type": "code",
   "execution_count": 243,
   "metadata": {},
   "outputs": [
    {
     "data": {
      "text/plain": [
       "(0, 1)"
      ]
     },
     "execution_count": 243,
     "metadata": {},
     "output_type": "execute_result"
    },
    {
     "data": {
      "image/png": "[encoded data removed]",
      "text/plain": [
       "<Figure size 576x576 with 1 Axes>"
      ]
     },
     "metadata": {
      "needs_background": "light"
     },
     "output_type": "display_data"
    }
   ],
   "source": [
    "graph_type = {'distribution': 'centroids', 'num_cent': 'poisson', 'lambda': 'deafult'}\n",
    "\n",
    "dots, _, d = graph_generation(n=50, bsz=1, graph_type=graph_type)\n",
    "\n",
    "fig = plt.figure(figsize=(8,8))\n",
    "plt.scatter(dots[0, :,0], dots[0, :,1])\n",
    "plt.scatter(d['centroids'][0, :, 0], d['centroids'][0, :, 1], c='r')\n",
    "plt.grid()\n",
    "plt.xlim([0, 1])\n",
    "plt.ylim([0, 1])"
   ]
  },
  {
   "cell_type": "code",
   "execution_count": 191,
   "metadata": {},
   "outputs": [
    {
     "data": {
      "text/plain": [
       "(0, 1)"
      ]
     },
     "execution_count": 191,
     "metadata": {},
     "output_type": "execute_result"
    },
    {
     "data": {
      "image/png": "[encoded data removed]",
      "text/plain": [
       "<Figure size 576x576 with 1 Axes>"
      ]
     },
     "metadata": {
      "needs_background": "light"
     },
     "output_type": "display_data"
    }
   ],
   "source": [
    "graph_type = {'distribution': 'uniform'}\n",
    "\n",
    "dots, _, d = graph_generation(n=50, bsz=1, graph_type=graph_type)\n",
    "\n",
    "fig = plt.figure(figsize=(8,8))\n",
    "plt.scatter(dots[0,:,0], dots[0,:,1])\n",
    "plt.grid()\n",
    "plt.xlim([0, 1])\n",
    "plt.ylim([0, 1])"
   ]
  },
  {
   "cell_type": "code",
   "execution_count": 190,
   "metadata": {},
   "outputs": [
    {
     "data": {
      "text/plain": [
       "(0, 1)"
      ]
     },
     "execution_count": 190,
     "metadata": {},
     "output_type": "execute_result"
    },
    {
     "data": {
      "image/png": "[encoded data removed]",
      "text/plain": [
       "<Figure size 576x576 with 1 Axes>"
      ]
     },
     "metadata": {
      "needs_background": "light"
     },
     "output_type": "display_data"
    }
   ],
   "source": [
    "graph_type = {'distribution': 'normal_capped', 'sigma': 'default', 'cov': 'default'}\n",
    "\n",
    "dots, _, d = graph_generation(n=50, bsz=1, graph_type=graph_type)\n",
    "\n",
    "fig = plt.figure(figsize=(8,8))\n",
    "plt.scatter(dots[0,:,0], dots[0,:,1])\n",
    "plt.grid()\n",
    "plt.xlim([0, 1])\n",
    "plt.ylim([0, 1])"
   ]
  },
  {
   "cell_type": "code",
   "execution_count": 197,
   "metadata": {},
   "outputs": [
    {
     "data": {
      "text/plain": [
       "array([ 59, 211, 368, 400, 397, 270, 178,  73,  31,   7,   5,   0,   1],\n",
       "      dtype=int64)"
      ]
     },
     "execution_count": 197,
     "metadata": {},
     "output_type": "execute_result"
    }
   ],
   "source": [
    "l = 3.5\n",
    "sample = np.random.poisson(l, size=(n))\n",
    "sample[sample > n] = n\n",
    "np.bincount(sample)"
   ]
  },
  {
   "cell_type": "code",
   "execution_count": 153,
   "metadata": {},
   "outputs": [
    {
     "data": {
      "text/plain": [
       "array([0, 3, 0, ..., 0, 0, 1])"
      ]
     },
     "execution_count": 153,
     "metadata": {},
     "output_type": "execute_result"
    }
   ],
   "source": [
    "sample"
   ]
  },
  {
   "cell_type": "code",
   "execution_count": 59,
   "metadata": {},
   "outputs": [
    {
     "data": {
      "text/plain": [
       "(array([751.,   0., 743.,   0., 358.,   0., 111.,   0.,  30.,   7.]),\n",
       " array([0. , 0.5, 1. , 1.5, 2. , 2.5, 3. , 3.5, 4. , 4.5, 5. ]),\n",
       " <a list of 10 Patch objects>)"
      ]
     },
     "execution_count": 59,
     "metadata": {},
     "output_type": "execute_result"
    },
    {
     "data": {
      "image/png": "[encoded data removed]",
      "text/plain": [
       "<Figure size 432x288 with 1 Axes>"
      ]
     },
     "metadata": {
      "needs_background": "light"
     },
     "output_type": "display_data"
    }
   ],
   "source": [
    "plt.hist(sample)"
   ]
  }
 ],
 "metadata": {
  "kernelspec": {
   "display_name": "Python 3",
   "language": "python",
   "name": "python3"
  },
  "language_info": {
   "codemirror_mode": {
    "name": "ipython",
    "version": 3
   },
   "file_extension": ".py",
   "mimetype": "text/x-python",
   "name": "python",
   "nbconvert_exporter": "python",
   "pygments_lexer": "ipython3",
   "version": "3.7.6"
  }
 },
 "nbformat": 4,
 "nbformat_minor": 4
}
